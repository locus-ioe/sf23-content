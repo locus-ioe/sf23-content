{
  "nbformat": 4,
  "nbformat_minor": 0,
  "metadata": {
    "colab": {
      "name": "Numpy-Pandas.ipynb",
      "provenance": [],
      "collapsed_sections": []
    },
    "kernelspec": {
      "name": "python3",
      "display_name": "Python 3"
    },
    "language_info": {
      "name": "python"
    }
  },
  "cells": [
    {
      "cell_type": "markdown",
      "source": [
        "# Numpy"
      ],
      "metadata": {
        "id": "TlfYkEZAHDMB"
      }
    },
    {
      "cell_type": "markdown",
      "source": [
        "## Why numpy?? "
      ],
      "metadata": {
        "id": "dZdqg8YnWM71"
      }
    },
    {
      "cell_type": "code",
      "source": [
        "import numpy as np\n",
        "from timeit import timeit\n",
        "\n",
        "def NPFunc():\n",
        "    np.sum(np.power(np.arange(1,2000000), 2))\n",
        "    return None\n",
        "\n",
        "\n",
        "def PyFunc():\n",
        "    sum([x*x for x in range(1,2000000)])\n",
        "    # res = 0\n",
        "    # for x in range(1,200000):\n",
        "    #     res += math.pow(x,2)\n",
        "    return None\n",
        "\n",
        "\n",
        "print(timeit(NPFunc, number=1))\n",
        "print(timeit(PyFunc, number=1))"
      ],
      "metadata": {
        "colab": {
          "base_uri": "https://localhost:8080/"
        },
        "id": "ZjWeNa3Uqx29",
        "outputId": "97c461e6-b63a-42c8-dd06-b9afbe3b7bb6"
      },
      "execution_count": 1,
      "outputs": [
        {
          "output_type": "stream",
          "name": "stdout",
          "text": [
            "0.029838398999999072\n",
            "0.4973828640000022\n"
          ]
        }
      ]
    },
    {
      "cell_type": "markdown",
      "source": [
        "Numpy operations are a lot faster than built in python operations."
      ],
      "metadata": {
        "id": "eMdKCajitpxA"
      }
    },
    {
      "cell_type": "markdown",
      "source": [
        "## Numpy array declaration and initialization"
      ],
      "metadata": {
        "id": "Cibd73s6HGSz"
      }
    },
    {
      "cell_type": "code",
      "source": [
        "arr1 = np.array([]) # declares an empty array\n",
        "print(arr1)\n",
        "\n",
        "sample_list = [1, 2, 3, 4, 5]\n",
        "arr2 = np.array(sample_list) # initializes a numpy array using python list\n",
        "print(arr2)"
      ],
      "metadata": {
        "id": "vH6ODaEfC9nd",
        "colab": {
          "base_uri": "https://localhost:8080/"
        },
        "outputId": "38d9d5a4-390d-4826-8d05-120023bfe8f9"
      },
      "execution_count": 2,
      "outputs": [
        {
          "output_type": "stream",
          "name": "stdout",
          "text": [
            "[]\n",
            "[1 2 3 4 5]\n"
          ]
        }
      ]
    },
    {
      "cell_type": "markdown",
      "source": [
        "## Creating 1D and 2D array and initialize with zero"
      ],
      "metadata": {
        "id": "wwT-GvK-I7rP"
      }
    },
    {
      "cell_type": "code",
      "source": [
        "#creates 1D array containing zeros\n",
        "np.zeros(shape=3)"
      ],
      "metadata": {
        "colab": {
          "base_uri": "https://localhost:8080/"
        },
        "id": "rweNBu4EJn--",
        "outputId": "1cc05ef9-a4ea-4859-efb6-c5f3ef4f71b8"
      },
      "execution_count": null,
      "outputs": [
        {
          "output_type": "execute_result",
          "data": {
            "text/plain": [
              "array([0., 0., 0.])"
            ]
          },
          "metadata": {},
          "execution_count": 3
        }
      ]
    },
    {
      "cell_type": "code",
      "source": [
        "#creates 2D array containing zeros\n",
        "np.zeros(shape=(3,3))#tuple must be provided as an input,(3,3) makes 2D matrix of size 3*3"
      ],
      "metadata": {
        "colab": {
          "base_uri": "https://localhost:8080/"
        },
        "id": "r4DXx8CPJr8U",
        "outputId": "e882b5b0-04b5-4151-c012-ba4798099df2"
      },
      "execution_count": null,
      "outputs": [
        {
          "output_type": "execute_result",
          "data": {
            "text/plain": [
              "array([[0., 0., 0.],\n",
              "       [0., 0., 0.],\n",
              "       [0., 0., 0.]])"
            ]
          },
          "metadata": {},
          "execution_count": 4
        }
      ]
    },
    {
      "cell_type": "markdown",
      "source": [
        "## Creating 1D and 2D array and initialize with one"
      ],
      "metadata": {
        "id": "MgUlNmvkK6HU"
      }
    },
    {
      "cell_type": "code",
      "source": [
        "#creates 1D array containing ones\n",
        "np.ones(shape=3)"
      ],
      "metadata": {
        "colab": {
          "base_uri": "https://localhost:8080/"
        },
        "id": "IQZ1uB6VJ0Z2",
        "outputId": "3ff86e6a-3619-4fed-f575-3c2e85fa4934"
      },
      "execution_count": 3,
      "outputs": [
        {
          "output_type": "execute_result",
          "data": {
            "text/plain": [
              "array([1., 1., 1.])"
            ]
          },
          "metadata": {},
          "execution_count": 3
        }
      ]
    },
    {
      "cell_type": "code",
      "source": [
        "#creates 2D array containing ones\n",
        "np.ones(shape=(3,2))"
      ],
      "metadata": {
        "colab": {
          "base_uri": "https://localhost:8080/"
        },
        "id": "yRjVJ9pfKHge",
        "outputId": "c9644e93-eb03-4ce6-d3c1-afd8af0af0a5"
      },
      "execution_count": 4,
      "outputs": [
        {
          "output_type": "execute_result",
          "data": {
            "text/plain": [
              "array([[1., 1.],\n",
              "       [1., 1.],\n",
              "       [1., 1.]])"
            ]
          },
          "metadata": {},
          "execution_count": 4
        }
      ]
    },
    {
      "cell_type": "markdown",
      "source": [
        "## Creating identity matrix"
      ],
      "metadata": {
        "id": "gklFQb_6K_Bt"
      }
    },
    {
      "cell_type": "code",
      "source": [
        "np.eye(4) #4*4 identity matrix"
      ],
      "metadata": {
        "colab": {
          "base_uri": "https://localhost:8080/"
        },
        "id": "7YgZowjUJuSC",
        "outputId": "44246156-d3ef-4283-d903-88405684b5dc"
      },
      "execution_count": 5,
      "outputs": [
        {
          "output_type": "execute_result",
          "data": {
            "text/plain": [
              "array([[1., 0., 0., 0.],\n",
              "       [0., 1., 0., 0.],\n",
              "       [0., 0., 1., 0.],\n",
              "       [0., 0., 0., 1.]])"
            ]
          },
          "metadata": {},
          "execution_count": 5
        }
      ]
    },
    {
      "cell_type": "markdown",
      "source": [
        "## Random values"
      ],
      "metadata": {
        "id": "cPldkgsKKyWl"
      }
    },
    {
      "cell_type": "code",
      "source": [
        "#1D array\n",
        "np.random.rand(5)# Generate an array of random values of length 5 and values lies between 0 & 1"
      ],
      "metadata": {
        "id": "IwsZ9f9BIe5R",
        "colab": {
          "base_uri": "https://localhost:8080/"
        },
        "outputId": "5c18cb3e-f24c-4c76-a25e-0440b22741a9"
      },
      "execution_count": 6,
      "outputs": [
        {
          "output_type": "execute_result",
          "data": {
            "text/plain": [
              "array([0.94558025, 0.95947647, 0.19921073, 0.13523719, 0.55870915])"
            ]
          },
          "metadata": {},
          "execution_count": 6
        }
      ]
    },
    {
      "cell_type": "code",
      "source": [
        "#2D array\n",
        "np.random.rand(2,3)# Generate an array of random values of shape 2*3"
      ],
      "metadata": {
        "colab": {
          "base_uri": "https://localhost:8080/"
        },
        "id": "PuWs9IfYLmHC",
        "outputId": "91269950-d32f-4554-a93b-6d03f8bac14b"
      },
      "execution_count": 7,
      "outputs": [
        {
          "output_type": "execute_result",
          "data": {
            "text/plain": [
              "array([[0.602467  , 0.44441528, 0.54233334],\n",
              "       [0.926806  , 0.11022771, 0.82283922]])"
            ]
          },
          "metadata": {},
          "execution_count": 7
        }
      ]
    },
    {
      "cell_type": "code",
      "source": [
        "np.random.randint(1,100)# select a random integer between 1 to 100"
      ],
      "metadata": {
        "id": "_01V7Z4EIe2B",
        "colab": {
          "base_uri": "https://localhost:8080/"
        },
        "outputId": "6e8bae69-f42d-49ce-a7f9-17a09afea0cf"
      },
      "execution_count": 8,
      "outputs": [
        {
          "output_type": "execute_result",
          "data": {
            "text/plain": [
              "74"
            ]
          },
          "metadata": {},
          "execution_count": 8
        }
      ]
    },
    {
      "cell_type": "markdown",
      "source": [
        "## Attributes of numpy array"
      ],
      "metadata": {
        "id": "6nUxuVbsMA-O"
      }
    },
    {
      "cell_type": "code",
      "source": [
        "x = np.array([1, 2, 3])#1D\n",
        "y = np.array([1.1, 2.8, 1, 3])#1D\n",
        "z = np.random.rand(3,4)#2D"
      ],
      "metadata": {
        "id": "Y_WjAR86Iezx"
      },
      "execution_count": 12,
      "outputs": []
    },
    {
      "cell_type": "code",
      "source": [
        "x.dtype# returns the data type of numpy array"
      ],
      "metadata": {
        "id": "HhHtIWUhIewL",
        "colab": {
          "base_uri": "https://localhost:8080/"
        },
        "outputId": "5c98c74d-c9fe-4d92-8e27-cc84e19a6c6d"
      },
      "execution_count": 10,
      "outputs": [
        {
          "output_type": "execute_result",
          "data": {
            "text/plain": [
              "dtype('int64')"
            ]
          },
          "metadata": {},
          "execution_count": 10
        }
      ]
    },
    {
      "cell_type": "code",
      "source": [
        "y.dtype"
      ],
      "metadata": {
        "id": "fEJFUi8JIeuM",
        "colab": {
          "base_uri": "https://localhost:8080/"
        },
        "outputId": "8cfe7737-3d87-4a9d-ce7c-5900c8f1b8bc"
      },
      "execution_count": 11,
      "outputs": [
        {
          "output_type": "execute_result",
          "data": {
            "text/plain": [
              "dtype('float64')"
            ]
          },
          "metadata": {},
          "execution_count": 11
        }
      ]
    },
    {
      "cell_type": "code",
      "source": [
        "x.astype(dtype='float64')#changes the data type of the numpy array"
      ],
      "metadata": {
        "id": "BfwqrahtIer6",
        "colab": {
          "base_uri": "https://localhost:8080/"
        },
        "outputId": "252949c8-3ea0-4233-c139-702801d772c7"
      },
      "execution_count": null,
      "outputs": [
        {
          "output_type": "execute_result",
          "data": {
            "text/plain": [
              "array([1., 2., 3.])"
            ]
          },
          "metadata": {},
          "execution_count": 14
        }
      ]
    },
    {
      "cell_type": "code",
      "source": [
        "y.astype(dtype='int64')"
      ],
      "metadata": {
        "id": "w4wgsrvwIeps",
        "colab": {
          "base_uri": "https://localhost:8080/"
        },
        "outputId": "bfd95808-eb1c-40bc-a0f2-4b58877711e9"
      },
      "execution_count": 13,
      "outputs": [
        {
          "output_type": "execute_result",
          "data": {
            "text/plain": [
              "array([1, 2, 1, 3])"
            ]
          },
          "metadata": {},
          "execution_count": 13
        }
      ]
    },
    {
      "cell_type": "code",
      "source": [
        "x.ndim #gives the number of dimension in the array"
      ],
      "metadata": {
        "id": "twemqbJHIenV",
        "colab": {
          "base_uri": "https://localhost:8080/"
        },
        "outputId": "0554fd83-9f09-46bc-ba58-1d1e8365bf69"
      },
      "execution_count": 14,
      "outputs": [
        {
          "output_type": "execute_result",
          "data": {
            "text/plain": [
              "1"
            ]
          },
          "metadata": {},
          "execution_count": 14
        }
      ]
    },
    {
      "cell_type": "code",
      "source": [
        "z.ndim"
      ],
      "metadata": {
        "id": "r_m9Mmp1Iela",
        "colab": {
          "base_uri": "https://localhost:8080/"
        },
        "outputId": "69b79ec8-4bc9-4e2f-c68f-73a7524ffa54"
      },
      "execution_count": 15,
      "outputs": [
        {
          "output_type": "execute_result",
          "data": {
            "text/plain": [
              "2"
            ]
          },
          "metadata": {},
          "execution_count": 15
        }
      ]
    },
    {
      "cell_type": "code",
      "source": [
        "x.shape #gives the shape of an array"
      ],
      "metadata": {
        "id": "N4JZvfWGIejA",
        "colab": {
          "base_uri": "https://localhost:8080/"
        },
        "outputId": "34de053c-ace2-44e8-920f-9e985303e6a4"
      },
      "execution_count": 16,
      "outputs": [
        {
          "output_type": "execute_result",
          "data": {
            "text/plain": [
              "(3,)"
            ]
          },
          "metadata": {},
          "execution_count": 16
        }
      ]
    },
    {
      "cell_type": "code",
      "source": [
        "z.shape"
      ],
      "metadata": {
        "id": "YP334AQfIedP",
        "colab": {
          "base_uri": "https://localhost:8080/"
        },
        "outputId": "b9bc6d34-430d-4b7d-b9f2-6cc02fa8c6a5"
      },
      "execution_count": 17,
      "outputs": [
        {
          "output_type": "execute_result",
          "data": {
            "text/plain": [
              "(3, 4)"
            ]
          },
          "metadata": {},
          "execution_count": 17
        }
      ]
    },
    {
      "cell_type": "code",
      "source": [
        "x.size #gives total number of elements in the array"
      ],
      "metadata": {
        "id": "71roOMYDIeaq",
        "colab": {
          "base_uri": "https://localhost:8080/"
        },
        "outputId": "e7c4a24d-8ae0-4f26-c961-70f386d159e8"
      },
      "execution_count": 18,
      "outputs": [
        {
          "output_type": "execute_result",
          "data": {
            "text/plain": [
              "3"
            ]
          },
          "metadata": {},
          "execution_count": 18
        }
      ]
    },
    {
      "cell_type": "code",
      "source": [
        "z.size"
      ],
      "metadata": {
        "id": "h4pRIa1QIeYX",
        "colab": {
          "base_uri": "https://localhost:8080/"
        },
        "outputId": "29eda618-f7f4-4e43-f794-ce4a8e059cf2"
      },
      "execution_count": 19,
      "outputs": [
        {
          "output_type": "execute_result",
          "data": {
            "text/plain": [
              "12"
            ]
          },
          "metadata": {},
          "execution_count": 19
        }
      ]
    },
    {
      "cell_type": "code",
      "source": [
        "#reshape an array from 1D to 2D\n",
        "print(f\"y before reshape:\\n{y}\\n\")\n",
        "print(f\"y after reshape: \\n{y.reshape(2,2)}\")#reshapes the array -->size of the array should be same while reshaping"
      ],
      "metadata": {
        "colab": {
          "base_uri": "https://localhost:8080/"
        },
        "id": "MuLLn0ogNmzj",
        "outputId": "134979fc-e45c-4a19-a490-068a836b07f4"
      },
      "execution_count": 22,
      "outputs": [
        {
          "output_type": "stream",
          "name": "stdout",
          "text": [
            "y before reshape:\n",
            "[1.1 2.8 1.  3. ]\n",
            "\n",
            "y after reshape: \n",
            "[[1.1 2.8]\n",
            " [1.  3. ]]\n"
          ]
        }
      ]
    },
    {
      "cell_type": "code",
      "source": [
        "print(f\"z before reshape:\\n{z}\\n\")# 3 rows 4 cloumns\n",
        "print(f\"z after reshape:\\n{z.reshape(4,3)}\")#reshapes to 4 rows 3 cloumns"
      ],
      "metadata": {
        "colab": {
          "base_uri": "https://localhost:8080/"
        },
        "id": "8J89-0zdOPuK",
        "outputId": "1caddbf1-ca54-4042-f3fc-13846264991a"
      },
      "execution_count": 23,
      "outputs": [
        {
          "output_type": "stream",
          "name": "stdout",
          "text": [
            "z before reshape:\n",
            "[[0.12975586 0.40850878 0.22285784 0.62197612]\n",
            " [0.04590619 0.13044902 0.12605415 0.08418587]\n",
            " [0.01843059 0.57758455 0.98372901 0.53596404]]\n",
            "\n",
            "z after reshape:\n",
            "[[0.12975586 0.40850878 0.22285784]\n",
            " [0.62197612 0.04590619 0.13044902]\n",
            " [0.12605415 0.08418587 0.01843059]\n",
            " [0.57758455 0.98372901 0.53596404]]\n"
          ]
        }
      ]
    },
    {
      "cell_type": "code",
      "source": [
        "#converting multidimensional array to 1D array\n",
        "print(z.ravel())"
      ],
      "metadata": {
        "colab": {
          "base_uri": "https://localhost:8080/"
        },
        "id": "niFLYsHSOtQs",
        "outputId": "9452b67a-2f44-4af6-82eb-8497e18593f9"
      },
      "execution_count": 24,
      "outputs": [
        {
          "output_type": "stream",
          "name": "stdout",
          "text": [
            "[0.12975586 0.40850878 0.22285784 0.62197612 0.04590619 0.13044902\n",
            " 0.12605415 0.08418587 0.01843059 0.57758455 0.98372901 0.53596404]\n"
          ]
        }
      ]
    },
    {
      "cell_type": "markdown",
      "source": [
        "## Summary Statistics in the array"
      ],
      "metadata": {
        "id": "6KOWm7rRP_jo"
      }
    },
    {
      "cell_type": "code",
      "source": [
        "# For 1D array\n",
        "mat1D=np.array([1,2,3,4,5,6,7])\n",
        "print(f\"mean: {np.mean(mat1D)}\")\n",
        "print(f\"min: {np.min(mat1D)}\")\n",
        "print(f\"max: {np.max(mat1D)}\")\n",
        "print(f\"std: {np.std(mat1D)}\")\n",
        "print(f\"median: {np.median(mat1D)}\")\n",
        "print((f\"index of max element:{np.argmax(mat1D)}\"))"
      ],
      "metadata": {
        "colab": {
          "base_uri": "https://localhost:8080/"
        },
        "id": "uJbSq1ZzPERY",
        "outputId": "fb9971fc-7890-4e52-d00d-2097eeb737f9"
      },
      "execution_count": 25,
      "outputs": [
        {
          "output_type": "stream",
          "name": "stdout",
          "text": [
            "mean: 4.0\n",
            "min: 1\n",
            "max: 7\n",
            "std: 2.0\n",
            "median: 4.0\n",
            "index of max element:6\n"
          ]
        }
      ]
    },
    {
      "cell_type": "code",
      "source": [
        ""
      ],
      "metadata": {
        "id": "Az5HpG020DVm"
      },
      "execution_count": null,
      "outputs": []
    },
    {
      "cell_type": "code",
      "source": [
        "# For 2D array\n",
        "axis = 0\n",
        "mat2D=np.array([[1,7,3],[4,5,6]])\n",
        "print(f\"array: {mat2D}\")\n",
        "print(f\"mean: {np.mean(mat2D,axis=axis)}\")\n",
        "print(f\"min: {np.min(mat2D,axis=axis)}\")\n",
        "print(f\"max: {np.max(mat2D,axis=axis)}\")\n",
        "print(f\"std: {np.std(mat2D,axis=axis)}\")\n",
        "print(f\"median: {np.median(mat2D,axis=axis)}\")\n",
        "print((f\"index of max element:{np.argmax(mat2D,axis=axis)}\"))"
      ],
      "metadata": {
        "colab": {
          "base_uri": "https://localhost:8080/"
        },
        "id": "v1aO1PYiQmW9",
        "outputId": "2dd547c0-35e7-4d79-edb7-ec1b78f87419"
      },
      "execution_count": 76,
      "outputs": [
        {
          "output_type": "stream",
          "name": "stdout",
          "text": [
            "array: [[1 7 3]\n",
            " [4 5 6]]\n",
            "mean: [2.5 6.  4.5]\n",
            "min: [1 5 3]\n",
            "max: [4 7 6]\n",
            "std: [1.5 1.  1.5]\n",
            "median: [2.5 6.  4.5]\n",
            "index of max element:[1 0 1]\n"
          ]
        }
      ]
    },
    {
      "cell_type": "markdown",
      "source": [
        "parameter: axis defines the direction along which the operations are to be performed."
      ],
      "metadata": {
        "id": "2UKRMr5evBUB"
      }
    },
    {
      "cell_type": "markdown",
      "source": [
        "![image.png](data:image/png;base64,iVBORw0KGgoAAAANSUhEUgAAAuAAAAGyCAYAAAClcHFoAAAABHNCSVQICAgIfAhkiAAAABl0RVh0U29mdHdhcmUAZ25vbWUtc2NyZWVuc2hvdO8Dvz4AAAAvdEVYdENyZWF0aW9uIFRpbWUAU2F0IDA5IEp1bCAyMDIyIDEyOjQwOjMyIFBNICswNTQ1xRWTTAAAIABJREFUeJzs3Xd4FNX+P/D3zOxuKkkgdEGQXiK9XBDhSi9SFESkN1FEkHr1ilekXURB8CLSpQmICKICUZqAhHop+UKoFnoLEELqlpnz+4PfzN1NNhAgmWzC+/U8eZQtM2dnZ3bee/ZzzkhCCAEiIiIiIjKFnNMNICIiIiJ6kjCAExERERGZiAGciIiIiMhEDOBERERERCZiACciIiIiMhEDOBERERGRiRjAiYiIiIhMxABORERERGQiBnAiIiIiIhMxgBMRERERmYgBnIiIiIjIRAzgREREREQmYgAnIiIiIjIRAzgRERERkYkYwImIiIiITMQATkRERERkIgZwIiIiIiITMYATEREREZmIAZyIiIiIyEQM4EREREREJmIAJyIiIiIyEQM4EREREZGJGMCJiIiIiEzEAE5EREREZCIGcCIiIiIiEzGAExERERGZiAGciIiIiMhEDOBERERERCZiACciIiIiMhEDOBERERGRiRjAiYiIiIhMxABORERERGQiBnAiIiIiIhMxgBMRERERmYgBnIiIiIjIRAzgREREREQmYgAnIiIiIjIRAzgRERERkYkYwImIiIiITMQATkRERERkIgZwIiIiIiITMYATEREREZmIAZyIiIiIyEQM4EREREREJmIAJyIiIiIyEQM4EREREZGJGMCJiIiIiEzEAE5EREREZCIGcCIiIiIiEzGAExERERGZiAGciIiIiMhEDOBERERERCZiACciIiIiMhEDOBERERGRiRjAiYiymMvlAgAIIXK4JURE5IsYwImIspjFYgEASJKE1NTUHG4NERH5GgZwIqIspvd8jxs3Dn/729+wevXqHG4RERH5EknwN1IioiylqiqEEAgNDYXD4UDp0qVx9uzZbFnXiRMnMHfuXNhsNo/bJUlCjRo10KNHj2xZLxERPTpLTjeAiCivkWUZkiQhPDwcV69eReXKlbNtXcnJyZg1axYAQFEU43ZVVdGvXz8GcCIiH8QATkSUxSRJAgDs2LEDp06dwnPPPZdt6ypVqhTmz5/vcduSJUuwZ88eox1ERORbGMCJiLJJmTJlUKZMmWxdR6FChfD666973LZ3717s2bPHGAxKRES+hZ/ORER5hD6kh0N7iIh8GwM4EeVpQggcP34c69evx/bt23H16lVYLBZYLBZUqVIFzz//PLp164b8+fND0zSjbCMmJgYjR45EQkICBgwYgP79+0OW008clZCQgC5dusDhcKBQoUJYvnw5/Pz8AABjxozBgQMHMHToUHTp0sVoj76enTt34quvvsKNGzdw+vRpKIqC8uXLo2rVqqhYsSI6duyIIkWKPNRrvd+/iYjINzCAE1Gepaoqhg8fjtmzZ8Nms8Fut0NRFGiaBiEEoqOj8d133+Hf//43Tpw4AX9/f6NsIyIiAsWKFcPWrVtx8uRJ1KxZE7Vr1063jjlz5mDz5s2QJAknTpwwwreqqjh06BAOHjyIGzduGI8XQkBVVfTt2xdr1qyBpmnQNA1WqxVOpxN//vkntm7dClVV8dZbb+HAgQOoVatWpl6vEAKSJLEnnIjIxzGAE1GeFRkZiXnz5kGSJDRu3Bg9e/bEU089haJFiyI2NhZr1qzBwoULceXKFbzyyiv48ccfjedqmoYvv/wSly5dwvbt29GrVy9s2bIFTz31lPGY9evXY/z48QCAWbNmoVKlSsZ9iqIgODgYKSkpAP4XhmVZxnfffYe1a9fC5XJh0KBB6Ny5M5566ikkJyfj2rVriImJwZdffong4GCULFnSjE1FREQmYgAnojyrUaNGRvDu0aMHrFYrNE0zSkkaNGiAAgUKYNKkSfjll1+wd+9eNG7cGJIkQZIkBAUFYebMmWjWrBlOnjyJIUOG4LvvvoPFYsFff/2FwYMHIzk5Gb169cKQIUPSrV+/JL2macZtQgiMHj0aqqqiZcuW+OyzzxAUFOTxvPbt2+PNN99EamoqChYsmI1biIiIcgKvhElEeVZYWBgiIyPRq1cvWK1WAP8rAQEAPz8/jB07FuHh4QCAo0ePplvGs88+i9WrVyM0NBSRkZGYNWsWEhMT0bRpU9y4cQM1a9bE7NmzM90mIQSuXbsGTdNQrFixdOHb6XQabS9atCjLSIiI8iAGcCLKs1wuF6xWq0eIVRQFiqIYgyGtVivKlSsHm82Ga9eueQ28jRs3xrBhwyCEwMiRI9GpUyecO3cOzzzzDBYvXozg4OBMt0mWZTRo0ACyLGPnzp345ZdfkJiYaPSW67XguoeZy1vvudefw3nAiYh8E0tQiCjP0gdUSpKEY8eOYd++fbhy5Qp+//13BAYGGqUhD7pMvKIomDBhAg4fPoyNGzdi27ZtUBQF06ZNQ/Xq1eF0Oo0e9syYO3cuatasiXPnzqF169YIDw9H586d0bVrVzRt2hSqqj7U8oiIKHdhACeiPMvlcmHq1KlYuHAhLl++DKfTCYvFYvQ26/SacFVVjVlEvPUeDx48GDt37kRiYiLy58+Pv//97w8dvoUQqFy5Mvbs2YN//etf2LFjB27duoX58+dj0aJFUBQFJUqUwCuvvIIPPvjgoXrXiYgod2AJChHlWVu3bsWUKVNw+fJl1K1bFwsWLMD69etx9OhRHDhwAAcOHMD+/ftRq1YtaJpmlKa4/+nlIFeuXMHw4cORmJgIPz8/3Lx5EzNmzEhX4pIZiqKgbt26+OWXX/D7779j1qxZ6NKlC6pXr47Q0FD89ddf+OSTT1CkSBGcOXMmOzYNERHlIPaAE1GetXjxYiQnJ6NDhw5Ys2aNx6XZ3Xu4CxcuDMBzthLgXm+1oihQVRWDBg3Cn3/+CQAYO3YsPvzwQ0ycOBHVqlVD586dM+w1f5AiRYrg7bffxttvv43k5GTcvXsXn3/+OebOnYs7d+5g/vz5mDZt2qO8fCIi8lHsASeiPOvIkSMQQqB+/fqwWq0egxT1sB0fH49z584BgHGFSr0kRQ/UH374ISIjIxEcHIyjR49i5MiReP311wEAw4cPx+nTpzPdC+7eBofDAZvNZtwXGBiIokWLYvLkyXj11VehKAp7wImI8iAGcCLKs8qWLQsA+Ouvv9LdJ8syUlJSMH78eKNnW1EU436n0wlJkvDDDz/g3//+NzRNw/Dhw1GtWjUEBgZi5syZqFOnDi5duoQWLVoYF9zJjFmzZuHMmTNGj7x7eNe/GNjtdqiqCrvd/vAvnIiIfBoDOBHlWR07dgQArFy5EqNHj8a1a9cA3BuceeLECQwZMgSzZ89Gamqqx/OEELBarbh27RqGDx8OWZbRu3dvfPDBB8al4wMDA7Fs2TKEhYXh4sWLeOutt4xL3OvL0LmXphw+fBijRo1CzZo10aZNG8yfPx979+5FbGwsrl69iv3796Nnz574+uuvAcDoac8MWZaN2nUiIvJdrAEnojyrZ8+eWLNmDXbt2oXPP/8c06dPR7FixRAXF2eE5bJly6JcuXLYsGEDVFU1wuvNmzfRokULXLx4EWXKlMEnn3wCRVE8wnSlSpWwaNEi9OzZE8uWLcMLL7yAnj17QpZlaJpmXPBHVVWjZzs5ORlVqlTBH3/8ga1bt2Lz5s3GzCvAvV54WZbh7++P9u3bo1OnTg/9ujn/NxGRb2MPOBHlWf7+/tiwYQMWL16M4sWLAwBu3LgBu92OwoULY8KECYiKikLx4sUhSZJRgiJJElauXInjx48jJCQEGzZsMK6WmVb79u3Rv39/AMDQoUMRHR0NWZaNPwAe/27YsCF27tyJjRs3YsCAAciXL5/HAM6AgAC0bdsWkZGRWLZsWbqBoffjcrkgy7JHKQ0REfkeSfC3SiJ6gly/fh3BwcHw9/f3CKruH4X6/z+oJ9m95zqt+82Kot+uT3GYmpoKu90Oi8WCsLCwzL+Yh1gnERH5DgZwInpi6PXRes+0fpvZ0obkzAZ+IiLKG1gDTkRPDH36P+B/vcUMvUREZDb2gBMRERERmYiDMImIiIh8FPtJ8yYGcCIiIiIfJYTAq6++ilWrVuH69esAYEyjynn/cy+WoBARERH5KFVV0bJlSyiKAovFgl69eqFLly6wWq0cwJ2LMYATERER+Sg9gGuaBkmSIMsyihUrhiZNmuCVV15BaGgoVFWFLMsM4rkIAzgRERGRj1JVFS1atPB6X2hoKHr37o0GDRqgYMGCsFg4uV1uwQBORERE5KMyCuCSJMHlcsFqtSI0NBTNmzdHnz59EBgYmAOtpIfFAE5ERETko+7XA67TS08KFiyIF198Ea1bt0aBAgVYluLDGMCJiIiIfFRmArjOYrFAlmU4nU706dMHXbt2hb+/Pwdr+iAGcCLKszRNy+kmEBE9FlmW0bRp00w/XtM0KIoCSZJQqFAh/P3vf0fXrl0REhICRVGMxzGU5ywGcCLKc/TLzBMR5QUvvPDCI3+maZqGfPnyoU+fPnj++edRsGBBKIrCAJ7DGMCJKM/p1q0bLBaL1wtU8GRDRL5O/5zSa7gvXrz4yBfcURQFTqcTwL1ZU1588UX07t0bNpvNY11kLgZwIspzmjVrltNNICJ6bLJ874Llj3vFy7TPLViwIDp06IDWrVsjLCwMkiR5lKdQ9mMAJ6I8RQiB5s2b53QziIgeW3YFcH2wpsvlQp8+ffDKK6/A39//sdpKD4czthNRnuXtp1X2ORBRbpSVpSKqqsLpdMJisWDJkiWIjY1F3759UaBAgSxbB90fAzgR5VkM4ESUFzxO+Pb2madpGqxWK0qWLIlevXqhcePGkGWZAzNNxABORERE9AQpX748+vbti6pVqyIkJASapsHlcrEO3EQM4ESU53Tr1i3DHhz27BBRbqEH4uXLlxu36XXhD0OSJMiyjGeffRadOnVCnTp1PGq+H2WZ9Hg4CJOI8hxVVdmTQ0R5QtqB5Q8bli0WC4oWLYr+/fujfv36sNlsDyzFY0dF9mMPOBHlOXr49jZzAE8sRJRbPOpFxfQZTurVq4e2bduiRo0aCAoKgiRJxhWC+VmYsxjAiSjP8naC4UmHiHKLhy1S0AdXlipVCq+99hqef/75dJef52egb2AAJyIiIsoDypcvj379+qFq1aoIDAw0BldaLIx7vobvCBHlaWl7ezLbo8ReIiLyZfpnmSzLqFatWrrBlUKIdGNh+LnmOxjAiYiIiHIZm82GYsWKoW/fvpkeXEm+gwGciJ4o7AEiotxGVVWjR1uWZURERKBTp06oWbMmAgMDIctyusGV/KzzbQzgRERERD7MZrNBVVWUK1cOPXv2RO3atREYGOjxGAbu3IUBnIiIiMgH6aG6dOnSePfdd1GsWLF0wZtyJ16Ih4iIiMgHcdrAvIvXHiUiIiLyQQzfeRcDOBERERGRiRjAiYiIiIhMxABORERERGQiBnAiIiIiIhMxgBMRERERmYgBnIiIiIjIRAzgREREREQmYgAnIiIiIjIRAzgRERERkYkYwImIiIiITMQATkRERERkIgZwIiIiIiITMYATEREREZmIAZyIiIiIyEQM4EREREREJmIAJyIiIiIyEQM4EREREZGJGMCJiIiIiEzEAE5EREREZCIGcCIiIiIiEzGAExERERGZiAGciIiIiMhEDOBElCcJIXK6CUQAvO+L3D+zBrcj5VYM4ESUp5w/fx779u2DEMLjjx7erVu3sHPnzpxuRp5x/PhxHDt2jPtmFuBxnnV4nOcMBnAiIiIiIhMxgBMRERERmYgBnIiIiIjIRAzgREREREQmsuR0A4iIiJ4UkiRBkiTj/4noycQecCIiIiIiEzGAExERERGZiAGciIiIiMhEDOBERERERCZiACciIiIiMhEDOBERERGRiRjAiYiIiIhMxABORERERGQiBnAiIiIiIhMxgBMRERERmYgBnIiIiIjIRAzgREREREQmYgAnIiIiIjIRAzgRUR4jhMjpJmSrvP76iLICjxPfxgBORGQCIQQcDgcAQNM0aJpm3K6qKoQQWX7C1DTNY5l55YQsSVK62/TtmV30baeqqsf7lxdomgZVVQEADofDtNfmdDqN9bu3JTcz8zjXNA0ul8vj3+68HSfkOyw53QAioidBSkoKvv/+e7hcLuNE2aBBA1SqVAlA1p4s9WXduHEDixcvxtq1a1GmTBl07twZL774IoKCgrJsXTklMjISly5dMv5dvXp11K5dG4qiZMv6UlNTce3aNRw5cgR2ux2vvfYanE4nrFZrtqzPTMnJyVizZo3Hl4yWLVuiVKlS2ba+rVu3Yvbs2UhISECNGjXQsmVLtG7dGv7+/tmyTrOYeZzLsgyHw4GoqCh8//332L9/P/Lly4d69erh7bffRtGiRbNsXZT1GMCJiExgt9uxdetWJCcnIzExEXv27MGkSZNQqVKlbAmNcXFxaNKkCeLj4zF69GjcuHED3bp1w5tvvok5c+ZA0zTIcu77EVTv1d+2bRvOnDkDm82GPXv2oHfv3qhXr16Wr+/SpUuYPn06tm/fjsuXLyMuLg5jxoxB165d80T4Bu7tK5s2bQLwv3C8Zs2abAngqqpixIgRWLhwIUaOHIn69evj119/xauvvorGjRtj06ZNUBQFkiTlyh5cM4/zO3fuoHv37ti8eTO6deuGXr16ITY2FrNnz8ayZcsQHR2N/Pnze/S458ZtmlcxgBMRmSAkJATz5s2DxWKB3W5H06ZNs21dTqcTw4cPR4ECBbBt2zYUL14cqqqiQ4cOaNOmDVq1aoVOnTrB5XIZoSC3nJhlWYbT6cS0adOM2/r165dt6ztx4gQOHTqEVq1aoWXLlpgwYQJu3ryZa7ZXZpQsWRJr1qwBcC+MV6hQIcu/nAkhoGka3n33XURGRuLs2bN45pln4HK50KVLF3Tt2hUtW7bE119/na3vZ3Yz8zg/duwYrl27hl27dqFhw4YAAJfLhWHDhqFly5Z44403sGzZMthstjy1v+YVua/7g4goF5Jl2fjTQ2921RIfPXoUq1evxsSJE1GiRAnIsgyr1Yq//e1vqFu3LmbMmAGXy5WrTsru5RF6z7N+W3bWDbdo0QKRkZGYMGECmjdvjsDAQOPXA71uOi9ITU0FACiKAlmWs3zfEEIgNTUVP//8MwYOHIiSJUt6vJdNmjRBx44dERUVlavHKph5nDds2BAHDhwwwjcAWCwW5M+fHwMGDMDJkydz1TH+pGEPOBE9sfQBUYmJidi4cSNOnToFVVVRqlQpvPjii7Barbh58ybKly/vNZRs3LgR0dHRuHz5MqpXr46WLVuidOnSXtclSRIsFouxzuwMGTExMQgMDETNmjU9brdYLOjVqxemTp2KlJSULKsFd7lcsFgsRtDYunUrdu/eDVmWUaJECbRq1QpBQUG4du0aIiIi0j1fVVX89ttvOHToEC5cuIDKlSujcePGqFKlijFwTVEUCCE8emb19yM7S2kkSUJgYKCxLr0tmqZlW725TgiB27dvY9OmTTh69ChCQkKMfVNVVVgsFoSHhwOAR0lRamoqfvjhB5w9exaXL19G7dq10bp1azz11FNeA5kQAn5+fhBCwOl0ZktglGUZAQEBWLVqFUqWLGkcD+6qVq2KgwcPGq8tq+TV41x/v/V1uLf74sWLCAoKgsvlyjOlUnkNAzgRPbEkScKePXvQr18/2O12hIaGwmazIS4uDuPGjUPhwoVRo0YNLFmyxON5586dw6hRo7Br1y4UKlQIAPDLL79g6NChWLRoEbp06ZKpwWTZVef6xx9/IDQ01AhnwL2QqygKSpUqhfj4eCQnJyM4ODhL1q+HpdOnT6N79+6IjY1FgQIFIMsykpKSMGLECFSpUgUBAQHYunUrLBaLER6uX7+ODz74AKtXr0bhwoURHByMzZs3Y/DgwZg2bRqGDRuWrsf7SfHDDz9g2LBhUFUVBQoUgJ+fH27duoUPPvgAISEh6NatGz788EOP55w6dQr9+vXDqVOnULx4cUiShK1bt+LDDz/E8uXL8dxzzz1w38yO7azvfxEREV4Ddnx8PL788kt07twZkiRBCJFlx0ZePc7TrsPlciE5ORnR0dFYtWoVevTogYCAgGxdLz06BnAiemL9+eefaN++PV5//XUMHToUhQoVgsViwd27d7F27Vq8/fbbqFGjhvF4p9MJi8WCV155BYmJifjxxx8REREBf39/pKSkYO3atRgxYgROnTqFSZMmAfDeO5UZegBxr9P2xltY0TQNVatW9egV1e+vU6cOEhISsjQUCCGQkpKC9u3bo379+hg3bhxKlCgBm82GhIQE7Nu3D71790alSpXgdDphs9mM5/Xr1w/Hjh3DunXr8Le//Q2BgYGIj4/Hzp07MXLkSBw+fBjLly9/rF5uTdMy9XodDgesVmu6x7n3fuvbOjsClaqqRo37jh070K1bN0ybNg2vvPIKQkJCAAB3797FwoUL8cEHH8Bmsxn7lyzLiIuLQ4cOHfDUU0/hwIEDKFasGPz9/XH37l3MnTsXL7/8MmbNmoVevXp5tD/t/2fm9eltlSQpw1Ic92Xpy0vb8633tg8dOhQ3b97EyJEjs/SXBSEE/vzzT7z00kvo3r073n33XYSEhMDPzw93797FunXrMGTIEFSvXt14Tm45zt3/X/9i4HQ6cfPmTXz44Yd45513cuVA6ycFAzgRPZFcLhd69OiB1q1bY8qUKR4hIX/+/Ojbty+WL1/ucZKTZRljxozBjRs3cPz4cQQFBRknOIvFgj59+uDmzZv4+OOPMWLECISFhT3yCVCSJKxbtw6rV6++b4+koihYtWqVx21JSUkIDg72um69VCQrSZKEvn37omTJksY2c9+Wbdq0Qffu3XHw4EHjOUIIzJ49G3v37sWePXtQuXJl477Q0FB06NABqamp6Nu3L955553HmuFElmVERUXhiy++eGBAmj17NvLnz+/1PvcAnh0URYHT6YQkSRg9ejSGDh2Kt956y+N9DAgIwPvvv48lS5Z4BF9N0zBs2DAEBQVh06ZNCAgIMNpaoEABjBkzBlevXsW//vUv9OzZ87Ffw1dffYVff/0VAO5bC7969WoA3oOpvj2HDBmCyMhI7N+/H+XKlXusdqWlaRp69+6Nxo0bY9q0aUb4F0Igf/786NOnD5YtW5Yrj3N3ZcuWRdeuXXH48GEcOXIEP/30E1577TWUKFHikdpFJhBERHnIuXPnxN69e4WqqkLTNOPP2+NsNpvYv3+/EEIIVVWFy+XyeMzNmzfFuXPnjH+npqaKkiVLiunTp6dbnr4+IYQIDw8Xv/32m3C5XOnWr2maSE1NFfXr1xezZs3y2jZ9eR999JGQZVkAuO+f0+kUmqYJh8Mh7Ha7ePvtt0WtWrXSLU8IIRITE0VAQIC4fv36A7flzZs3xY4dOx74uKtXr4qCBQuKr776Kt19ervi4uLEmTNnRFJSknFfq1atxIABA9JtdyGESElJEUIIUbJkSTFnzhxjWd62V9++fcW7776bYfs0TRMrVqwQsiwLRVEy/AMgrly5kuFyVFUVzZs3F4MGDcrwfcto/UIIcezYMXHs2DGP27yt49ixY6JAgQIiNjZWOBwOr4+7fv26iI2NNbZJQkKCsFgsYvPmzcZj7HZ7uufly5dPnDlzRiQnJ3td7q1bt0TBggXFTz/9dN/XNGzYMAFAWK1WIctyhn/urystl8slevToIQCIDRs2CCGEcDqd912vLrPH+fnz50VQUJDYtWuXEEIIh8OR7jmxsbHir7/+Mp7j68d5RvR9JT4+XpQqVUo0bNjQOI7uJ7PHOWUt/jZBRE+kP/74AwEBAQgNDfX4GV8nhEB4eLjHXMi3bt1CfHw8nn766XTLcx+8VadOHWzfvv2x5jOWZRn/+te/cPfuXaSmpsJut3v9czgcRrutVqsxC8KVK1c8lqe34dKlSwgPD8/SXty4uDgkJSWhTJky6e6TJAlWqxWhoaEoV64cAgMDjcF+sbGxKFeunDGo0Z1eW9u0aVMcPXo03et4GJIkoXv37khKSsrwLzExEU6nE8WKFbvvcjJbovGoZFnGoUOHEB4eDkVRMhxAV7hwYRQsWNBoy++//47AwECEhYUZPctpnyuEQPny5bFjxw74+/s/1kDBTz/9FHa7HXfv3kVCQkKGf/p6024vp9OJHj164Mcff8TevXvRrl07AMjSwZcAcPbsWQghUKRIEQD3jhH9WNXbVLBgQY9Blb5+nGf0funvd0hICDZt2oSYmJh0nwPkO1iCQkRPpAIFCsDpdCIpKQlA+mDn7WQqSZJRO3o/qampKFCgwGOXK8iyjKCgoIcqGZFlGYUKFYIQArGxscbgMb1WNzo6GkFBQVkadIKCgqAoCuLj4zN8TNrtoGkaAgICcOPGDa/36xITExESEpIlpR++fpVFPQwXKVLEmPFFH7z4IIULF0ZycjJSUlIyfIwkSVAUBcHBwY99ISa9jl9vd0a8vW+xsbHo1q0bjh07hgMHDqBs2bKP3I4HCQ8Ph9PpRGJiotf7c+tx/iBVqlQxxgI888wznI7QB7EHnIieSGXKlIGqqoiKijJ6r7ydAJ1OJ4B7QaJQoUIoU6YMNm7cCKfTadS+6o9xuVzYvXs3oqKi0L59e6+hUx+8BsCjh9LhcHhtpx5u0va+3q83tlq1arh9+zbOnj0L4F6Nrh64li9fjsKFCyNfvnwPvc0yUrhwYQQGBmLLli2w2+3G7e7bRX+Neljx8/ND5cqVsXPnTqSmpnrd/seOHcPPP/+c4cVM9OUqigKXy5WuFvlRenbvR9/O7tP0uVyuLF2PJEmoU6cO/vrrL+zbtw+KokBVVWN6QHeJiYlGaC9evDgKFSqETZs2GYP6dHr7Nm7ciMOHD6Njx44eAygzCn4ul8vrdnVfpt7mzOyb+iwdbdq0wY4dO/DTTz+hUqVKXnv59e36uNu2dOnSUBQFu3fv9lh2Wvp+mxuOc28DXx0Oh9E+4N5g3RMnTqBWrVoM3z5BHyE2AAAgAElEQVSKAZyInkghISGYMmUKpkyZgp07dxqzEOhh5PLlyxg7diyKFSsGu90OIQQsFgvWrVuHnTt34tNPPzV6G/UT7KVLlzBw4EC0bdvWo5RB/P+rAOoX59BDqPvP2e49iu4e5aftJk2aoEaNGpg4cSKSk5ONELdv3z7s2rULY8eOzdLBmP7+/vjyyy+xdOlSY1sC97aLEALJycmYPn06SpQogQsXLhgBdsKECbhx4wbGjh2L2NhYyLJshK64uDi8++67KF++PBo2bOgxE4n+X4vFApfLBU3TjF54nb6NHzfE6QFU31Y2m824WA2QPYNaw8PDMWrUKHTt2hVHjhwx5nKWZRmapuHcuXMYNGgQSpUq5VFGsmbNGnz55ZdYuHChEdL07XDo0CG8+uqrGDx4MAIDA+FwOIy5zNNuN53FYoHFYsnwy+nDunv3Ljp06AC73Y6zZ8+ibt26HvdfvnwZS5cuNeaV99amhxUWFoaPP/4YkydPxq5du4z9Rl+uvv/ltuNcURS8//77+PbbbxEbGwuLxWK0Lz4+HgMGDDB6wck3SSKruwiIiHLQ+fPncfXqVdSrVy/DKbuAe73C8fHxeOONN/Ddd9/h9ddfR/PmzeHv74/du3fj66+/xrVr1zBnzhy88cYbAO71kvn5+WHx4sXo378/ateujbfeegulS5fG2rVrMWfOHFSvXh27d+82flLWg1rfvn1x9uxZI/wcOXIExYsXR4kSJWCxWOB0OjFkyBC8/PLL6V5TZj+m3UPq5cuXUblyZRQoUADDhg3D77//jrlz56Jt27b48ccfPQJCRm7duoXjx4+jSZMmD1y30+nE+++/jxkzZqBFixbo2rUrSpcujS1btmDlypW4dOkSRo0ahalTp3psy8jISHTu3BlFixbFiBEjEBERgcjISMyZMwcFCxbE/v37jXpofT1Dhw7FuXPnkJSUBD8/Pxw+fBjh4eEoWbKk8Zp69+6N3r17P/Y0bAcOHMDEiRORlJQERVFw+PBhaJqGunXrQlVV+Pn5YdasWfcto9DbdPz4cQBARESE123v/j7Hx8ejQ4cO+O233zBkyBC0adMGTqcTP/74I77//nukpKTgp59+QrNmzYznKYqCsWPHYsqUKWjUqBGGDBmC8PBwzJ07F2vXrkXr1q2xbt06+Pn5QZZl44tSjx49cPv2beN92bNnD2rWrGnMBmOz2TB+/HjUrFnTow75YQKjEAJRUVF4/vnn8cILL8BqtcLhcHiE/6tXr8JmsxlfOtzvS7uuzB7nTqcTqamp6N27N3744QcMGDAAzZo1Q1hYGHbt2oVvvvkGFy5cwKxZszB48GBjG/j6ce5yuTB+/HhMnTrVmM2lQYMGOHr0KCZOnIjAwEAcPHgQlStXztLjnLIOAzgR5SmZPTED9054DocDmzdvxrfffouYmBikpKSgUqVKaNiwIbp164YSJUp4fW50dDR++OEHbNu2Dbdv30bZsmXRrl07vPbaawgKCko3b+/06dOhqipSU1NhtVqN3ke9d1EIgUaNGqFx48aPvQ309cbExGDu3Lk4deoUAgICjFAWGBh43+2ie9gTs8vlws6dO7F69WrExMQgLi4OFSpUQPXq1fHqq6+iSpUqXp/3xx9/YMWKFdi5cyeuX7+O4sWLo2nTpujXr58xeE6naRr+85//ICkpCRaLBUlJSUbvsLsqVargpZdeMrZHZl6vN2fOnMH3339vlA6kLQmwWq3o3bs3ChcunOEyHjaA67cnJydj/fr1+P777/H7778DuFde1KhRI7Rr1w7FihUz5jh3f/07duzA5s2bsWXLFmN/7tixI3r06OFRxqCbOXOm0cubUbtat26NWrVqPdS2S8u9h1v/FSFtBHn66afRo0ePdLXvjxrA9fbb7XZs27YNq1evxsmTJ43t0qBBA3Tt2hVPPfWU1y9rvnycq6qKmJgY/PTTT4iMjERcXBzKlSuHypUr44033sAzzzyTqeUwgOcMBnAiylMe5sSscz+BZqZnT3+Mw+HwuKqjfp87/QSd9up/aUOhHqQe1NbMcjgcRkDUe+iEEOl+3s+unjF9G+nrftDFcNy3+/0GCKZ9nP7vtMt2OBzGhWrcn/Ow21ZVVaiqmq50QC83yMwAyUfpAVdV1Rg0mdF60wb2jNrvXgLhHmzd94vMbJesGAir00taHvQLRUav8VGO87Tr19edUVtyw3Hu/v7q+7z+BSezy2cAzxmcBYWICP87IT/MSdFbPae35+tByr1+OW1gfJRa7/txDwzuV8PU67KzS9qgnbaHMCPuX4DuFwrTbrOMApx7ne/jbFdZlr22x1s4zkru+2LaLxD6ejPzutK20X17pX2P7ier9k/3L0SZWV5WDyB0f53eph/1xpePc/dfEfQa8KyeypGyB98lIiI8+CTs7nFPoA8Klo8rK3sqH3W93gLdwwSuxw1nmQ3+vupBv8hkpvf7fsu93/9nJ/f15MT7422/yGhb5obj3H2ZuXVff1JxFhQiIiIiIhOxB5yInnhm9ByZ2TuV2XIPs9drpqxqiy+9Jne+2q7MyOm2Z+f6fek4J9/GHnAiIiIiIhMxgBMRERERmYgBnIiIiIjIRAzgREREREQm4iBMIiIiH8MBdkR5G3vAiYiIiIhMxABORERERGQiBnAiIiIiIhMxgBMRERERmYgBnIiIiIjIRAzgREREREQmYgAnIiIiIjIRAzgRERERkYkYwImIiIiITMQrYRLRE0UIkdNN8Em88qLv4Hvx+Hice8d9y3ewB5yIiIiIyETsASfyAXpvDXttHp+qqrBarZBl7/0L7AHKPFmWub2yUGpqKqxWK1wuF7dtFhBCQNM0WCzpowy3beZJkgS73Q5N0zL83KSsJwme8Yl8wsWLF3O6CXlCXFwcFixYgNKlS0PTNACeJ2N+5HmXNrBIkoSEhARcv34dZcuWzaFW5Q1CCEiShIsXL0JRFBQvXty4Pe3jAIbHzLh9+zbu3LmD0qVLQ1EU43Z92/E4987bvhUaGoqyZcuiSZMmDOAmYgB/ggkhkJqaCovFAqvVmtPN8So7v5GnpKRAVdV0tyuKgoCAgGxZ5/3s2bPH9HXmRXa7HU2bNkVwcLDXQMOPPO+8nZidTifsdjuCgoIyfAxljsvlgt1uhxACYWFh0DQt3ecPA3jmORwOOJ1OBAYGGrfxOH+wjPYtl8uF5ORkBnATsQTlCfbNN9/go48+Qnh4OLZs2WKcZHOa3lvk/m8g609KEydOxL59+9Ld3rBhQ0yaNClL15UZDRs2NH2dedH48eNRvHhxbNu2zev9PDF75+342rZtG95++20cOHCAofAx6Ntu8ODB0DQNc+bMSfc5B3h+1nF739+XX36JNWvWYPv27ca2YgB/MG/71a5duzB48GDucybjV50n2NKlS3HmzBns3bsXK1as8NobnJ1SUlIQFRWFAQMGoHLlyrDZbAgODkaDBg0wffp0XLx4Eaqqmn4y4gc3ERERZScG8CdY8+bNjdKTVq1aedTRZSe9Lrdr165o1qwZvvrqK5w+fRqapiEpKQkHDhzA6NGjUatWLcydOxculwvAvZ/DiYjyKvZ8Ez05WILyBBs1ahSef/555M+fH6VKlTJtBPTVq1fRrl07REdHQ1EU1KlTB61atUKNGjVw+fJlnD17FqtXr8bt27cxcuRIOJ1OjBw50mfr1ImIiIgeBgO4j/BWD5gVj70fSZJQv359aJoGu90OPz+/h16GEAJCiEwHdyEEli5diujoaAQGBqJz585YvHix0fuuTyv17rvvokmTJrhw4QJGjRqF7t27o2jRog/dPiIiX8SebqInG0tQfISqqkapRWa51yo/qH5b0zSj9CMtl8tlhG89UOvL89Ym99tUVTWW+6DaaYfDgYMHD2LSpEmQJAkdO3bEokWL0k0hpSgKSpYsiXXr1iE0NBSyLOOVV15BUlLSfZf/KPSffN3/WAOeO+n77oP+yDtv28rb8UGPx9s25XZ+NGmPaR7nD8bPSd/BAJ5D9CmoLly4gPnz56Nz586oVKkSihYtioiICHTt2hVTpkzB2bNnvT5//vz5qF27Npo1a4bjx497rd8WQsDhcOCDDz5A7dq18fe//x3Hjh0z7t+3bx9q1aqFl156yXi8ftJVFAWqquLXX39F//79Ua9ePZQpUwalSpVC06ZN8f7772PNmjX466+/IElSpuqzLRYLZsyYgZSUFAQEBGDs2LGwWq0ZfjGoXr06Bg4cCE3TsHfvXpw+fTozm5aIiIjIp7EEJYe4XC689957WL58OW7evGncLssyrl+/jpiYGKxduxYzZ87EzJkz0aVLF6MGWpIkdO7cGdOmTcORI0fQoEEDXLp0CaGhoR7fXDVNw/bt2zFt2jQIITBv3jxEREQY99++fRvR0dGIi4szlquqKmRZxt27d9GsWTMcO3YMdrsdsiwbQfnixYv47bffIEkSgoKCsHTpUnTs2BFAxlMGCiGQkpKCmJgYAECXLl1QpUoV4zV7I4TARx99hAULFiAuLg7bt29HrVq1Hn2jExEREfkABvAcsmTJEsycOROSJKFy5cpo0aIFIiIiULBgQdy9exfbtm3DqlWrEBsbizfeeAPVqlVDlSpVjGAbHh6OL774Ap07d0ZiYiKGDh2KZcuWeQTfAwcOoF27dhBCoEuXLujSpUuGP226/9wMAO+++y6OHj0KIQReffVVtGjRAk899RTsdjsuXryImJgYLF26FPny5cMLL7xgBPeMSJKE1NRUXLhwAbIso0+fPtA07b4zr8iyDH9/f1SvXh07duzAjh07MHr06EfZ3EREREQ+gwE8h3Tu3BkffPABXn/9dUyePNm4XZ+JpE+fPujfvz/atWuHhIQETJs2DV999ZXxOIfDgSZNmuCzzz7DoEGDsGLFCjRs2BBvvvmmUcM9ZMgQKIqCChUqYMGCBZmaZlAvPVm9ejUkScJbb72F6dOnQ9M02Gw2AP8L61OnTsVvv/2G/PnzG7dnRB/oGR8fj3z58qF8+fKZao8kSahQoQJ+++03XLly5YGPJyIiIvJ1rAHPIeHh4Th16hQmTJjgEVzde5GbNGmCLl26AABOnjzp8XybzQY/Pz/06dMHXbp0gRACo0aNwq5du5CSkoJmzZrhyJEjCA4OxoIFCxAYGJjpy6vb7XYkJCTA6XSibdu2xqXq3QdnCCGQL18+tG3bNlODNmRZxrlz56AoChRFyfSUgk6nE/ny5YMQApcvX87Uc4iIiIh8GQN4DhFCoECBAlAUxWtZiN7L/OyzzwJAhpeCVhQFq1atQoUKFZCcnIyBAwdi0qRJ2L17N/z9/TFjxgw0aNDgoebQDgwMNL4IREZG4vr161ky9eGtW7egqqoRwjPDarUiLCwMFosFsbGxj7V+IiIiIl/AAJ5D3MOsw+EAAFy5cgUnTpzAhQsXcP78efzxxx/GpdiFEEhKSoKqqh69zXqYXb16NQDg7NmzmDJlCjRNQ7du3dCnT5+HmlJIf2ynTp1gtVoxe/ZsNGnSBHPnzsWFCxfgdDo92vQwobxkyZIA7g1A1ZeTGampqXA6nShUqFCm10VERETkq1gDnoNOnz6NBQsW4Ntvv8WVK1c8Aqm3+ag1TfMapiVJQvXq1TF37ly8+eabAID8+fNj+vTpDx2S9fVOmDABcXFx2Lp1K06fPo133nkHQ4cORZEiRVClShWUKVMG7du3R4sWLTJ1AR9N01CoUCHIsoyEhAQAGc9+4k5VVdy4cQNCCBQvXjzTr4OIiIjIVzGA5wAhBE6fPo1nn30WLpcLNpsNYWFhKFSoECpWrIiQkBA4HA6oqorTp0/j2LFjD7w4Q3JyMlauXGn8OyUlBdu3bzfqwx82hFesWBGbNm3C1q1bsWbNGmzevBnx8fG4c+cOtm/fjh07dmDBggUYNGgQPvnkk3RTIKYlyzIURYHNZoPL5cLBgwfRvn37B7ZLURTs27cPwP960ImIiIhyMwZwk7lcLlgsFsyZMweapiEsLAzffvstGjduDIvFkq42esWKFejdu/cDr1D1zjvvYPfu3QCABg0a4ODBgxgyZAgaNWqEwoULP1L9tsViQevWrdGqVSskJycjLi4Of/75J2JiYjB58mRcvnwZ8+fPx507d4xZU+4XwoODg1GxYkVER0dj3Lhx6NChw33X73Q6cfXqVZw8eRKKouDFF1986NdARFmDV8cjIso6rAE3mR6Ef/31V2iahoEDBxplHN4GJiYlJRmlJ5IkQZbldGF69erVWLhwIQBgwoQJWL16NQoXLozY2Fg0bdoUd+7ceex2BwUFoUSJEmjcuDEGDx6MU6dOoWbNmgCAqKgo3L59+4HLCAgIQL169QAA0dHR2L9//30fL0kS3nvvPbhcLvj5+aFu3bqP/TqIiIiIchoDuMn0XqSEhARjhg/gXq2zy+VKNzBx48aNRvmJoigeddNOpxPHjx/HoEGDIEkS6tevj1GjRqFkyZL49ttvIYTAqVOnMG7cOAD36rBdLpdHW7xduVLTNGiaZrRFv8/9kvHBwcFo06aN0Q735WZEURS8//77xr//8Y9/eH2cfln7qKgofPfdd1AUBa1bt0b16tUfuA4iIiIiX8cAbjKL5V7VT926deF0OrFkyRLExsYaAVvvBU9KSsKwYcOwYcMG47lpS1Bu3bqFnj17IiEhAeXLl8fGjRths9ngcDjQsGFDfPzxxwCA2bNnY/bs2RBCQFEUj3IWb2Utly5dQrVq1TBmzBhcunTJuF2WZSOUnzlzBitXroQsyyhQoADCwsIy9RN16dKlMX36dPj7+yMqKgqNGjVCTEyMR7gHgGXLlqFnz55wOp0oUqQIpk+fnqlBm0RERES+jjXgJtPnwe7atSu+++47/PXXX6hWrRqmTp2KJk2awM/PDxs3bsTMmTNx/Phx+Pn5GT3C7pKTkzFixAhER0fDYrFg1qxZxhUpgXthffTo0YiKisLPP/+MsWPHolWrVnjmmWfuG2SdTid69+6NkydPIiYmBl988QXKli2Lbt26oUqVKrDb7Thw4ADmzJkDVVXh5+eH8ePHw2azZbpGdODAgdi+fTs2bdqEqKgoREREoEWLFmjUqBFu3bqFtWvX4sqVKxBCICwsDP/5z3/w9NNPZ8lc5JQ78b0nIqK8hAHcZHoP98svv4wvvvgC7733Hq5du4Z+/fpB0zTjUvAA0LRpU7Rr1w7//Oc/4XK5jICraRrWrVuHtWvXQlEUfP7552jatKnHevQe9a+//hoNGzZETEwMmjVrhp9//hmVKlUyBkxarVajV1x/zty5c/Hvf/8by5cvh9PpxB9//IEJEyZA0zSPgZYlSpTAlClT8PLLL3us90FCQkKwYcMGfPTRRxg/fjwAYPv27diyZQuAez3tQghUq1YN8+bNQ/369Rm+niD6PPOaphm/GOn/5q8gRESUFzCA5xBJkvDWW2+hefPmWLhwIU6fPo3ExERIkoTixYujTZs26Ny5M/7v//4PL774IpKTkyGEgMvlgsPhwDfffIOWLVuiQoUKGDRokBFU0goJCcGnn36KefPmwWKx4Pfff0elSpUAAIULF0bbtm1RuHBhI9wIIVCpUiUsW7YMn376KRYvXoyjR4/i+vXrxlSCxYoVQ/Xq1TFy5EgA93onVVXNdDjS1zVu3DgMHDgQX3zxBY4cOWKUw4SEhKB9+/bo1asXFEUxgj/lfZqmYenSpVi3bh0uX76MKlWqYMiQIWjYsCHDNxER5RkM4DlED5TlypXD1KlToaqq0QPuPhtKnTp1sHbtWo/n2mw2ozbcPThnFFLbtGljDJh0V79+faxfv97jNvd1FylSBP/4xz+MgK3XkCuKYqxL7w33NjtLRvQgJUkSSpQogY8//tgY+Jm2DSw9eDLoX+BGjBiBefPmoUePHnjttdewcOFCtGjRAjt27OAsOERElGcwgOcwPYxm1IP9IA+ae/tx6e3zNkViVq9HXxfnG37yKIqCs2fPYuXKlZg5cyYGDhwIi8WC7t27Y+DAgejYsSNOnDhhzBpERESUm/E3XaJcTv/Ckp1fXB607PtdJCozy9Y0DcOHD0fRokXRp08f4wup3W7H8OHDcefOHezcuRMA0s2YQ0RElNuwBzyXy+nyjOxYf06/Jl+kl+I4nU789NNPAO79alC/fn0UK1YMDocDW7ZswZ49e1C6dGm89tprCA4OBuBZpnT+/Hls3rwZ27dvR1hYGJo3b462bdsiMDDQY32HDh3CpUuXoKoq8uXLhxYtWnjcn5KSgi1bthgXhypVqhQiIiKMtuoy814KIWC32xEfH4+uXbsiICDAuM/f3x9ly5ZFSEgI9u7di44dOz7aBiQiIvIhDOBEuUhiYiImT54MWZZx6tQpTJs2DQ0aNEC/fv1w/vx5lCtXDufOncPevXvx1VdfAfhfGdGiRYswevRoFC1aFBUrVkRsbCw2bNiATz/9FDNnzkSDBg2M9YwZMwa7d+9GWFgYSpUqhXLlyuGZZ54BcC/QHz58GO+99x7+/PNPBAcHY9SoUahateojf3lSVRV37txBREREurr/wMBAVK1aFXFxcR6vh4iIKLfimYwoF9ADaf78+fHbb79hx44daNCgAY4ePYoWLVqgSJEiOHbsGKKionDgwAGUKlXKeK6maVi/fj2GDh2Kf/7znzh27BjWr1+PyMhIHD9+HBEREXjhhRdw+fJl4zmbN29GrVq10KtXL2zfvt0I37rnnnsOBw8eRLly5fDZZ59hzJgxRhv1K7fq4xPc//QpNt3LSPTnpaSkoGTJkl7HNdSuXRt2ux0OhyMLtyoREVHOYA84US6jl4s4HA4sWbIEo0aNwtixY41pIp9++mmMGzfOePy5c+cwcOBAjB8/HqNHj4Ysy8Yc2yEhIZg6dSpiYmLwz3/+EwsWLICfnx8sFgtatmyJmJgYY32rVq3CjBkzsGjRIjz77LNwOp04f/482rRp4zGIuHXr1gC814XrYbtly5YYNWqUx236LDveKIqCq1evGstkmRIREeVmDOBEuYzL5YKiKLBarfjHP/6B9957z6ibdg+oekg9ceIEJElC165dIcsyXC4XLBaL0QtdoEABzJs3Dy+99BIAGL3ULVu2xLJly+ByuSBJEubPn48jR47gm2++wbPPPovdu3cjNDQUwcHBxhVeAeDkyZMebXEnhIDNZkOtWrXS3e6+bm8B28/PD35+fpwlh4iIcj0GcKJcxr23uXTp0h6DFoH04fXChQsAgKefftp4vnsvshACZcqUwY0bN4zgrmkaatasiTt37iAhIQGJiYk4ePAg3njjDezfvx9CCERFRaF06dLp5q4/e/Zshm0BPKec1CmKApvNhiNHjqBWrVoe9wshcOnSJZQrVy7DZRIREeUmDOBEuczDlmDkz58fLpcLN27cQNGiRb0uLzo6GoULF4bNZgNwLyRbLBY8++yzWLlyJW7evImIiAh89NFHePrpp3H06FEcOnQIdevWNZ6jS/vvzAgICEBoaCiOHz+e7sJSTqcThw4dQo8ePYzeeyIiotyMgzCJcgG9XETTNCOYyrKMpKQkAPdKN/SrlbqXnwD3rqZ6584dREdHG491HyipKApGjx6NypUrA4DHlU/r1KmDFStWYPPmzWjTpg3CwsJQv359jB8/HteuXUOzZs2M5zyuKlWqYMeOHbh7965RigLcq2G/cuXKA2dZYc84ERHlFgzgRLmAXpLhHjLj4+Ph7+8PAEYZiLcp+sqXL4+JEyeif//+2LBhAzRNMwK90+nE5MmTcfDgQQwZMsSjblsIgaeffhr//e9/cfz4cbz88suwWCxo3749fvrpJ5w7dw7169d/7Nemh/0xY8bg/Pnz+P777437kpOT8dFHH6Fs2bJo0aJFtl+RlYiIyAz8LZcoF/nkk09w9OhRKIqCEydOYNy4cVi0aJERmsuWLYslS5akC+Pvvfcejh49io4dO6JTp05o3rw5/Pz8MHv2bJw7dw7/+c9/0LZtWwCeveyNGjWCpmmoVKkSqlatCgB4/vnnIcsyihUrhtDQ0Md+TbIsQ5IkVKlSBUOGDEG/fv2wdetWNGnSBLNmzcLVq1excePGdBcLIiIiyq0YwIlykRdeeAGFChUy/l8f0KjPj50vXz5YrdZ0l2u3WCz49ttvsWXLFkRGRuKbb75BWFgYOnfujJdeegkVKlQwHqsoitETXrVqVcyfPx+VK1c25ueuUaMGFi5ciBIlShj13o9T/uH+3EmTJuG5557DihUr8OOPP6Jt27bo06cPKlasCODh69+JiIh8EQM4US6gX06+Xr16qFevHoCMw2hGAxVlWUarVq3QqlWrdPe511wD/wvFAQEB6NWrF/z9/Y1edqvViu7du8NqtT7260pLCIG2bduiWbNmxpSD+utk+CYioryCAZwoF0g7LV/agZbuHmWWkLQzjwD/C+F6nbn7fdkRvt3bYbPZ0r1Ohm8iIsorOAiTKJdhECUiIsrdGMCJiIiIiEzEEhQi8qledV9qCxERUXZgDzgRERERkYkYwImIiIiITMQATkRERERkIgZwIiIiIiITMYATUZ6gXyiIiIjI1zGAExERERGZiAGciIiIiMhEDOBERERERCZiACciIiIiMhEDOBERERGRiRjAiYiIiIhMxABORERERGQiBnAiIiIiIhMxgBMRERERmciS0w0gIsoKkiQZ/9X/vF0dU38ceeKVRH0L3w/vePxmLffPS/2PzMEecCLKcxhesg63Jfki7peU27EHnMgH6CcTnlQen6qqcDqdEEJAUZR097OHxztv28XpdAK4t1/abDazm5Sn2O12APe2pcVigcvlyuEW5W6apmX4Kxc9HKfTCU3TIITg56OJGMCJfIAkSfj9999zuhl5QsWKFZGSkoJJkyZ5vV+W+cOfN2lPvEIInD9/HgAwefJkr19mKPNcLpdxjI8fP+jAsTcAABk5SURBVB7A/fdFBkvv9P00OjoaCQkJmDx5MqxWaw63KveSJAmXLl2CoigM3yZjACfyEfHx8TndhDwhf/780DQN//3vf6Gqarr7eZLxLu12kSQJiYmJAICDBw/mRJPyDD1M3717F5qm4eDBg5Bl2ev+Sfen76c3b95ESkoK9uzZA39//xxuVe6WlJQEIQQ0TeMXbRMxgBP5iNq1a+d0E/KE8ePHIywsDOvXr/cattmzmHm//vor3n77bfzwww853ZRcTd8PBw8eDFmW8cUXXxglFA96Dnk3e/ZsrFmzBps2beKvWo9BkiTs2LEDgwcP9ijp4f6X/bjXEhERUa7CgJh1OPtJzmAAJyIiInoC8RfBnMMATkRERPSE4hzgOYMBnIjyHPbqkK9j2CF6snEQJhHlCe5zqet/RL6GPY3ka9w/L7lvmoc94EREREREJmIAJyIiIiIyEQM4EREREZGJGMCJiIiIiEzEAE5EREREZCIGcCIiIiIiEzGAExERERGZiAGciIiIiMhEDOBERERERCZiACciIiIiMhEDOBERERGRiRjAiYiIiIhMxABORERERGQiBnAiIiIiIhMxgBORT3G5XAAAIUQOt4SIiCh7MIATkc9ISEjA6dOn8fnnn6Nfv36Ii4vL6SYRERFlOUtON4CIyOVy4ZNPPsGMGTNw69YtAEB4eDg+/fTTHG4ZERFR1mMPOBHluKSkJNy8eRMjRoxAVFQUli9fDiEEFEXJ6aYRERFlOfaAE+UiQghIkmT81/02TdMgyw//ndp9WQ/zmLRt0D1oWd6WHRQUhM8++8x4DdeuXcP/a+/ug6Oo7ziOf3ZvLw+EkAwoIAEMRlKaBJII4aFAAQWGGR7VooIDyJQMUIYBrXZsqWUsPjDiKBQLU8eCytBacWC04MCgU0UGIzC1RB5GU9BIagVbE56SkNzt9o/MbnNJQCBxj7u8XzM3Cbndvd9dLsfnvvfd3y8QCKi+vv6qjgUAQCwggAMxwA27oVBImzdvlmEYMk1To0ePVq9evXTx4kW9+eab2r17t/r27av58+crLS1NkrxQa9u2jh8/rq1bt2r79u3q0qWLpkyZonvuuUcdO3aMCNR79+7VF198oXA4rLS0NE2bNi1iPNXV1dq2bZs3juzsbN12223eWF1XGsYDgUDEm4tgMKhQKKRgMHjFj5G7LwAA1zsCOBBDamtrtWnTJgUCAR04cEArV65Udna2Fi1apKqqKg0cOFC7du3SgQMHtGXLFknyquKrVq3Sk08+qdzcXBUWFurs2bNauXKlVq9eraeffloTJ070bue5557Tjh071K1bN/Xr108DBw5Ur169JDUE+mPHjmn9+vU6dOiQUlNT9eijj6qwsND/BwQAgBhEAAdigFtJTk1N1TvvvCPHcTRx4kSVlJTo0Ucf1fjx47Vx40Z16NBBZ86c0YYNG7x9w+Gw/vznP2v58uVas2aN5s+fL6khSEvSQw89pEmTJunEiRPq06ePJGnr1q0aOXKkhg0bpieffFLBYFCO4ygcDsswDA0cOFB79uzRgAED9Nvf/lZ33XVXxO1JDZXwphVp27aVkJAQUd1uqUruVtavtp0FAIBYQAAHYoxhGDIMQxcvXtRrr72mJ554QosWLfLCalpamh588EFv+3/+859avHixVq9erXnz5kmSF6Qlafny5Tp06JB++ctf6pVXXlFiYqIkacKECTpw4IBXQd+4caOeffZZbdq0SQMHDlRlZaVOnjypkSNHRoxv+PDhkhoCuBvyXaZpynEcTZ06VcuWLfseHh0AAK5/zIICxJhQKOT1Sy9btkyLFi1SUlKSEhMTvdDbuPL86aefyrIsTZw4UYFAQOFwOGJ2kbS0NK1du1YlJSWSGqrUoVBI48aN08GDB73jvfjii/r888/1+uuvS5I++OADderUSSkpKV7VW2oI2aZpKhAIyLKsiIthGEpMTPzO3u6W7gcAAPGCCjgQYyzLkuM4sixLGRkZSkpKiri+adtGeXm5JKlnz56SIk94lBoCd58+fXT69OmI/fLy8lRTU6P//ve/Onv2rI4ePaolS5Z4Qf2DDz7QLbfcomAwGBHo9+zZ442jpRaSK52ppaUWFgAA4gEBHIgxjWdEuRJdu3ZVKBTSv//9b/Xo0aPZ9YZh6MMPP1TPnj299hPTNGVZlvLy8rR582Z9/fXX6t+/v37xi1+oT58+2rt3rw4dOqSioqJm1WzLaruXFQI4ACAe0YICxAC3l9q2ba+qHAwGdeHCBUkNPd3hcNgL540rz0OHDlVVVZX279/vbetu407d9/Of/1w//OEPJck72dJxHA0ePFibNm3Se++9p8mTJ6tTp04aMmSIVqxYoa+//lrjx4/39rlWLfWKu+0qrT02AADXIyrgQAxoqZXj22+/9SrWl1sx8uabb9batWtVXFysCxcu6N577/X6wOvq6rRs2TKVlpZqzZo1EQHfcRz17t1bpaWlSkpK0p/+9CdZlqUpU6ZoyZIlSkpK0qBBg9rkvjW9f+FwOKIH/EoWCwIAIFYQwIEY4IbPJ554QgcPHpRpmjp69Kgee+wxrVu3ztsuMzNTb7zxhjeNn2vBggU6evSo5s2bp1dffVUjRoxQMBjU5s2bdfbsWb366qsaPXq0pMgq+/Dhw+U4jgoLC5WVlSVJGjlypEzTVGZmplJTUyPGdy3civvcuXN15MgRSdL58+d15swZjRkzRh06dJBpmpo1a5Z+9rOfEcQBADGPAA7EkJkzZ6qoqEiSVFxcrEAgoEAgoNraWkkN84QHAoEWWzp+//vfq7i4WH/961+1b98+denSRYsXL9aUKVPUtWtXb1t3qkDHcZSXl6e33npLmZmZXrtKbm6uduzYoRtvvPGqVqq8FLcC/uCDD+rUqVPez1xu9TsrK4vwDQCICwRwIAa4IfTWW2/Vrbfeetltm04z6DIMQ4WFhSooKGix5aPptlJDn/n48eO9KQ6lhjA/ZsyYNgnfrkAgoIKCgu+cIYVWFABAPOAkTCAGNK0IX87l+sGbHsvlVr2bbufO293435LaNHw3HsN3IXwDAOIBARyIMYRQAABiGwEcgCSCPQAAfiGAAyB8AwDgIwI4AAAA4CMCOAAAAOAjAjgAAADgIwI4AAAA4CMCOIC48F3zowMAcL0ggAMAAAA+IoADAAAAPiKAAwAAAD4igAMAAAA+IoADAAAAPiKAAwAAAD4igAMAAAA+IoADAAAAPiKAA4g7hmHIMIxoDwMAgBZZ0R4AALQFN3ATvgHgyrivl7xm+o8KOIC4w7L0QHzjbxyxjgo4cJ2oq6uL9hDiQkJCgurr6/XNN99Q1WmlyspKOY6j06dPyzSp11wr93lYV1cny7L0zTffyLIshcPhKI8sdl24cEGO4+jUqVNKSEiI9nBilmEYOnPmjGzbjvZQ2h3D4W0k2qlf/epX+uijj5r9fMiQIXrqqad8H8/777/v+23GI8MwNGrUKD5WbQON/1MmgLcOAQfXO9u2ec30ERVw4DoxatSoaA8hLjz++OPq0qWL9uzZw38mrfTuu+9q8eLFOnz4MAG8Fdzn4cKFC2UYhtatWyfbtnlMW+GFF17QG2+8od27dysYDEZ7ODHLMAy99957WrhwYbSH0u4QwAEALTJNU4ZhEBTbkPuhs+M49DG3gmEYchxHpmnyOLaS+1x0HIeihY94VQUAAGinmAklOgjgAAAA7VDjTw/4JMFfBHAAAIB2igp4dBDAAQAAAB8RwAEAANopTgiODgI4AAAA4CMCOAAAAOAjAjgAAADgIwI4AAAA4CMCOAAAAOAjAjgAAADgIwI4AAAA4CMCOAAAAOAjAjgAAADgIwI4AAAA4CMCOAAAAOAjAjgAAADgIwI4AAAA4CMCOICochxHjuN8589b2gYAgFhkRXsAANo327YVCAQUDocVCAT08ssv691331V1dbVGjhypOXPmKC0tTaZpeiHcMIwojxoAgGtHBRxAVLnhu7KyUtOnT9eyZctkmqZ69uypdevWaciQITp8+LBs2472UAEAaBNUwAFEnW3b+slPfqIzZ87o008/VceOHSVJa9as0cyZM5Wfn68vv/xSPXv2jPJIAQBoPSrgANpEa3q0T58+rcOHD2v9+vXq2LGjdyzHcfTcc88pNTVVu3btaquhAgAQVVTAgRhTVlamcDgswzDUo0cPdezYUaFQSOXl5Tp58qTS09PVv39/WVbzP+/KykodP35c5eXlSk5OVu/evZWdnS3LsmSa/38/XlFRoerqajmOI8uylJWV5V3nOI7C4bCOHz8u0zRl27ZuuOEGde7cWY7jXFN/dnp6ujZs2KBBgwZF3I7jOOrcubPS09N16tSpqz4uAADXIwI4EANCoZAsy9LJkyeVnZ2txMREGYah9evXa/bs2Zo1a5befPNN1dfXKxwO6/nnn9fSpUsjjvGPf/xDd999t8rLy72+a0kaOnSodu3apZSUFG/bH/3oR6qoqFBycrIk6cCBA8rJyZHUEIzffvtt3XnnnUpOTlZdXZ0WLFig3/3ud971risN4ykpKZoyZUqz/QzD0GeffabKykplZmZe1TEBALhe0YICxAC3mt29e3d99NFHKikpUUFBgb744gsNGDBApaWlevHFF3Xs2DG9/PLLOnjwYMT+JSUlGjdunAYOHKgPP/xQZ8+e1b/+9S9t375dtm2rqKhIlZWV3vY7d+5Uly5dNHPmTO3fv199+/b1rjNNUxMmTNCBAwfUrVs3PfLII3r44Yfb9P66If4///mPfv3rX6tfv34RAR0AgFhGBRyIIcFgUEVFRTIMQ47j6Omnn9aIESO0e/durzLct29fzZkzx9unqqpKkydP1vjx47Vp0yZvu27dumnChAnq37+/Bg0apBUrVmjVqlVyHEf9+vXTpEmTVFNTo9zcXEnSvn37tHr1aj3zzDPq0aOHcnNzVVFRoaVLl0a0nyxfvty77Zaq1bW1tRowYIDuv//+Ztc5juNV+2tra/XAAw/os88+08GDB5WamtqmjyUAANFCAAdijBtqU1NTNXXqVP3xj3+MCLpN58rev3+/zp8/r8cee6zF42VkZGjt2rV6/PHHFQgEJDXMSlJcXKz58+d7x3zhhRe0ZcsWDR48WA8//LD+9re/qXv37jJN09tPklasWBFx+005jqO5c+e2GMBt21YwGFRVVZVmz56tsrIybdu2TR06dLiqxwgAgOsZARyIMe6CNTU1NZoxY4ZSU1MvOwPJl19+qS5duigjI6PF6x3H0bBhw1RWVhbx88LCQpWXl+vcuXMKhULaunWrxowZo3379ikUCqmkpESdO3f2pgx0VVVVed83DeGGYTQ74bPp9adPn9aMGTN08uRJbdmyRTk5OTIMQ7ZtX3I/AABiCQEciDFutTk1NTXiZEWp5akALcvSuXPnVFdX1ywsu/vW1tYqJSXFC7mmaSo5OVk/+MEP9PrrrysUCql379566aWXlJWVpW+//Vb79u3T0KFDlZCQ4L0pkKS0tLSrvk+2bauurk719fXKy8tTenq6Pv74Y6WkpHizoXDyJQAgXlBOAmKMbdsKh8Oqq6trdp1hGN7FlZ+fr/r6eh05cuSSx1y5cqXy8/ObrTaZnZ2tnTt36i9/+YtGjRqlzMxMFRUVacWKFaqoqNCgQYPapDIdDod14sQJ/fjHP9Ytt9yi7du3KyUlRaFQqFXHBQDgekQAR1wLhUKybTvi4p7oFwwGW9zHNM1LtnS4obc1i860hjv/t23bSkpKUk1NTcRYmn7vOI4KCws1adIkFRcXq7KyUjU1NREB/Z133tFLL72k+++/36tiu/vm5eVp586dKi0t1b333uvNgPKHP/xBZWVluuOOOxQIBFpVnXYcR6dOndK4ceOUmpqqt99+W9nZ2ZIafheGYejIkSPNWmTcMQIAEGtoQUHcCYfDeuihh7xFYloKafX19frqq69a3P+TTz7RI488oosXLzar7BqGoUAgINu29fzzz38v47+cffv26eOPP5YklZaW6vz58yorK/MqxVlZWVq8eHGzcb/yyisaNmyY8vPz9dOf/lQjR45UQkKCNmzYoLfeekvz5s3TnDlzmgXpYcOGqaamRt27d9fYsWNVW1ursWPHasWKFUpLS9PNN9/cJvdr1apV+uqrrzRq1CjvZFDbtr0ZUV577TXNnTtXTz31VJvcHgAA0UQAR9xw+4QDgYB69uypHTt2yDCMZmG0ceW0pdaJCxcuqLS0tMXw7jiObNvW5MmTv787chl///vftWfPHtXX16ugoECmaerEiRNe28mZM2ciqthSQ8tKcnKySkpK9Jvf/EY7d+7Uxo0bZVmWevXqpdWrV2vWrFkt3l5ubq4mTpyoCRMmSPr/NIjTpk3zpkNsLcdx1KdPH02bNk3V1dWqqKjwfkfu72Dw4MHq27dvsxleAACIRQRwxI3GoezOO+/U3r17df78+Ra3u1yAc+fYbkkwGFRiYqLuvvvu1g/4GixZskRLliyR1BCsG4+1pRlH3K+O4ygxMVHPPPOM14JiWZb3BqXpMdyvN954o7Zu3eq9UQkEAkpKStK2bdskXduql5e6X0uXLlVdXZ0SEhJUV1cXMTbHcbzFiGg7AQDEOnrAEZcyMjKUn5/fZmGt8Swj+fn5l5zSLxoah+ZLheDGP7csS0lJSbIsK2L+7ktp2uPt9qC31cwkbrh3203c22x8cd8sMBsKACAeEMARl5KTk7VgwQIlJCRc8zHcCqxpml7V2DRNzZ8//5IncPrJPUHRvbiV4ku96XCDa9OxtzRzypXethuIW3sSptQQuhtX2t3vGx+/6X0mjAMAYhEBHHHJtm11795dY8aMaXUV3HEcJScny3EcDR06VBkZGdfd9HjRCqUEYAAArh4BHHHJrVxPmjTJa1+4Vo37rGfOnOn1T6NtEOIBAO0NARxxLTc3V+PGjWv1QjGWZWn06NHe/NRoW7STAADaEwI44t7MmTOVlJQk6dqCnuM4SklJ0Zw5c5iBAwAAtBoBHHHvhhtu0G233aZwOHxVAfrixYveSY25ubnKyMigSgsAAFqNAI64FwwGNX36dHXo0MGbReNKJCQkeNvOnj1bgUDAW4oeAADgWhHAEfdM01Rubq5uv/12hUKhiKnzWrq43Gr5pEmT1LdvX0lq1bSGAAAAEgEc7chdd92l9PT0y4bvpgvOdOrUSVOnTo3iqAEAQLwhgKPduOmmm1RQUHDZxWpc7vU5OTnq0aOHH8MDAADtBAEc7UZSUpIeeOCBiDaSloJ4dXW1pIbVGBcuXOjNoAIAANAWCOBoN0KhkHr37q0RI0bItm0FAoFm2zRe9XL48OHq2rXrdbfqJQAAiG0EcLQbwWBQhmFoypQpCgaDqqurk+M4sm07oi3F/XrffffJsixWvQQAAG2KAI52Jy8vT3fccYe3xHzTi2VZuv3221n1EgAAfC8I4GiX7rvvPnXo0EGSvJlP3K8dO3bU7NmzZdt21MYHAADiFwEc7VLT1TEbt6Pk5OQoIyNDpsmfBwAAaHskDLRLycnJmj59upKTk2WaphITE715wGfMmEH4BgAA3xtSBtolwzCUk5OjsWPHepVv27Y1depU5eTkRHt4AAB87xovPgd/EcDRbpmmqXvuuUdpaWmyLEupqamaNm1atIcFAIBvmq4CDX8QwNGuZWRkKCcnR7Ztq6CgQDfddFO0hwQAAOIcExyjXTNNUwsWLNCxY8dUXFwcsUqm386dOxe1244n7icapaWl9PK3Unl5uQzD0CeffEKFrBUMw1A4HNbZs2cVCAR0+PBhhcNhWZYVsRZBYzx3L+/UqVMKh8M6cuRItIcS0wzD0Oeffy7btvkb95nhtLQWN9BOOI6jUCikgwcPaujQoaqurlZKSkpUxvL+++9H5Xbj0ejRo6M9BOCSEhISFA6HJckL4EC0NF4TA/4hgAOIK26gMU1TjuNQ1WkFHru24TiOwuGwDMPwnpfS/x/fpqvwNr4Ol2bbtvcpAq6NYRgKhUKSxKrPPiOAA4grvKS1DQJg27ncc7Lp49w0nAPfN974RQdNZgAAAICPqIADAAAAPqICDgAAAPiIAA4AAAD4iAAOAAAA+IgADgAAAPiIAA4AAAD4iAAOAAAA+IgADgAAAPiIAA4AAAD4iAAOAAAA+IgADgAAAPiIAA4AAAD4iAAOAAAA+IgADgAAAPiIAA4AAAD4iAAOAAAA+IgADgAAAPiIAA4AAAD4iAAOAAAA+IgADgAAAPiIAA4AAAD4iAAOAAAA+IgADgAAAPiIAA4AAAD4iAAOAAAA+IgADgAAAPiIAA4AAAD4iAAOAAAA+IgADgAAAPiIAA4AAAD4iAAOAAAA+IgADgAAAPiIAA4AAAD4iAAOAAAA+IgADgAAAPiIAA4AAAD4iAAOAAAA+IgADgAAAPiIAA4AAAD4iAAOAAAA+IgADgAAAPiIAA4AAAD4iAAOAAAA+IgADgAAAPiIAA4AAAD4iAAOAAAA+IgADgAAAPiIAA4AAAD4iAAOAAAA+IgADgAAAPiIAA4AAAD4iAAOAAAA+IgADgAAAPiIAA4AAAD4iAAOAAAA+IgADgAAAPiIAA4AAAD4iAAOAAAA+IgADgAAAPjof46oZLp9mNkyAAAAAElFTkSuQmCC)"
      ],
      "metadata": {
        "id": "Of7ui2lzvnEl"
      }
    },
    {
      "cell_type": "markdown",
      "source": [
        "## Slicing of numpy array"
      ],
      "metadata": {
        "id": "LBipv22yR6Hm"
      }
    },
    {
      "cell_type": "code",
      "source": [
        "#1D array\n",
        "array_slice1D=np.array([-1,2,3,5,6])\n",
        "array_slice1D[1:]"
      ],
      "metadata": {
        "colab": {
          "base_uri": "https://localhost:8080/"
        },
        "id": "SIJuBP0LQIpX",
        "outputId": "41be338a-7e61-4460-81cf-dceb4391dd99"
      },
      "execution_count": 30,
      "outputs": [
        {
          "output_type": "execute_result",
          "data": {
            "text/plain": [
              "array([2, 3, 5, 6])"
            ]
          },
          "metadata": {},
          "execution_count": 30
        }
      ]
    },
    {
      "cell_type": "code",
      "source": [
        "#2D array\n",
        "array_slice2D=np.array([[1, 7, 3, 5, 8],\n",
        "                        [4, 5, 6,-1, 4],\n",
        "                        [2, 0, 6,-8, 9]])\n",
        "array_slice2D[1:,2:]"
      ],
      "metadata": {
        "colab": {
          "base_uri": "https://localhost:8080/"
        },
        "id": "Vgyxjt32SE1-",
        "outputId": "ea6a603a-c6d0-4d92-d9df-e8aef44f35ce"
      },
      "execution_count": 31,
      "outputs": [
        {
          "output_type": "execute_result",
          "data": {
            "text/plain": [
              "array([[ 6, -1,  4],\n",
              "       [ 6, -8,  9]])"
            ]
          },
          "metadata": {},
          "execution_count": 31
        }
      ]
    },
    {
      "cell_type": "code",
      "source": [
        "array_slice2D[:2,:-2]"
      ],
      "metadata": {
        "colab": {
          "base_uri": "https://localhost:8080/"
        },
        "id": "rXmBvt97SYEp",
        "outputId": "d2bae359-d7ac-456b-de1b-b5a039e9e00a"
      },
      "execution_count": 32,
      "outputs": [
        {
          "output_type": "execute_result",
          "data": {
            "text/plain": [
              "array([[1, 7, 3],\n",
              "       [4, 5, 6]])"
            ]
          },
          "metadata": {},
          "execution_count": 32
        }
      ]
    },
    {
      "cell_type": "markdown",
      "source": [
        "## Conditional Selection"
      ],
      "metadata": {
        "id": "VQmZayo5TMBG"
      }
    },
    {
      "cell_type": "code",
      "source": [
        "conditional_array=np.arange(15)\n",
        "conditional_array"
      ],
      "metadata": {
        "colab": {
          "base_uri": "https://localhost:8080/"
        },
        "id": "Mft0MJX3S2Sw",
        "outputId": "f4c52f8d-a59a-4db6-f2bc-0014dafb4654"
      },
      "execution_count": 33,
      "outputs": [
        {
          "output_type": "execute_result",
          "data": {
            "text/plain": [
              "array([ 0,  1,  2,  3,  4,  5,  6,  7,  8,  9, 10, 11, 12, 13, 14])"
            ]
          },
          "metadata": {},
          "execution_count": 33
        }
      ]
    },
    {
      "cell_type": "code",
      "source": [
        "conditional_array[conditional_array>12]"
      ],
      "metadata": {
        "colab": {
          "base_uri": "https://localhost:8080/"
        },
        "id": "-XvMxEliTc2s",
        "outputId": "df8f5298-b297-4ebc-b9ab-137e2d4aeafc"
      },
      "execution_count": null,
      "outputs": [
        {
          "output_type": "execute_result",
          "data": {
            "text/plain": [
              "array([13, 14])"
            ]
          },
          "metadata": {},
          "execution_count": 31
        }
      ]
    },
    {
      "cell_type": "markdown",
      "source": [
        "np.where vs list comprehension"
      ],
      "metadata": {
        "id": "N4ypKMd9wL8w"
      }
    },
    {
      "cell_type": "code",
      "source": [
        "np.array([i if i>12 else 1 for i in conditional_array])"
      ],
      "metadata": {
        "colab": {
          "base_uri": "https://localhost:8080/"
        },
        "id": "xV_Q2Eq2UKqj",
        "outputId": "0a828bc3-e468-4e20-c91f-b73983dc908a"
      },
      "execution_count": 35,
      "outputs": [
        {
          "output_type": "execute_result",
          "data": {
            "text/plain": [
              "array([ 1,  1,  1,  1,  1,  1,  1,  1,  1,  1,  1,  1,  1, 13, 14])"
            ]
          },
          "metadata": {},
          "execution_count": 35
        }
      ]
    },
    {
      "cell_type": "code",
      "source": [
        "np.where(conditional_array>12,conditional_array,1)"
      ],
      "metadata": {
        "colab": {
          "base_uri": "https://localhost:8080/"
        },
        "id": "JsBs9MI4TkRI",
        "outputId": "ca3b74f3-5d70-43b4-ba61-c81dddfd554c"
      },
      "execution_count": 36,
      "outputs": [
        {
          "output_type": "execute_result",
          "data": {
            "text/plain": [
              "array([ 1,  1,  1,  1,  1,  1,  1,  1,  1,  1,  1,  1,  1, 13, 14])"
            ]
          },
          "metadata": {},
          "execution_count": 36
        }
      ]
    },
    {
      "cell_type": "markdown",
      "source": [
        "# Pandas"
      ],
      "metadata": {
        "id": "6NmCE4b2WG6x"
      }
    },
    {
      "cell_type": "code",
      "source": [
        "import pandas as pd"
      ],
      "metadata": {
        "id": "_RJHg31SU7nG"
      },
      "execution_count": 37,
      "outputs": []
    },
    {
      "cell_type": "markdown",
      "source": [
        "What is series and dataframe?\n",
        "- Series is a one-dimensional labeled array capable of holding any data type (integers, strings, floating point numbers, Python objects, etc.). The axis labels are collectively referred to as the index.\n",
        "- DataFrame is a 2-dimensional labeled data structure with columns of potentially different types."
      ],
      "metadata": {
        "id": "OHl2ZOGXWf6O"
      }
    },
    {
      "cell_type": "markdown",
      "source": [
        "## Creating Series from python dictionary"
      ],
      "metadata": {
        "id": "zJ57kgdkxHQ0"
      }
    },
    {
      "cell_type": "code",
      "source": [
        "employee_dict={\n",
        "          'name':['Aayush','Bishal','Gaurav','Kriti','Manjeet'],\n",
        "          'roll_number':[7,28,37,43,48]\n",
        "          }\n",
        "\n",
        "name = pd.Series(employee_dict)\n",
        "name"
      ],
      "metadata": {
        "colab": {
          "base_uri": "https://localhost:8080/"
        },
        "id": "2jsDO50aw5rU",
        "outputId": "ee2ac520-c737-4ff6-b02d-b64432dc5971"
      },
      "execution_count": 49,
      "outputs": [
        {
          "output_type": "execute_result",
          "data": {
            "text/plain": [
              "name           [Aayush, Bishal, Gaurav, Kriti, Manjeet]\n",
              "roll_number                         [7, 28, 37, 43, 48]\n",
              "dtype: object"
            ]
          },
          "metadata": {},
          "execution_count": 49
        }
      ]
    },
    {
      "cell_type": "markdown",
      "source": [
        "## Creating Dataframe from list of python dictionary"
      ],
      "metadata": {
        "id": "vyTAsVh_Wjxx"
      }
    },
    {
      "cell_type": "code",
      "source": [
        "employee_dict_df=pd.DataFrame(employee_dict)\n",
        "employee_dict_df"
      ],
      "metadata": {
        "colab": {
          "base_uri": "https://localhost:8080/",
          "height": 206
        },
        "id": "GlHBkLQJW5t1",
        "outputId": "d7249fdb-49c5-4ad9-fc9f-9e8836287768"
      },
      "execution_count": 50,
      "outputs": [
        {
          "output_type": "execute_result",
          "data": {
            "text/plain": [
              "      name  roll_number\n",
              "0   Aayush            7\n",
              "1   Bishal           28\n",
              "2   Gaurav           37\n",
              "3    Kriti           43\n",
              "4  Manjeet           48"
            ],
            "text/html": [
              "\n",
              "  <div id=\"df-486fffcb-6577-4341-972d-89ff41d3e1b6\">\n",
              "    <div class=\"colab-df-container\">\n",
              "      <div>\n",
              "<style scoped>\n",
              "    .dataframe tbody tr th:only-of-type {\n",
              "        vertical-align: middle;\n",
              "    }\n",
              "\n",
              "    .dataframe tbody tr th {\n",
              "        vertical-align: top;\n",
              "    }\n",
              "\n",
              "    .dataframe thead th {\n",
              "        text-align: right;\n",
              "    }\n",
              "</style>\n",
              "<table border=\"1\" class=\"dataframe\">\n",
              "  <thead>\n",
              "    <tr style=\"text-align: right;\">\n",
              "      <th></th>\n",
              "      <th>name</th>\n",
              "      <th>roll_number</th>\n",
              "    </tr>\n",
              "  </thead>\n",
              "  <tbody>\n",
              "    <tr>\n",
              "      <th>0</th>\n",
              "      <td>Aayush</td>\n",
              "      <td>7</td>\n",
              "    </tr>\n",
              "    <tr>\n",
              "      <th>1</th>\n",
              "      <td>Bishal</td>\n",
              "      <td>28</td>\n",
              "    </tr>\n",
              "    <tr>\n",
              "      <th>2</th>\n",
              "      <td>Gaurav</td>\n",
              "      <td>37</td>\n",
              "    </tr>\n",
              "    <tr>\n",
              "      <th>3</th>\n",
              "      <td>Kriti</td>\n",
              "      <td>43</td>\n",
              "    </tr>\n",
              "    <tr>\n",
              "      <th>4</th>\n",
              "      <td>Manjeet</td>\n",
              "      <td>48</td>\n",
              "    </tr>\n",
              "  </tbody>\n",
              "</table>\n",
              "</div>\n",
              "      <button class=\"colab-df-convert\" onclick=\"convertToInteractive('df-486fffcb-6577-4341-972d-89ff41d3e1b6')\"\n",
              "              title=\"Convert this dataframe to an interactive table.\"\n",
              "              style=\"display:none;\">\n",
              "        \n",
              "  <svg xmlns=\"http://www.w3.org/2000/svg\" height=\"24px\"viewBox=\"0 0 24 24\"\n",
              "       width=\"24px\">\n",
              "    <path d=\"M0 0h24v24H0V0z\" fill=\"none\"/>\n",
              "    <path d=\"M18.56 5.44l.94 2.06.94-2.06 2.06-.94-2.06-.94-.94-2.06-.94 2.06-2.06.94zm-11 1L8.5 8.5l.94-2.06 2.06-.94-2.06-.94L8.5 2.5l-.94 2.06-2.06.94zm10 10l.94 2.06.94-2.06 2.06-.94-2.06-.94-.94-2.06-.94 2.06-2.06.94z\"/><path d=\"M17.41 7.96l-1.37-1.37c-.4-.4-.92-.59-1.43-.59-.52 0-1.04.2-1.43.59L10.3 9.45l-7.72 7.72c-.78.78-.78 2.05 0 2.83L4 21.41c.39.39.9.59 1.41.59.51 0 1.02-.2 1.41-.59l7.78-7.78 2.81-2.81c.8-.78.8-2.07 0-2.86zM5.41 20L4 18.59l7.72-7.72 1.47 1.35L5.41 20z\"/>\n",
              "  </svg>\n",
              "      </button>\n",
              "      \n",
              "  <style>\n",
              "    .colab-df-container {\n",
              "      display:flex;\n",
              "      flex-wrap:wrap;\n",
              "      gap: 12px;\n",
              "    }\n",
              "\n",
              "    .colab-df-convert {\n",
              "      background-color: #E8F0FE;\n",
              "      border: none;\n",
              "      border-radius: 50%;\n",
              "      cursor: pointer;\n",
              "      display: none;\n",
              "      fill: #1967D2;\n",
              "      height: 32px;\n",
              "      padding: 0 0 0 0;\n",
              "      width: 32px;\n",
              "    }\n",
              "\n",
              "    .colab-df-convert:hover {\n",
              "      background-color: #E2EBFA;\n",
              "      box-shadow: 0px 1px 2px rgba(60, 64, 67, 0.3), 0px 1px 3px 1px rgba(60, 64, 67, 0.15);\n",
              "      fill: #174EA6;\n",
              "    }\n",
              "\n",
              "    [theme=dark] .colab-df-convert {\n",
              "      background-color: #3B4455;\n",
              "      fill: #D2E3FC;\n",
              "    }\n",
              "\n",
              "    [theme=dark] .colab-df-convert:hover {\n",
              "      background-color: #434B5C;\n",
              "      box-shadow: 0px 1px 3px 1px rgba(0, 0, 0, 0.15);\n",
              "      filter: drop-shadow(0px 1px 2px rgba(0, 0, 0, 0.3));\n",
              "      fill: #FFFFFF;\n",
              "    }\n",
              "  </style>\n",
              "\n",
              "      <script>\n",
              "        const buttonEl =\n",
              "          document.querySelector('#df-486fffcb-6577-4341-972d-89ff41d3e1b6 button.colab-df-convert');\n",
              "        buttonEl.style.display =\n",
              "          google.colab.kernel.accessAllowed ? 'block' : 'none';\n",
              "\n",
              "        async function convertToInteractive(key) {\n",
              "          const element = document.querySelector('#df-486fffcb-6577-4341-972d-89ff41d3e1b6');\n",
              "          const dataTable =\n",
              "            await google.colab.kernel.invokeFunction('convertToInteractive',\n",
              "                                                     [key], {});\n",
              "          if (!dataTable) return;\n",
              "\n",
              "          const docLinkHtml = 'Like what you see? Visit the ' +\n",
              "            '<a target=\"_blank\" href=https://colab.research.google.com/notebooks/data_table.ipynb>data table notebook</a>'\n",
              "            + ' to learn more about interactive tables.';\n",
              "          element.innerHTML = '';\n",
              "          dataTable['output_type'] = 'display_data';\n",
              "          await google.colab.output.renderOutput(dataTable, element);\n",
              "          const docLink = document.createElement('div');\n",
              "          docLink.innerHTML = docLinkHtml;\n",
              "          element.appendChild(docLink);\n",
              "        }\n",
              "      </script>\n",
              "    </div>\n",
              "  </div>\n",
              "  "
            ]
          },
          "metadata": {},
          "execution_count": 50
        }
      ]
    },
    {
      "cell_type": "markdown",
      "source": [
        "Note: Difference between Series and DataFrame\n",
        "- Series works in form of index and values\n",
        "- DataFrame is more like tabular form"
      ],
      "metadata": {
        "id": "NqgBySOKyQOd"
      }
    },
    {
      "cell_type": "markdown",
      "source": [
        "## Creating DataFrame from python list"
      ],
      "metadata": {
        "id": "ufythe6GXMsY"
      }
    },
    {
      "cell_type": "code",
      "source": [
        "employee_list=[['Aayush',7],['Bishal',28],['Gaurav',37],['Kriti',43],['Manjeet',48]]"
      ],
      "metadata": {
        "id": "clHiidnpW-kf"
      },
      "execution_count": 51,
      "outputs": []
    },
    {
      "cell_type": "code",
      "source": [
        "employee_list_df=pd.DataFrame(employee_list)\n",
        "employee_list_df"
      ],
      "metadata": {
        "colab": {
          "base_uri": "https://localhost:8080/",
          "height": 206
        },
        "id": "GILQ5fjJXXyp",
        "outputId": "98818fd6-b386-4d0a-afba-83ad95adb4b3"
      },
      "execution_count": 52,
      "outputs": [
        {
          "output_type": "execute_result",
          "data": {
            "text/plain": [
              "         0   1\n",
              "0   Aayush   7\n",
              "1   Bishal  28\n",
              "2   Gaurav  37\n",
              "3    Kriti  43\n",
              "4  Manjeet  48"
            ],
            "text/html": [
              "\n",
              "  <div id=\"df-942f8c17-9911-4a8e-a3b4-3656fe61afa7\">\n",
              "    <div class=\"colab-df-container\">\n",
              "      <div>\n",
              "<style scoped>\n",
              "    .dataframe tbody tr th:only-of-type {\n",
              "        vertical-align: middle;\n",
              "    }\n",
              "\n",
              "    .dataframe tbody tr th {\n",
              "        vertical-align: top;\n",
              "    }\n",
              "\n",
              "    .dataframe thead th {\n",
              "        text-align: right;\n",
              "    }\n",
              "</style>\n",
              "<table border=\"1\" class=\"dataframe\">\n",
              "  <thead>\n",
              "    <tr style=\"text-align: right;\">\n",
              "      <th></th>\n",
              "      <th>0</th>\n",
              "      <th>1</th>\n",
              "    </tr>\n",
              "  </thead>\n",
              "  <tbody>\n",
              "    <tr>\n",
              "      <th>0</th>\n",
              "      <td>Aayush</td>\n",
              "      <td>7</td>\n",
              "    </tr>\n",
              "    <tr>\n",
              "      <th>1</th>\n",
              "      <td>Bishal</td>\n",
              "      <td>28</td>\n",
              "    </tr>\n",
              "    <tr>\n",
              "      <th>2</th>\n",
              "      <td>Gaurav</td>\n",
              "      <td>37</td>\n",
              "    </tr>\n",
              "    <tr>\n",
              "      <th>3</th>\n",
              "      <td>Kriti</td>\n",
              "      <td>43</td>\n",
              "    </tr>\n",
              "    <tr>\n",
              "      <th>4</th>\n",
              "      <td>Manjeet</td>\n",
              "      <td>48</td>\n",
              "    </tr>\n",
              "  </tbody>\n",
              "</table>\n",
              "</div>\n",
              "      <button class=\"colab-df-convert\" onclick=\"convertToInteractive('df-942f8c17-9911-4a8e-a3b4-3656fe61afa7')\"\n",
              "              title=\"Convert this dataframe to an interactive table.\"\n",
              "              style=\"display:none;\">\n",
              "        \n",
              "  <svg xmlns=\"http://www.w3.org/2000/svg\" height=\"24px\"viewBox=\"0 0 24 24\"\n",
              "       width=\"24px\">\n",
              "    <path d=\"M0 0h24v24H0V0z\" fill=\"none\"/>\n",
              "    <path d=\"M18.56 5.44l.94 2.06.94-2.06 2.06-.94-2.06-.94-.94-2.06-.94 2.06-2.06.94zm-11 1L8.5 8.5l.94-2.06 2.06-.94-2.06-.94L8.5 2.5l-.94 2.06-2.06.94zm10 10l.94 2.06.94-2.06 2.06-.94-2.06-.94-.94-2.06-.94 2.06-2.06.94z\"/><path d=\"M17.41 7.96l-1.37-1.37c-.4-.4-.92-.59-1.43-.59-.52 0-1.04.2-1.43.59L10.3 9.45l-7.72 7.72c-.78.78-.78 2.05 0 2.83L4 21.41c.39.39.9.59 1.41.59.51 0 1.02-.2 1.41-.59l7.78-7.78 2.81-2.81c.8-.78.8-2.07 0-2.86zM5.41 20L4 18.59l7.72-7.72 1.47 1.35L5.41 20z\"/>\n",
              "  </svg>\n",
              "      </button>\n",
              "      \n",
              "  <style>\n",
              "    .colab-df-container {\n",
              "      display:flex;\n",
              "      flex-wrap:wrap;\n",
              "      gap: 12px;\n",
              "    }\n",
              "\n",
              "    .colab-df-convert {\n",
              "      background-color: #E8F0FE;\n",
              "      border: none;\n",
              "      border-radius: 50%;\n",
              "      cursor: pointer;\n",
              "      display: none;\n",
              "      fill: #1967D2;\n",
              "      height: 32px;\n",
              "      padding: 0 0 0 0;\n",
              "      width: 32px;\n",
              "    }\n",
              "\n",
              "    .colab-df-convert:hover {\n",
              "      background-color: #E2EBFA;\n",
              "      box-shadow: 0px 1px 2px rgba(60, 64, 67, 0.3), 0px 1px 3px 1px rgba(60, 64, 67, 0.15);\n",
              "      fill: #174EA6;\n",
              "    }\n",
              "\n",
              "    [theme=dark] .colab-df-convert {\n",
              "      background-color: #3B4455;\n",
              "      fill: #D2E3FC;\n",
              "    }\n",
              "\n",
              "    [theme=dark] .colab-df-convert:hover {\n",
              "      background-color: #434B5C;\n",
              "      box-shadow: 0px 1px 3px 1px rgba(0, 0, 0, 0.15);\n",
              "      filter: drop-shadow(0px 1px 2px rgba(0, 0, 0, 0.3));\n",
              "      fill: #FFFFFF;\n",
              "    }\n",
              "  </style>\n",
              "\n",
              "      <script>\n",
              "        const buttonEl =\n",
              "          document.querySelector('#df-942f8c17-9911-4a8e-a3b4-3656fe61afa7 button.colab-df-convert');\n",
              "        buttonEl.style.display =\n",
              "          google.colab.kernel.accessAllowed ? 'block' : 'none';\n",
              "\n",
              "        async function convertToInteractive(key) {\n",
              "          const element = document.querySelector('#df-942f8c17-9911-4a8e-a3b4-3656fe61afa7');\n",
              "          const dataTable =\n",
              "            await google.colab.kernel.invokeFunction('convertToInteractive',\n",
              "                                                     [key], {});\n",
              "          if (!dataTable) return;\n",
              "\n",
              "          const docLinkHtml = 'Like what you see? Visit the ' +\n",
              "            '<a target=\"_blank\" href=https://colab.research.google.com/notebooks/data_table.ipynb>data table notebook</a>'\n",
              "            + ' to learn more about interactive tables.';\n",
              "          element.innerHTML = '';\n",
              "          dataTable['output_type'] = 'display_data';\n",
              "          await google.colab.output.renderOutput(dataTable, element);\n",
              "          const docLink = document.createElement('div');\n",
              "          docLink.innerHTML = docLinkHtml;\n",
              "          element.appendChild(docLink);\n",
              "        }\n",
              "      </script>\n",
              "    </div>\n",
              "  </div>\n",
              "  "
            ]
          },
          "metadata": {},
          "execution_count": 52
        }
      ]
    },
    {
      "cell_type": "code",
      "source": [
        "employee_list_df.columns=['name','roll_number']\n",
        "employee_list_df"
      ],
      "metadata": {
        "colab": {
          "base_uri": "https://localhost:8080/",
          "height": 206
        },
        "id": "XoI0YGsTXzfs",
        "outputId": "ff61bc3d-ee48-4b9e-ca39-51ec580232a7"
      },
      "execution_count": 53,
      "outputs": [
        {
          "output_type": "execute_result",
          "data": {
            "text/plain": [
              "      name  roll_number\n",
              "0   Aayush            7\n",
              "1   Bishal           28\n",
              "2   Gaurav           37\n",
              "3    Kriti           43\n",
              "4  Manjeet           48"
            ],
            "text/html": [
              "\n",
              "  <div id=\"df-01e49818-f08b-4121-b4cd-39818b220711\">\n",
              "    <div class=\"colab-df-container\">\n",
              "      <div>\n",
              "<style scoped>\n",
              "    .dataframe tbody tr th:only-of-type {\n",
              "        vertical-align: middle;\n",
              "    }\n",
              "\n",
              "    .dataframe tbody tr th {\n",
              "        vertical-align: top;\n",
              "    }\n",
              "\n",
              "    .dataframe thead th {\n",
              "        text-align: right;\n",
              "    }\n",
              "</style>\n",
              "<table border=\"1\" class=\"dataframe\">\n",
              "  <thead>\n",
              "    <tr style=\"text-align: right;\">\n",
              "      <th></th>\n",
              "      <th>name</th>\n",
              "      <th>roll_number</th>\n",
              "    </tr>\n",
              "  </thead>\n",
              "  <tbody>\n",
              "    <tr>\n",
              "      <th>0</th>\n",
              "      <td>Aayush</td>\n",
              "      <td>7</td>\n",
              "    </tr>\n",
              "    <tr>\n",
              "      <th>1</th>\n",
              "      <td>Bishal</td>\n",
              "      <td>28</td>\n",
              "    </tr>\n",
              "    <tr>\n",
              "      <th>2</th>\n",
              "      <td>Gaurav</td>\n",
              "      <td>37</td>\n",
              "    </tr>\n",
              "    <tr>\n",
              "      <th>3</th>\n",
              "      <td>Kriti</td>\n",
              "      <td>43</td>\n",
              "    </tr>\n",
              "    <tr>\n",
              "      <th>4</th>\n",
              "      <td>Manjeet</td>\n",
              "      <td>48</td>\n",
              "    </tr>\n",
              "  </tbody>\n",
              "</table>\n",
              "</div>\n",
              "      <button class=\"colab-df-convert\" onclick=\"convertToInteractive('df-01e49818-f08b-4121-b4cd-39818b220711')\"\n",
              "              title=\"Convert this dataframe to an interactive table.\"\n",
              "              style=\"display:none;\">\n",
              "        \n",
              "  <svg xmlns=\"http://www.w3.org/2000/svg\" height=\"24px\"viewBox=\"0 0 24 24\"\n",
              "       width=\"24px\">\n",
              "    <path d=\"M0 0h24v24H0V0z\" fill=\"none\"/>\n",
              "    <path d=\"M18.56 5.44l.94 2.06.94-2.06 2.06-.94-2.06-.94-.94-2.06-.94 2.06-2.06.94zm-11 1L8.5 8.5l.94-2.06 2.06-.94-2.06-.94L8.5 2.5l-.94 2.06-2.06.94zm10 10l.94 2.06.94-2.06 2.06-.94-2.06-.94-.94-2.06-.94 2.06-2.06.94z\"/><path d=\"M17.41 7.96l-1.37-1.37c-.4-.4-.92-.59-1.43-.59-.52 0-1.04.2-1.43.59L10.3 9.45l-7.72 7.72c-.78.78-.78 2.05 0 2.83L4 21.41c.39.39.9.59 1.41.59.51 0 1.02-.2 1.41-.59l7.78-7.78 2.81-2.81c.8-.78.8-2.07 0-2.86zM5.41 20L4 18.59l7.72-7.72 1.47 1.35L5.41 20z\"/>\n",
              "  </svg>\n",
              "      </button>\n",
              "      \n",
              "  <style>\n",
              "    .colab-df-container {\n",
              "      display:flex;\n",
              "      flex-wrap:wrap;\n",
              "      gap: 12px;\n",
              "    }\n",
              "\n",
              "    .colab-df-convert {\n",
              "      background-color: #E8F0FE;\n",
              "      border: none;\n",
              "      border-radius: 50%;\n",
              "      cursor: pointer;\n",
              "      display: none;\n",
              "      fill: #1967D2;\n",
              "      height: 32px;\n",
              "      padding: 0 0 0 0;\n",
              "      width: 32px;\n",
              "    }\n",
              "\n",
              "    .colab-df-convert:hover {\n",
              "      background-color: #E2EBFA;\n",
              "      box-shadow: 0px 1px 2px rgba(60, 64, 67, 0.3), 0px 1px 3px 1px rgba(60, 64, 67, 0.15);\n",
              "      fill: #174EA6;\n",
              "    }\n",
              "\n",
              "    [theme=dark] .colab-df-convert {\n",
              "      background-color: #3B4455;\n",
              "      fill: #D2E3FC;\n",
              "    }\n",
              "\n",
              "    [theme=dark] .colab-df-convert:hover {\n",
              "      background-color: #434B5C;\n",
              "      box-shadow: 0px 1px 3px 1px rgba(0, 0, 0, 0.15);\n",
              "      filter: drop-shadow(0px 1px 2px rgba(0, 0, 0, 0.3));\n",
              "      fill: #FFFFFF;\n",
              "    }\n",
              "  </style>\n",
              "\n",
              "      <script>\n",
              "        const buttonEl =\n",
              "          document.querySelector('#df-01e49818-f08b-4121-b4cd-39818b220711 button.colab-df-convert');\n",
              "        buttonEl.style.display =\n",
              "          google.colab.kernel.accessAllowed ? 'block' : 'none';\n",
              "\n",
              "        async function convertToInteractive(key) {\n",
              "          const element = document.querySelector('#df-01e49818-f08b-4121-b4cd-39818b220711');\n",
              "          const dataTable =\n",
              "            await google.colab.kernel.invokeFunction('convertToInteractive',\n",
              "                                                     [key], {});\n",
              "          if (!dataTable) return;\n",
              "\n",
              "          const docLinkHtml = 'Like what you see? Visit the ' +\n",
              "            '<a target=\"_blank\" href=https://colab.research.google.com/notebooks/data_table.ipynb>data table notebook</a>'\n",
              "            + ' to learn more about interactive tables.';\n",
              "          element.innerHTML = '';\n",
              "          dataTable['output_type'] = 'display_data';\n",
              "          await google.colab.output.renderOutput(dataTable, element);\n",
              "          const docLink = document.createElement('div');\n",
              "          docLink.innerHTML = docLinkHtml;\n",
              "          element.appendChild(docLink);\n",
              "        }\n",
              "      </script>\n",
              "    </div>\n",
              "  </div>\n",
              "  "
            ]
          },
          "metadata": {},
          "execution_count": 53
        }
      ]
    },
    {
      "cell_type": "markdown",
      "source": [
        "## Useful attributes and methods in panda"
      ],
      "metadata": {
        "id": "9A2tokrlZHpF"
      }
    },
    {
      "cell_type": "markdown",
      "source": [
        "- `.values` : A 2d numpy array of values\n",
        "- `.columns` : Index of columns, column names\n",
        "- `.index` : An index of rows, either row numbers or row names\n",
        "- `.shape` :return number of rows and columns of dataframe\n",
        "- `.head()` :return first few row of dataframe\n",
        "- `.tail()` :return last few row of dataframe\n",
        "- `.info()` :shows information of each of the columns such as data type and number of missing values\n",
        "- `.describe()` :calculate few summary statistics for each column"
      ],
      "metadata": {
        "id": "4uIo1VT2ZQif"
      }
    },
    {
      "cell_type": "code",
      "source": [
        "book_dict={\n",
        "    'book_count':[272,491,np.nan,487,1356,226,969,360,311,3455,np.nan,210,995,896,710,274,201,376,566,239],\n",
        "    'rating' : ['A','C', 'A', 'B','A', np.nan,'B','A','C','A', 'B', 'A','C','A',np.nan, 'B','A','C','A','C'], \n",
        "\n",
        "    'author':['Suzanne Collins','J.K. Rowling','Stephenie Meyer', 'Harper Lee', 'J.D. Salinger', 'John Green', \\\n",
        "              'J.R.R. Tolkien', 'J.D. Salinger','Dan Brown', 'Jane Austen', 'Khaled Hosseini', 'Veronica Roth', 'John Green',\\\n",
        "              'George Orwell', 'Anne Frank', 'Stieg Larsson, Reg Keeland', \\\n",
        "              'Suzanne Collins','J.K. Rowling',np.nan, 'Suzanne Collins'],\n",
        "           \n",
        "    'title':['The Hunger Games',\"Harry Potter and the Philosopher's Stone\",'Twilight','To Kill a Mockingbird',\\\n",
        "             'The Great Gatsby','The Fault in Our Stars','The Hobbit or There and Back Again', \\\n",
        "             'The Catcher in the Rye','Angels & Demons ','Pride and Prejudice','The Kite Runner ',\\\n",
        "             'Divergent','Nineteen Eighty-Four','Animal Farm: A Fairy Story','Het Achterhuis',\\\n",
        "             'Män som hatar kvinnor',np.nan,'Harry Potter and the Prisoner of Azkaban',' The Fellowship of the Ring','Mockingjay']\n",
        "}"
      ],
      "metadata": {
        "id": "XrY30bxDYSy8"
      },
      "execution_count": 69,
      "outputs": []
    },
    {
      "cell_type": "code",
      "source": [
        "book_df=pd.DataFrame(book_dict)\n",
        "book_df.head()"
      ],
      "metadata": {
        "colab": {
          "base_uri": "https://localhost:8080/",
          "height": 206
        },
        "id": "10XiwE4kbyRY",
        "outputId": "ba19c703-997a-4ff5-e677-c1ddd1c31459"
      },
      "execution_count": 70,
      "outputs": [
        {
          "output_type": "execute_result",
          "data": {
            "text/plain": [
              "   book_count rating           author  \\\n",
              "0       272.0      A  Suzanne Collins   \n",
              "1       491.0      C     J.K. Rowling   \n",
              "2         NaN      A  Stephenie Meyer   \n",
              "3       487.0      B       Harper Lee   \n",
              "4      1356.0      A    J.D. Salinger   \n",
              "\n",
              "                                      title  \n",
              "0                          The Hunger Games  \n",
              "1  Harry Potter and the Philosopher's Stone  \n",
              "2                                  Twilight  \n",
              "3                     To Kill a Mockingbird  \n",
              "4                          The Great Gatsby  "
            ],
            "text/html": [
              "\n",
              "  <div id=\"df-e9cb9aea-7d2d-4851-9666-fd97602a1e44\">\n",
              "    <div class=\"colab-df-container\">\n",
              "      <div>\n",
              "<style scoped>\n",
              "    .dataframe tbody tr th:only-of-type {\n",
              "        vertical-align: middle;\n",
              "    }\n",
              "\n",
              "    .dataframe tbody tr th {\n",
              "        vertical-align: top;\n",
              "    }\n",
              "\n",
              "    .dataframe thead th {\n",
              "        text-align: right;\n",
              "    }\n",
              "</style>\n",
              "<table border=\"1\" class=\"dataframe\">\n",
              "  <thead>\n",
              "    <tr style=\"text-align: right;\">\n",
              "      <th></th>\n",
              "      <th>book_count</th>\n",
              "      <th>rating</th>\n",
              "      <th>author</th>\n",
              "      <th>title</th>\n",
              "    </tr>\n",
              "  </thead>\n",
              "  <tbody>\n",
              "    <tr>\n",
              "      <th>0</th>\n",
              "      <td>272.0</td>\n",
              "      <td>A</td>\n",
              "      <td>Suzanne Collins</td>\n",
              "      <td>The Hunger Games</td>\n",
              "    </tr>\n",
              "    <tr>\n",
              "      <th>1</th>\n",
              "      <td>491.0</td>\n",
              "      <td>C</td>\n",
              "      <td>J.K. Rowling</td>\n",
              "      <td>Harry Potter and the Philosopher's Stone</td>\n",
              "    </tr>\n",
              "    <tr>\n",
              "      <th>2</th>\n",
              "      <td>NaN</td>\n",
              "      <td>A</td>\n",
              "      <td>Stephenie Meyer</td>\n",
              "      <td>Twilight</td>\n",
              "    </tr>\n",
              "    <tr>\n",
              "      <th>3</th>\n",
              "      <td>487.0</td>\n",
              "      <td>B</td>\n",
              "      <td>Harper Lee</td>\n",
              "      <td>To Kill a Mockingbird</td>\n",
              "    </tr>\n",
              "    <tr>\n",
              "      <th>4</th>\n",
              "      <td>1356.0</td>\n",
              "      <td>A</td>\n",
              "      <td>J.D. Salinger</td>\n",
              "      <td>The Great Gatsby</td>\n",
              "    </tr>\n",
              "  </tbody>\n",
              "</table>\n",
              "</div>\n",
              "      <button class=\"colab-df-convert\" onclick=\"convertToInteractive('df-e9cb9aea-7d2d-4851-9666-fd97602a1e44')\"\n",
              "              title=\"Convert this dataframe to an interactive table.\"\n",
              "              style=\"display:none;\">\n",
              "        \n",
              "  <svg xmlns=\"http://www.w3.org/2000/svg\" height=\"24px\"viewBox=\"0 0 24 24\"\n",
              "       width=\"24px\">\n",
              "    <path d=\"M0 0h24v24H0V0z\" fill=\"none\"/>\n",
              "    <path d=\"M18.56 5.44l.94 2.06.94-2.06 2.06-.94-2.06-.94-.94-2.06-.94 2.06-2.06.94zm-11 1L8.5 8.5l.94-2.06 2.06-.94-2.06-.94L8.5 2.5l-.94 2.06-2.06.94zm10 10l.94 2.06.94-2.06 2.06-.94-2.06-.94-.94-2.06-.94 2.06-2.06.94z\"/><path d=\"M17.41 7.96l-1.37-1.37c-.4-.4-.92-.59-1.43-.59-.52 0-1.04.2-1.43.59L10.3 9.45l-7.72 7.72c-.78.78-.78 2.05 0 2.83L4 21.41c.39.39.9.59 1.41.59.51 0 1.02-.2 1.41-.59l7.78-7.78 2.81-2.81c.8-.78.8-2.07 0-2.86zM5.41 20L4 18.59l7.72-7.72 1.47 1.35L5.41 20z\"/>\n",
              "  </svg>\n",
              "      </button>\n",
              "      \n",
              "  <style>\n",
              "    .colab-df-container {\n",
              "      display:flex;\n",
              "      flex-wrap:wrap;\n",
              "      gap: 12px;\n",
              "    }\n",
              "\n",
              "    .colab-df-convert {\n",
              "      background-color: #E8F0FE;\n",
              "      border: none;\n",
              "      border-radius: 50%;\n",
              "      cursor: pointer;\n",
              "      display: none;\n",
              "      fill: #1967D2;\n",
              "      height: 32px;\n",
              "      padding: 0 0 0 0;\n",
              "      width: 32px;\n",
              "    }\n",
              "\n",
              "    .colab-df-convert:hover {\n",
              "      background-color: #E2EBFA;\n",
              "      box-shadow: 0px 1px 2px rgba(60, 64, 67, 0.3), 0px 1px 3px 1px rgba(60, 64, 67, 0.15);\n",
              "      fill: #174EA6;\n",
              "    }\n",
              "\n",
              "    [theme=dark] .colab-df-convert {\n",
              "      background-color: #3B4455;\n",
              "      fill: #D2E3FC;\n",
              "    }\n",
              "\n",
              "    [theme=dark] .colab-df-convert:hover {\n",
              "      background-color: #434B5C;\n",
              "      box-shadow: 0px 1px 3px 1px rgba(0, 0, 0, 0.15);\n",
              "      filter: drop-shadow(0px 1px 2px rgba(0, 0, 0, 0.3));\n",
              "      fill: #FFFFFF;\n",
              "    }\n",
              "  </style>\n",
              "\n",
              "      <script>\n",
              "        const buttonEl =\n",
              "          document.querySelector('#df-e9cb9aea-7d2d-4851-9666-fd97602a1e44 button.colab-df-convert');\n",
              "        buttonEl.style.display =\n",
              "          google.colab.kernel.accessAllowed ? 'block' : 'none';\n",
              "\n",
              "        async function convertToInteractive(key) {\n",
              "          const element = document.querySelector('#df-e9cb9aea-7d2d-4851-9666-fd97602a1e44');\n",
              "          const dataTable =\n",
              "            await google.colab.kernel.invokeFunction('convertToInteractive',\n",
              "                                                     [key], {});\n",
              "          if (!dataTable) return;\n",
              "\n",
              "          const docLinkHtml = 'Like what you see? Visit the ' +\n",
              "            '<a target=\"_blank\" href=https://colab.research.google.com/notebooks/data_table.ipynb>data table notebook</a>'\n",
              "            + ' to learn more about interactive tables.';\n",
              "          element.innerHTML = '';\n",
              "          dataTable['output_type'] = 'display_data';\n",
              "          await google.colab.output.renderOutput(dataTable, element);\n",
              "          const docLink = document.createElement('div');\n",
              "          docLink.innerHTML = docLinkHtml;\n",
              "          element.appendChild(docLink);\n",
              "        }\n",
              "      </script>\n",
              "    </div>\n",
              "  </div>\n",
              "  "
            ]
          },
          "metadata": {},
          "execution_count": 70
        }
      ]
    },
    {
      "cell_type": "code",
      "source": [
        "book_df.values"
      ],
      "metadata": {
        "colab": {
          "base_uri": "https://localhost:8080/"
        },
        "id": "7Fm8tWm_b2t5",
        "outputId": "7fae93ef-3214-4d5b-ab42-c47b244ec419"
      },
      "execution_count": 56,
      "outputs": [
        {
          "output_type": "execute_result",
          "data": {
            "text/plain": [
              "array([[272.0, 'A', 'Suzanne Collins', 'The Hunger Games'],\n",
              "       [491.0, 'C', 'J.K. Rowling',\n",
              "        \"Harry Potter and the Philosopher's Stone\"],\n",
              "       [nan, 'A', 'Stephenie Meyer', 'Twilight'],\n",
              "       [487.0, 'B', 'Harper Lee', 'To Kill a Mockingbird'],\n",
              "       [1356.0, 'A', 'J.D. Salinger', 'The Great Gatsby'],\n",
              "       [226.0, nan, 'John Green', 'The Fault in Our Stars'],\n",
              "       [969.0, 'B', 'J.R.R. Tolkien',\n",
              "        'The Hobbit or There and Back Again'],\n",
              "       [360.0, 'A', 'J.D. Salinger', 'The Catcher in the Rye'],\n",
              "       [311.0, 'C', 'Dan Brown', 'Angels & Demons '],\n",
              "       [3455.0, 'A', 'Jane Austen', 'Pride and Prejudice'],\n",
              "       [nan, 'B', 'Khaled Hosseini', 'The Kite Runner '],\n",
              "       [210.0, 'A', 'Veronica Roth', 'Divergent'],\n",
              "       [995.0, 'C', 'John Green', 'Nineteen Eighty-Four'],\n",
              "       [896.0, 'A', 'George Orwell', 'Animal Farm: A Fairy Story'],\n",
              "       [710.0, nan, 'Anne Frank', 'Het Achterhuis'],\n",
              "       [274.0, 'B', 'Stieg Larsson, Reg Keeland',\n",
              "        'Män som hatar kvinnor'],\n",
              "       [201.0, 'A', 'Suzanne Collins', nan],\n",
              "       [376.0, 'C', 'J.K. Rowling',\n",
              "        'Harry Potter and the Prisoner of Azkaban'],\n",
              "       [566.0, 'A', nan, ' The Fellowship of the Ring'],\n",
              "       [239.0, 'C', 'Suzanne Collins', 'Mockingjay']], dtype=object)"
            ]
          },
          "metadata": {},
          "execution_count": 56
        }
      ]
    },
    {
      "cell_type": "code",
      "source": [
        "book_df.columns"
      ],
      "metadata": {
        "colab": {
          "base_uri": "https://localhost:8080/"
        },
        "id": "20-lSMyqb8cu",
        "outputId": "89d67963-1aba-45f0-e74f-1ac16b224a07"
      },
      "execution_count": 60,
      "outputs": [
        {
          "output_type": "execute_result",
          "data": {
            "text/plain": [
              "Index(['book_count', 'rating', 'author', 'title'], dtype='object')"
            ]
          },
          "metadata": {},
          "execution_count": 60
        }
      ]
    },
    {
      "cell_type": "code",
      "source": [
        "book_df.index"
      ],
      "metadata": {
        "colab": {
          "base_uri": "https://localhost:8080/"
        },
        "id": "sCemP3NdcPOL",
        "outputId": "a2349558-134b-4830-fdc3-2f463090af1b"
      },
      "execution_count": 61,
      "outputs": [
        {
          "output_type": "execute_result",
          "data": {
            "text/plain": [
              "RangeIndex(start=0, stop=20, step=1)"
            ]
          },
          "metadata": {},
          "execution_count": 61
        }
      ]
    },
    {
      "cell_type": "code",
      "source": [
        "book_df.shape"
      ],
      "metadata": {
        "colab": {
          "base_uri": "https://localhost:8080/"
        },
        "id": "8UoEGCZTcWpy",
        "outputId": "867a67ed-a325-4852-e848-1cc8c1f1d6ef"
      },
      "execution_count": 62,
      "outputs": [
        {
          "output_type": "execute_result",
          "data": {
            "text/plain": [
              "(20, 4)"
            ]
          },
          "metadata": {},
          "execution_count": 62
        }
      ]
    },
    {
      "cell_type": "code",
      "source": [
        "book_df.info()"
      ],
      "metadata": {
        "colab": {
          "base_uri": "https://localhost:8080/"
        },
        "id": "f73SvU0Ecnf0",
        "outputId": "d57aea66-de37-44b9-bb58-d2c50673f076"
      },
      "execution_count": 63,
      "outputs": [
        {
          "output_type": "stream",
          "name": "stdout",
          "text": [
            "<class 'pandas.core.frame.DataFrame'>\n",
            "RangeIndex: 20 entries, 0 to 19\n",
            "Data columns (total 4 columns):\n",
            " #   Column      Non-Null Count  Dtype  \n",
            "---  ------      --------------  -----  \n",
            " 0   book_count  18 non-null     float64\n",
            " 1   rating      18 non-null     object \n",
            " 2   author      19 non-null     object \n",
            " 3   title       19 non-null     object \n",
            "dtypes: float64(1), object(3)\n",
            "memory usage: 768.0+ bytes\n"
          ]
        }
      ]
    },
    {
      "cell_type": "code",
      "source": [
        "book_df.describe()"
      ],
      "metadata": {
        "colab": {
          "base_uri": "https://localhost:8080/",
          "height": 300
        },
        "id": "JeBcoRvbcqpy",
        "outputId": "9fa94b3a-cd46-4f74-cfe3-8457b17332ea"
      },
      "execution_count": 64,
      "outputs": [
        {
          "output_type": "execute_result",
          "data": {
            "text/plain": [
              "        book_count\n",
              "count    18.000000\n",
              "mean    688.555556\n",
              "std     766.418963\n",
              "min     201.000000\n",
              "25%     272.500000\n",
              "50%     431.500000\n",
              "75%     849.500000\n",
              "max    3455.000000"
            ],
            "text/html": [
              "\n",
              "  <div id=\"df-54c90c40-56ca-4751-bb1c-d08199e8338a\">\n",
              "    <div class=\"colab-df-container\">\n",
              "      <div>\n",
              "<style scoped>\n",
              "    .dataframe tbody tr th:only-of-type {\n",
              "        vertical-align: middle;\n",
              "    }\n",
              "\n",
              "    .dataframe tbody tr th {\n",
              "        vertical-align: top;\n",
              "    }\n",
              "\n",
              "    .dataframe thead th {\n",
              "        text-align: right;\n",
              "    }\n",
              "</style>\n",
              "<table border=\"1\" class=\"dataframe\">\n",
              "  <thead>\n",
              "    <tr style=\"text-align: right;\">\n",
              "      <th></th>\n",
              "      <th>book_count</th>\n",
              "    </tr>\n",
              "  </thead>\n",
              "  <tbody>\n",
              "    <tr>\n",
              "      <th>count</th>\n",
              "      <td>18.000000</td>\n",
              "    </tr>\n",
              "    <tr>\n",
              "      <th>mean</th>\n",
              "      <td>688.555556</td>\n",
              "    </tr>\n",
              "    <tr>\n",
              "      <th>std</th>\n",
              "      <td>766.418963</td>\n",
              "    </tr>\n",
              "    <tr>\n",
              "      <th>min</th>\n",
              "      <td>201.000000</td>\n",
              "    </tr>\n",
              "    <tr>\n",
              "      <th>25%</th>\n",
              "      <td>272.500000</td>\n",
              "    </tr>\n",
              "    <tr>\n",
              "      <th>50%</th>\n",
              "      <td>431.500000</td>\n",
              "    </tr>\n",
              "    <tr>\n",
              "      <th>75%</th>\n",
              "      <td>849.500000</td>\n",
              "    </tr>\n",
              "    <tr>\n",
              "      <th>max</th>\n",
              "      <td>3455.000000</td>\n",
              "    </tr>\n",
              "  </tbody>\n",
              "</table>\n",
              "</div>\n",
              "      <button class=\"colab-df-convert\" onclick=\"convertToInteractive('df-54c90c40-56ca-4751-bb1c-d08199e8338a')\"\n",
              "              title=\"Convert this dataframe to an interactive table.\"\n",
              "              style=\"display:none;\">\n",
              "        \n",
              "  <svg xmlns=\"http://www.w3.org/2000/svg\" height=\"24px\"viewBox=\"0 0 24 24\"\n",
              "       width=\"24px\">\n",
              "    <path d=\"M0 0h24v24H0V0z\" fill=\"none\"/>\n",
              "    <path d=\"M18.56 5.44l.94 2.06.94-2.06 2.06-.94-2.06-.94-.94-2.06-.94 2.06-2.06.94zm-11 1L8.5 8.5l.94-2.06 2.06-.94-2.06-.94L8.5 2.5l-.94 2.06-2.06.94zm10 10l.94 2.06.94-2.06 2.06-.94-2.06-.94-.94-2.06-.94 2.06-2.06.94z\"/><path d=\"M17.41 7.96l-1.37-1.37c-.4-.4-.92-.59-1.43-.59-.52 0-1.04.2-1.43.59L10.3 9.45l-7.72 7.72c-.78.78-.78 2.05 0 2.83L4 21.41c.39.39.9.59 1.41.59.51 0 1.02-.2 1.41-.59l7.78-7.78 2.81-2.81c.8-.78.8-2.07 0-2.86zM5.41 20L4 18.59l7.72-7.72 1.47 1.35L5.41 20z\"/>\n",
              "  </svg>\n",
              "      </button>\n",
              "      \n",
              "  <style>\n",
              "    .colab-df-container {\n",
              "      display:flex;\n",
              "      flex-wrap:wrap;\n",
              "      gap: 12px;\n",
              "    }\n",
              "\n",
              "    .colab-df-convert {\n",
              "      background-color: #E8F0FE;\n",
              "      border: none;\n",
              "      border-radius: 50%;\n",
              "      cursor: pointer;\n",
              "      display: none;\n",
              "      fill: #1967D2;\n",
              "      height: 32px;\n",
              "      padding: 0 0 0 0;\n",
              "      width: 32px;\n",
              "    }\n",
              "\n",
              "    .colab-df-convert:hover {\n",
              "      background-color: #E2EBFA;\n",
              "      box-shadow: 0px 1px 2px rgba(60, 64, 67, 0.3), 0px 1px 3px 1px rgba(60, 64, 67, 0.15);\n",
              "      fill: #174EA6;\n",
              "    }\n",
              "\n",
              "    [theme=dark] .colab-df-convert {\n",
              "      background-color: #3B4455;\n",
              "      fill: #D2E3FC;\n",
              "    }\n",
              "\n",
              "    [theme=dark] .colab-df-convert:hover {\n",
              "      background-color: #434B5C;\n",
              "      box-shadow: 0px 1px 3px 1px rgba(0, 0, 0, 0.15);\n",
              "      filter: drop-shadow(0px 1px 2px rgba(0, 0, 0, 0.3));\n",
              "      fill: #FFFFFF;\n",
              "    }\n",
              "  </style>\n",
              "\n",
              "      <script>\n",
              "        const buttonEl =\n",
              "          document.querySelector('#df-54c90c40-56ca-4751-bb1c-d08199e8338a button.colab-df-convert');\n",
              "        buttonEl.style.display =\n",
              "          google.colab.kernel.accessAllowed ? 'block' : 'none';\n",
              "\n",
              "        async function convertToInteractive(key) {\n",
              "          const element = document.querySelector('#df-54c90c40-56ca-4751-bb1c-d08199e8338a');\n",
              "          const dataTable =\n",
              "            await google.colab.kernel.invokeFunction('convertToInteractive',\n",
              "                                                     [key], {});\n",
              "          if (!dataTable) return;\n",
              "\n",
              "          const docLinkHtml = 'Like what you see? Visit the ' +\n",
              "            '<a target=\"_blank\" href=https://colab.research.google.com/notebooks/data_table.ipynb>data table notebook</a>'\n",
              "            + ' to learn more about interactive tables.';\n",
              "          element.innerHTML = '';\n",
              "          dataTable['output_type'] = 'display_data';\n",
              "          await google.colab.output.renderOutput(dataTable, element);\n",
              "          const docLink = document.createElement('div');\n",
              "          docLink.innerHTML = docLinkHtml;\n",
              "          element.appendChild(docLink);\n",
              "        }\n",
              "      </script>\n",
              "    </div>\n",
              "  </div>\n",
              "  "
            ]
          },
          "metadata": {},
          "execution_count": 64
        }
      ]
    },
    {
      "cell_type": "code",
      "source": [
        "book_df.describe(include=\"O\")"
      ],
      "metadata": {
        "colab": {
          "base_uri": "https://localhost:8080/",
          "height": 175
        },
        "id": "OyFbRUV9zG9d",
        "outputId": "a1e16d93-e132-49d6-88d8-8b3b2c6b402e"
      },
      "execution_count": 68,
      "outputs": [
        {
          "output_type": "execute_result",
          "data": {
            "text/plain": [
              "       rating           author             title\n",
              "count      18               19                19\n",
              "unique      3               15                19\n",
              "top         A  Suzanne Collins  The Hunger Games\n",
              "freq        9                3                 1"
            ],
            "text/html": [
              "\n",
              "  <div id=\"df-3ebe8bca-647a-4f67-b60c-ac5aca34cc9d\">\n",
              "    <div class=\"colab-df-container\">\n",
              "      <div>\n",
              "<style scoped>\n",
              "    .dataframe tbody tr th:only-of-type {\n",
              "        vertical-align: middle;\n",
              "    }\n",
              "\n",
              "    .dataframe tbody tr th {\n",
              "        vertical-align: top;\n",
              "    }\n",
              "\n",
              "    .dataframe thead th {\n",
              "        text-align: right;\n",
              "    }\n",
              "</style>\n",
              "<table border=\"1\" class=\"dataframe\">\n",
              "  <thead>\n",
              "    <tr style=\"text-align: right;\">\n",
              "      <th></th>\n",
              "      <th>rating</th>\n",
              "      <th>author</th>\n",
              "      <th>title</th>\n",
              "    </tr>\n",
              "  </thead>\n",
              "  <tbody>\n",
              "    <tr>\n",
              "      <th>count</th>\n",
              "      <td>18</td>\n",
              "      <td>19</td>\n",
              "      <td>19</td>\n",
              "    </tr>\n",
              "    <tr>\n",
              "      <th>unique</th>\n",
              "      <td>3</td>\n",
              "      <td>15</td>\n",
              "      <td>19</td>\n",
              "    </tr>\n",
              "    <tr>\n",
              "      <th>top</th>\n",
              "      <td>A</td>\n",
              "      <td>Suzanne Collins</td>\n",
              "      <td>The Hunger Games</td>\n",
              "    </tr>\n",
              "    <tr>\n",
              "      <th>freq</th>\n",
              "      <td>9</td>\n",
              "      <td>3</td>\n",
              "      <td>1</td>\n",
              "    </tr>\n",
              "  </tbody>\n",
              "</table>\n",
              "</div>\n",
              "      <button class=\"colab-df-convert\" onclick=\"convertToInteractive('df-3ebe8bca-647a-4f67-b60c-ac5aca34cc9d')\"\n",
              "              title=\"Convert this dataframe to an interactive table.\"\n",
              "              style=\"display:none;\">\n",
              "        \n",
              "  <svg xmlns=\"http://www.w3.org/2000/svg\" height=\"24px\"viewBox=\"0 0 24 24\"\n",
              "       width=\"24px\">\n",
              "    <path d=\"M0 0h24v24H0V0z\" fill=\"none\"/>\n",
              "    <path d=\"M18.56 5.44l.94 2.06.94-2.06 2.06-.94-2.06-.94-.94-2.06-.94 2.06-2.06.94zm-11 1L8.5 8.5l.94-2.06 2.06-.94-2.06-.94L8.5 2.5l-.94 2.06-2.06.94zm10 10l.94 2.06.94-2.06 2.06-.94-2.06-.94-.94-2.06-.94 2.06-2.06.94z\"/><path d=\"M17.41 7.96l-1.37-1.37c-.4-.4-.92-.59-1.43-.59-.52 0-1.04.2-1.43.59L10.3 9.45l-7.72 7.72c-.78.78-.78 2.05 0 2.83L4 21.41c.39.39.9.59 1.41.59.51 0 1.02-.2 1.41-.59l7.78-7.78 2.81-2.81c.8-.78.8-2.07 0-2.86zM5.41 20L4 18.59l7.72-7.72 1.47 1.35L5.41 20z\"/>\n",
              "  </svg>\n",
              "      </button>\n",
              "      \n",
              "  <style>\n",
              "    .colab-df-container {\n",
              "      display:flex;\n",
              "      flex-wrap:wrap;\n",
              "      gap: 12px;\n",
              "    }\n",
              "\n",
              "    .colab-df-convert {\n",
              "      background-color: #E8F0FE;\n",
              "      border: none;\n",
              "      border-radius: 50%;\n",
              "      cursor: pointer;\n",
              "      display: none;\n",
              "      fill: #1967D2;\n",
              "      height: 32px;\n",
              "      padding: 0 0 0 0;\n",
              "      width: 32px;\n",
              "    }\n",
              "\n",
              "    .colab-df-convert:hover {\n",
              "      background-color: #E2EBFA;\n",
              "      box-shadow: 0px 1px 2px rgba(60, 64, 67, 0.3), 0px 1px 3px 1px rgba(60, 64, 67, 0.15);\n",
              "      fill: #174EA6;\n",
              "    }\n",
              "\n",
              "    [theme=dark] .colab-df-convert {\n",
              "      background-color: #3B4455;\n",
              "      fill: #D2E3FC;\n",
              "    }\n",
              "\n",
              "    [theme=dark] .colab-df-convert:hover {\n",
              "      background-color: #434B5C;\n",
              "      box-shadow: 0px 1px 3px 1px rgba(0, 0, 0, 0.15);\n",
              "      filter: drop-shadow(0px 1px 2px rgba(0, 0, 0, 0.3));\n",
              "      fill: #FFFFFF;\n",
              "    }\n",
              "  </style>\n",
              "\n",
              "      <script>\n",
              "        const buttonEl =\n",
              "          document.querySelector('#df-3ebe8bca-647a-4f67-b60c-ac5aca34cc9d button.colab-df-convert');\n",
              "        buttonEl.style.display =\n",
              "          google.colab.kernel.accessAllowed ? 'block' : 'none';\n",
              "\n",
              "        async function convertToInteractive(key) {\n",
              "          const element = document.querySelector('#df-3ebe8bca-647a-4f67-b60c-ac5aca34cc9d');\n",
              "          const dataTable =\n",
              "            await google.colab.kernel.invokeFunction('convertToInteractive',\n",
              "                                                     [key], {});\n",
              "          if (!dataTable) return;\n",
              "\n",
              "          const docLinkHtml = 'Like what you see? Visit the ' +\n",
              "            '<a target=\"_blank\" href=https://colab.research.google.com/notebooks/data_table.ipynb>data table notebook</a>'\n",
              "            + ' to learn more about interactive tables.';\n",
              "          element.innerHTML = '';\n",
              "          dataTable['output_type'] = 'display_data';\n",
              "          await google.colab.output.renderOutput(dataTable, element);\n",
              "          const docLink = document.createElement('div');\n",
              "          docLink.innerHTML = docLinkHtml;\n",
              "          element.appendChild(docLink);\n",
              "        }\n",
              "      </script>\n",
              "    </div>\n",
              "  </div>\n",
              "  "
            ]
          },
          "metadata": {},
          "execution_count": 68
        }
      ]
    },
    {
      "cell_type": "markdown",
      "source": [
        "## Summary Statistics"
      ],
      "metadata": {
        "id": "MoDAyIwndyWN"
      }
    },
    {
      "cell_type": "markdown",
      "source": [
        "- `.median()`\n",
        "- `.mean()`\n",
        "- `.mode()`\n",
        "- `.max()`\n",
        "- `.min()`\n",
        "- `.var()`\n",
        "- `.std()`\n",
        "- `.sum()`\n",
        "- .`value_counts()`"
      ],
      "metadata": {
        "id": "84uvRzgyd3OC"
      }
    },
    {
      "cell_type": "code",
      "source": [
        "book_df['book_count'].mean()"
      ],
      "metadata": {
        "colab": {
          "base_uri": "https://localhost:8080/"
        },
        "id": "YgqcFfa1eKrW",
        "outputId": "1ce031d7-f049-4041-c08c-2c41219f61e4"
      },
      "execution_count": null,
      "outputs": [
        {
          "output_type": "execute_result",
          "data": {
            "text/plain": [
              "688.5555555555555"
            ]
          },
          "metadata": {},
          "execution_count": 48
        }
      ]
    },
    {
      "cell_type": "code",
      "source": [
        "book_df['author'].value_counts()"
      ],
      "metadata": {
        "colab": {
          "base_uri": "https://localhost:8080/"
        },
        "id": "SACERHrbeoQz",
        "outputId": "84fadf5f-c740-41b2-b34d-cf3d0c078384"
      },
      "execution_count": null,
      "outputs": [
        {
          "output_type": "execute_result",
          "data": {
            "text/plain": [
              "Suzanne Collins               3\n",
              "J.K. Rowling                  2\n",
              "J.D. Salinger                 2\n",
              "John Green                    2\n",
              "Stephenie Meyer               1\n",
              "Harper Lee                    1\n",
              "J.R.R. Tolkien                1\n",
              "Dan Brown                     1\n",
              "Jane Austen                   1\n",
              "Khaled Hosseini               1\n",
              "Veronica Roth                 1\n",
              "George Orwell                 1\n",
              "Anne Frank                    1\n",
              "Stieg Larsson, Reg Keeland    1\n",
              "Name: author, dtype: int64"
            ]
          },
          "metadata": {},
          "execution_count": 49
        }
      ]
    },
    {
      "cell_type": "markdown",
      "source": [
        "### Handling missing values"
      ],
      "metadata": {
        "id": "T8jqZviiiVWV"
      }
    },
    {
      "cell_type": "code",
      "source": [
        "book_df.isna().sum()"
      ],
      "metadata": {
        "colab": {
          "base_uri": "https://localhost:8080/"
        },
        "id": "-quBXnoZo_0z",
        "outputId": "625cc950-95c7-461a-d976-fb46b9dbc1f5"
      },
      "execution_count": null,
      "outputs": [
        {
          "output_type": "execute_result",
          "data": {
            "text/plain": [
              "book_count    2\n",
              "rating        2\n",
              "author        1\n",
              "title         1\n",
              "dtype: int64"
            ]
          },
          "metadata": {},
          "execution_count": 50
        }
      ]
    },
    {
      "cell_type": "code",
      "source": [
        "mean_book_count = book_df[\"book_count\"].mean()\n",
        "book_df[\"book_count\"].fillna(mean_book_count, inplace=True)"
      ],
      "metadata": {
        "id": "V1g_A0PMezHg"
      },
      "execution_count": null,
      "outputs": []
    },
    {
      "cell_type": "code",
      "source": [
        "mode_of_ratings = book_df[\"rating\"].mode()[0]\n",
        "book_df[\"rating\"].fillna(mode_of_ratings, inplace=True)"
      ],
      "metadata": {
        "id": "QT1hnh_miwx3"
      },
      "execution_count": null,
      "outputs": []
    },
    {
      "cell_type": "code",
      "source": [
        "book_df.dropna(axis=0, how='any', thresh=None, subset=[\"author\"], inplace=True)\n",
        "# axis: defines which direction the values are to be deleted\n",
        "# how: Determine if row or column is removed from DataFrame, when we have at least one NA or all\n",
        "# thresh: Require that many non-NA values\n",
        "# subset: Labels along other axis to consider"
      ],
      "metadata": {
        "id": "ADYOB9C_i7uF"
      },
      "execution_count": null,
      "outputs": []
    },
    {
      "cell_type": "markdown",
      "source": [
        "### iloc vs loc for slicing\n",
        "- loc: gets rows (and/or columns) with particular labels.\n",
        "\n",
        "- iloc: gets rows (and/or columns) at integer locations.\n"
      ],
      "metadata": {
        "id": "HxlUvON-k0Bt"
      }
    },
    {
      "cell_type": "code",
      "source": [
        "book_df.iloc[:5]"
      ],
      "metadata": {
        "colab": {
          "base_uri": "https://localhost:8080/",
          "height": 206
        },
        "id": "8CumYLrVkppZ",
        "outputId": "eb22f5d2-c9ca-46cb-8e13-4ea7145d5d48"
      },
      "execution_count": 77,
      "outputs": [
        {
          "output_type": "execute_result",
          "data": {
            "text/plain": [
              "   book_count rating           author  \\\n",
              "0       272.0      A  Suzanne Collins   \n",
              "1       491.0      C     J.K. Rowling   \n",
              "2         NaN      A  Stephenie Meyer   \n",
              "3       487.0      B       Harper Lee   \n",
              "4      1356.0      A    J.D. Salinger   \n",
              "\n",
              "                                      title  \n",
              "0                          The Hunger Games  \n",
              "1  Harry Potter and the Philosopher's Stone  \n",
              "2                                  Twilight  \n",
              "3                     To Kill a Mockingbird  \n",
              "4                          The Great Gatsby  "
            ],
            "text/html": [
              "\n",
              "  <div id=\"df-718f270a-2b00-423c-ba42-c80906dc076c\">\n",
              "    <div class=\"colab-df-container\">\n",
              "      <div>\n",
              "<style scoped>\n",
              "    .dataframe tbody tr th:only-of-type {\n",
              "        vertical-align: middle;\n",
              "    }\n",
              "\n",
              "    .dataframe tbody tr th {\n",
              "        vertical-align: top;\n",
              "    }\n",
              "\n",
              "    .dataframe thead th {\n",
              "        text-align: right;\n",
              "    }\n",
              "</style>\n",
              "<table border=\"1\" class=\"dataframe\">\n",
              "  <thead>\n",
              "    <tr style=\"text-align: right;\">\n",
              "      <th></th>\n",
              "      <th>book_count</th>\n",
              "      <th>rating</th>\n",
              "      <th>author</th>\n",
              "      <th>title</th>\n",
              "    </tr>\n",
              "  </thead>\n",
              "  <tbody>\n",
              "    <tr>\n",
              "      <th>0</th>\n",
              "      <td>272.0</td>\n",
              "      <td>A</td>\n",
              "      <td>Suzanne Collins</td>\n",
              "      <td>The Hunger Games</td>\n",
              "    </tr>\n",
              "    <tr>\n",
              "      <th>1</th>\n",
              "      <td>491.0</td>\n",
              "      <td>C</td>\n",
              "      <td>J.K. Rowling</td>\n",
              "      <td>Harry Potter and the Philosopher's Stone</td>\n",
              "    </tr>\n",
              "    <tr>\n",
              "      <th>2</th>\n",
              "      <td>NaN</td>\n",
              "      <td>A</td>\n",
              "      <td>Stephenie Meyer</td>\n",
              "      <td>Twilight</td>\n",
              "    </tr>\n",
              "    <tr>\n",
              "      <th>3</th>\n",
              "      <td>487.0</td>\n",
              "      <td>B</td>\n",
              "      <td>Harper Lee</td>\n",
              "      <td>To Kill a Mockingbird</td>\n",
              "    </tr>\n",
              "    <tr>\n",
              "      <th>4</th>\n",
              "      <td>1356.0</td>\n",
              "      <td>A</td>\n",
              "      <td>J.D. Salinger</td>\n",
              "      <td>The Great Gatsby</td>\n",
              "    </tr>\n",
              "  </tbody>\n",
              "</table>\n",
              "</div>\n",
              "      <button class=\"colab-df-convert\" onclick=\"convertToInteractive('df-718f270a-2b00-423c-ba42-c80906dc076c')\"\n",
              "              title=\"Convert this dataframe to an interactive table.\"\n",
              "              style=\"display:none;\">\n",
              "        \n",
              "  <svg xmlns=\"http://www.w3.org/2000/svg\" height=\"24px\"viewBox=\"0 0 24 24\"\n",
              "       width=\"24px\">\n",
              "    <path d=\"M0 0h24v24H0V0z\" fill=\"none\"/>\n",
              "    <path d=\"M18.56 5.44l.94 2.06.94-2.06 2.06-.94-2.06-.94-.94-2.06-.94 2.06-2.06.94zm-11 1L8.5 8.5l.94-2.06 2.06-.94-2.06-.94L8.5 2.5l-.94 2.06-2.06.94zm10 10l.94 2.06.94-2.06 2.06-.94-2.06-.94-.94-2.06-.94 2.06-2.06.94z\"/><path d=\"M17.41 7.96l-1.37-1.37c-.4-.4-.92-.59-1.43-.59-.52 0-1.04.2-1.43.59L10.3 9.45l-7.72 7.72c-.78.78-.78 2.05 0 2.83L4 21.41c.39.39.9.59 1.41.59.51 0 1.02-.2 1.41-.59l7.78-7.78 2.81-2.81c.8-.78.8-2.07 0-2.86zM5.41 20L4 18.59l7.72-7.72 1.47 1.35L5.41 20z\"/>\n",
              "  </svg>\n",
              "      </button>\n",
              "      \n",
              "  <style>\n",
              "    .colab-df-container {\n",
              "      display:flex;\n",
              "      flex-wrap:wrap;\n",
              "      gap: 12px;\n",
              "    }\n",
              "\n",
              "    .colab-df-convert {\n",
              "      background-color: #E8F0FE;\n",
              "      border: none;\n",
              "      border-radius: 50%;\n",
              "      cursor: pointer;\n",
              "      display: none;\n",
              "      fill: #1967D2;\n",
              "      height: 32px;\n",
              "      padding: 0 0 0 0;\n",
              "      width: 32px;\n",
              "    }\n",
              "\n",
              "    .colab-df-convert:hover {\n",
              "      background-color: #E2EBFA;\n",
              "      box-shadow: 0px 1px 2px rgba(60, 64, 67, 0.3), 0px 1px 3px 1px rgba(60, 64, 67, 0.15);\n",
              "      fill: #174EA6;\n",
              "    }\n",
              "\n",
              "    [theme=dark] .colab-df-convert {\n",
              "      background-color: #3B4455;\n",
              "      fill: #D2E3FC;\n",
              "    }\n",
              "\n",
              "    [theme=dark] .colab-df-convert:hover {\n",
              "      background-color: #434B5C;\n",
              "      box-shadow: 0px 1px 3px 1px rgba(0, 0, 0, 0.15);\n",
              "      filter: drop-shadow(0px 1px 2px rgba(0, 0, 0, 0.3));\n",
              "      fill: #FFFFFF;\n",
              "    }\n",
              "  </style>\n",
              "\n",
              "      <script>\n",
              "        const buttonEl =\n",
              "          document.querySelector('#df-718f270a-2b00-423c-ba42-c80906dc076c button.colab-df-convert');\n",
              "        buttonEl.style.display =\n",
              "          google.colab.kernel.accessAllowed ? 'block' : 'none';\n",
              "\n",
              "        async function convertToInteractive(key) {\n",
              "          const element = document.querySelector('#df-718f270a-2b00-423c-ba42-c80906dc076c');\n",
              "          const dataTable =\n",
              "            await google.colab.kernel.invokeFunction('convertToInteractive',\n",
              "                                                     [key], {});\n",
              "          if (!dataTable) return;\n",
              "\n",
              "          const docLinkHtml = 'Like what you see? Visit the ' +\n",
              "            '<a target=\"_blank\" href=https://colab.research.google.com/notebooks/data_table.ipynb>data table notebook</a>'\n",
              "            + ' to learn more about interactive tables.';\n",
              "          element.innerHTML = '';\n",
              "          dataTable['output_type'] = 'display_data';\n",
              "          await google.colab.output.renderOutput(dataTable, element);\n",
              "          const docLink = document.createElement('div');\n",
              "          docLink.innerHTML = docLinkHtml;\n",
              "          element.appendChild(docLink);\n",
              "        }\n",
              "      </script>\n",
              "    </div>\n",
              "  </div>\n",
              "  "
            ]
          },
          "metadata": {},
          "execution_count": 77
        }
      ]
    },
    {
      "cell_type": "code",
      "source": [
        "book_df.loc[:2,\"book_count\":\"author\"]#different than python slicing\n",
        "\n",
        "# book_df.iloc[:2,\"book_count\":\"author\"] # throws error"
      ],
      "metadata": {
        "colab": {
          "base_uri": "https://localhost:8080/",
          "height": 143
        },
        "id": "_5wJpxpFk3Fq",
        "outputId": "3188b74d-7cd9-44f7-d192-32a8a0fc4391"
      },
      "execution_count": 78,
      "outputs": [
        {
          "output_type": "execute_result",
          "data": {
            "text/plain": [
              "   book_count rating           author\n",
              "0       272.0      A  Suzanne Collins\n",
              "1       491.0      C     J.K. Rowling\n",
              "2         NaN      A  Stephenie Meyer"
            ],
            "text/html": [
              "\n",
              "  <div id=\"df-40dd7565-8c78-4a52-9c6e-61efe3160ff5\">\n",
              "    <div class=\"colab-df-container\">\n",
              "      <div>\n",
              "<style scoped>\n",
              "    .dataframe tbody tr th:only-of-type {\n",
              "        vertical-align: middle;\n",
              "    }\n",
              "\n",
              "    .dataframe tbody tr th {\n",
              "        vertical-align: top;\n",
              "    }\n",
              "\n",
              "    .dataframe thead th {\n",
              "        text-align: right;\n",
              "    }\n",
              "</style>\n",
              "<table border=\"1\" class=\"dataframe\">\n",
              "  <thead>\n",
              "    <tr style=\"text-align: right;\">\n",
              "      <th></th>\n",
              "      <th>book_count</th>\n",
              "      <th>rating</th>\n",
              "      <th>author</th>\n",
              "    </tr>\n",
              "  </thead>\n",
              "  <tbody>\n",
              "    <tr>\n",
              "      <th>0</th>\n",
              "      <td>272.0</td>\n",
              "      <td>A</td>\n",
              "      <td>Suzanne Collins</td>\n",
              "    </tr>\n",
              "    <tr>\n",
              "      <th>1</th>\n",
              "      <td>491.0</td>\n",
              "      <td>C</td>\n",
              "      <td>J.K. Rowling</td>\n",
              "    </tr>\n",
              "    <tr>\n",
              "      <th>2</th>\n",
              "      <td>NaN</td>\n",
              "      <td>A</td>\n",
              "      <td>Stephenie Meyer</td>\n",
              "    </tr>\n",
              "  </tbody>\n",
              "</table>\n",
              "</div>\n",
              "      <button class=\"colab-df-convert\" onclick=\"convertToInteractive('df-40dd7565-8c78-4a52-9c6e-61efe3160ff5')\"\n",
              "              title=\"Convert this dataframe to an interactive table.\"\n",
              "              style=\"display:none;\">\n",
              "        \n",
              "  <svg xmlns=\"http://www.w3.org/2000/svg\" height=\"24px\"viewBox=\"0 0 24 24\"\n",
              "       width=\"24px\">\n",
              "    <path d=\"M0 0h24v24H0V0z\" fill=\"none\"/>\n",
              "    <path d=\"M18.56 5.44l.94 2.06.94-2.06 2.06-.94-2.06-.94-.94-2.06-.94 2.06-2.06.94zm-11 1L8.5 8.5l.94-2.06 2.06-.94-2.06-.94L8.5 2.5l-.94 2.06-2.06.94zm10 10l.94 2.06.94-2.06 2.06-.94-2.06-.94-.94-2.06-.94 2.06-2.06.94z\"/><path d=\"M17.41 7.96l-1.37-1.37c-.4-.4-.92-.59-1.43-.59-.52 0-1.04.2-1.43.59L10.3 9.45l-7.72 7.72c-.78.78-.78 2.05 0 2.83L4 21.41c.39.39.9.59 1.41.59.51 0 1.02-.2 1.41-.59l7.78-7.78 2.81-2.81c.8-.78.8-2.07 0-2.86zM5.41 20L4 18.59l7.72-7.72 1.47 1.35L5.41 20z\"/>\n",
              "  </svg>\n",
              "      </button>\n",
              "      \n",
              "  <style>\n",
              "    .colab-df-container {\n",
              "      display:flex;\n",
              "      flex-wrap:wrap;\n",
              "      gap: 12px;\n",
              "    }\n",
              "\n",
              "    .colab-df-convert {\n",
              "      background-color: #E8F0FE;\n",
              "      border: none;\n",
              "      border-radius: 50%;\n",
              "      cursor: pointer;\n",
              "      display: none;\n",
              "      fill: #1967D2;\n",
              "      height: 32px;\n",
              "      padding: 0 0 0 0;\n",
              "      width: 32px;\n",
              "    }\n",
              "\n",
              "    .colab-df-convert:hover {\n",
              "      background-color: #E2EBFA;\n",
              "      box-shadow: 0px 1px 2px rgba(60, 64, 67, 0.3), 0px 1px 3px 1px rgba(60, 64, 67, 0.15);\n",
              "      fill: #174EA6;\n",
              "    }\n",
              "\n",
              "    [theme=dark] .colab-df-convert {\n",
              "      background-color: #3B4455;\n",
              "      fill: #D2E3FC;\n",
              "    }\n",
              "\n",
              "    [theme=dark] .colab-df-convert:hover {\n",
              "      background-color: #434B5C;\n",
              "      box-shadow: 0px 1px 3px 1px rgba(0, 0, 0, 0.15);\n",
              "      filter: drop-shadow(0px 1px 2px rgba(0, 0, 0, 0.3));\n",
              "      fill: #FFFFFF;\n",
              "    }\n",
              "  </style>\n",
              "\n",
              "      <script>\n",
              "        const buttonEl =\n",
              "          document.querySelector('#df-40dd7565-8c78-4a52-9c6e-61efe3160ff5 button.colab-df-convert');\n",
              "        buttonEl.style.display =\n",
              "          google.colab.kernel.accessAllowed ? 'block' : 'none';\n",
              "\n",
              "        async function convertToInteractive(key) {\n",
              "          const element = document.querySelector('#df-40dd7565-8c78-4a52-9c6e-61efe3160ff5');\n",
              "          const dataTable =\n",
              "            await google.colab.kernel.invokeFunction('convertToInteractive',\n",
              "                                                     [key], {});\n",
              "          if (!dataTable) return;\n",
              "\n",
              "          const docLinkHtml = 'Like what you see? Visit the ' +\n",
              "            '<a target=\"_blank\" href=https://colab.research.google.com/notebooks/data_table.ipynb>data table notebook</a>'\n",
              "            + ' to learn more about interactive tables.';\n",
              "          element.innerHTML = '';\n",
              "          dataTable['output_type'] = 'display_data';\n",
              "          await google.colab.output.renderOutput(dataTable, element);\n",
              "          const docLink = document.createElement('div');\n",
              "          docLink.innerHTML = docLinkHtml;\n",
              "          element.appendChild(docLink);\n",
              "        }\n",
              "      </script>\n",
              "    </div>\n",
              "  </div>\n",
              "  "
            ]
          },
          "metadata": {},
          "execution_count": 78
        }
      ]
    },
    {
      "cell_type": "markdown",
      "source": [
        "## Selection and assigning"
      ],
      "metadata": {
        "id": "UQ4vMFMOmdQV"
      }
    },
    {
      "cell_type": "code",
      "source": [
        "book_df[book_df[\"book_count\"]>300]"
      ],
      "metadata": {
        "colab": {
          "base_uri": "https://localhost:8080/",
          "height": 457
        },
        "id": "nXADzrZEmBkd",
        "outputId": "3e8722ba-668b-4aac-869b-dd5850152cb7"
      },
      "execution_count": null,
      "outputs": [
        {
          "output_type": "execute_result",
          "data": {
            "text/plain": [
              "     book_count rating           author  \\\n",
              "1    491.000000      C     J.K. Rowling   \n",
              "2    688.555556      A  Stephenie Meyer   \n",
              "3    487.000000      B       Harper Lee   \n",
              "4   1356.000000      A    J.D. Salinger   \n",
              "6    969.000000      B   J.R.R. Tolkien   \n",
              "7    360.000000      A    J.D. Salinger   \n",
              "8    311.000000      C        Dan Brown   \n",
              "9   3455.000000      A      Jane Austen   \n",
              "10   688.555556      B  Khaled Hosseini   \n",
              "12   995.000000      C       John Green   \n",
              "13   896.000000      A    George Orwell   \n",
              "14   710.000000      A       Anne Frank   \n",
              "17   376.000000      C     J.K. Rowling   \n",
              "\n",
              "                                       title  \n",
              "1   Harry Potter and the Philosopher's Stone  \n",
              "2                                   Twilight  \n",
              "3                      To Kill a Mockingbird  \n",
              "4                           The Great Gatsby  \n",
              "6         The Hobbit or There and Back Again  \n",
              "7                     The Catcher in the Rye  \n",
              "8                           Angels & Demons   \n",
              "9                        Pride and Prejudice  \n",
              "10                          The Kite Runner   \n",
              "12                      Nineteen Eighty-Four  \n",
              "13                Animal Farm: A Fairy Story  \n",
              "14                            Het Achterhuis  \n",
              "17  Harry Potter and the Prisoner of Azkaban  "
            ],
            "text/html": [
              "\n",
              "  <div id=\"df-fa14089f-0091-4dff-9819-a4dc42f588d3\">\n",
              "    <div class=\"colab-df-container\">\n",
              "      <div>\n",
              "<style scoped>\n",
              "    .dataframe tbody tr th:only-of-type {\n",
              "        vertical-align: middle;\n",
              "    }\n",
              "\n",
              "    .dataframe tbody tr th {\n",
              "        vertical-align: top;\n",
              "    }\n",
              "\n",
              "    .dataframe thead th {\n",
              "        text-align: right;\n",
              "    }\n",
              "</style>\n",
              "<table border=\"1\" class=\"dataframe\">\n",
              "  <thead>\n",
              "    <tr style=\"text-align: right;\">\n",
              "      <th></th>\n",
              "      <th>book_count</th>\n",
              "      <th>rating</th>\n",
              "      <th>author</th>\n",
              "      <th>title</th>\n",
              "    </tr>\n",
              "  </thead>\n",
              "  <tbody>\n",
              "    <tr>\n",
              "      <th>1</th>\n",
              "      <td>491.000000</td>\n",
              "      <td>C</td>\n",
              "      <td>J.K. Rowling</td>\n",
              "      <td>Harry Potter and the Philosopher's Stone</td>\n",
              "    </tr>\n",
              "    <tr>\n",
              "      <th>2</th>\n",
              "      <td>688.555556</td>\n",
              "      <td>A</td>\n",
              "      <td>Stephenie Meyer</td>\n",
              "      <td>Twilight</td>\n",
              "    </tr>\n",
              "    <tr>\n",
              "      <th>3</th>\n",
              "      <td>487.000000</td>\n",
              "      <td>B</td>\n",
              "      <td>Harper Lee</td>\n",
              "      <td>To Kill a Mockingbird</td>\n",
              "    </tr>\n",
              "    <tr>\n",
              "      <th>4</th>\n",
              "      <td>1356.000000</td>\n",
              "      <td>A</td>\n",
              "      <td>J.D. Salinger</td>\n",
              "      <td>The Great Gatsby</td>\n",
              "    </tr>\n",
              "    <tr>\n",
              "      <th>6</th>\n",
              "      <td>969.000000</td>\n",
              "      <td>B</td>\n",
              "      <td>J.R.R. Tolkien</td>\n",
              "      <td>The Hobbit or There and Back Again</td>\n",
              "    </tr>\n",
              "    <tr>\n",
              "      <th>7</th>\n",
              "      <td>360.000000</td>\n",
              "      <td>A</td>\n",
              "      <td>J.D. Salinger</td>\n",
              "      <td>The Catcher in the Rye</td>\n",
              "    </tr>\n",
              "    <tr>\n",
              "      <th>8</th>\n",
              "      <td>311.000000</td>\n",
              "      <td>C</td>\n",
              "      <td>Dan Brown</td>\n",
              "      <td>Angels &amp; Demons</td>\n",
              "    </tr>\n",
              "    <tr>\n",
              "      <th>9</th>\n",
              "      <td>3455.000000</td>\n",
              "      <td>A</td>\n",
              "      <td>Jane Austen</td>\n",
              "      <td>Pride and Prejudice</td>\n",
              "    </tr>\n",
              "    <tr>\n",
              "      <th>10</th>\n",
              "      <td>688.555556</td>\n",
              "      <td>B</td>\n",
              "      <td>Khaled Hosseini</td>\n",
              "      <td>The Kite Runner</td>\n",
              "    </tr>\n",
              "    <tr>\n",
              "      <th>12</th>\n",
              "      <td>995.000000</td>\n",
              "      <td>C</td>\n",
              "      <td>John Green</td>\n",
              "      <td>Nineteen Eighty-Four</td>\n",
              "    </tr>\n",
              "    <tr>\n",
              "      <th>13</th>\n",
              "      <td>896.000000</td>\n",
              "      <td>A</td>\n",
              "      <td>George Orwell</td>\n",
              "      <td>Animal Farm: A Fairy Story</td>\n",
              "    </tr>\n",
              "    <tr>\n",
              "      <th>14</th>\n",
              "      <td>710.000000</td>\n",
              "      <td>A</td>\n",
              "      <td>Anne Frank</td>\n",
              "      <td>Het Achterhuis</td>\n",
              "    </tr>\n",
              "    <tr>\n",
              "      <th>17</th>\n",
              "      <td>376.000000</td>\n",
              "      <td>C</td>\n",
              "      <td>J.K. Rowling</td>\n",
              "      <td>Harry Potter and the Prisoner of Azkaban</td>\n",
              "    </tr>\n",
              "  </tbody>\n",
              "</table>\n",
              "</div>\n",
              "      <button class=\"colab-df-convert\" onclick=\"convertToInteractive('df-fa14089f-0091-4dff-9819-a4dc42f588d3')\"\n",
              "              title=\"Convert this dataframe to an interactive table.\"\n",
              "              style=\"display:none;\">\n",
              "        \n",
              "  <svg xmlns=\"http://www.w3.org/2000/svg\" height=\"24px\"viewBox=\"0 0 24 24\"\n",
              "       width=\"24px\">\n",
              "    <path d=\"M0 0h24v24H0V0z\" fill=\"none\"/>\n",
              "    <path d=\"M18.56 5.44l.94 2.06.94-2.06 2.06-.94-2.06-.94-.94-2.06-.94 2.06-2.06.94zm-11 1L8.5 8.5l.94-2.06 2.06-.94-2.06-.94L8.5 2.5l-.94 2.06-2.06.94zm10 10l.94 2.06.94-2.06 2.06-.94-2.06-.94-.94-2.06-.94 2.06-2.06.94z\"/><path d=\"M17.41 7.96l-1.37-1.37c-.4-.4-.92-.59-1.43-.59-.52 0-1.04.2-1.43.59L10.3 9.45l-7.72 7.72c-.78.78-.78 2.05 0 2.83L4 21.41c.39.39.9.59 1.41.59.51 0 1.02-.2 1.41-.59l7.78-7.78 2.81-2.81c.8-.78.8-2.07 0-2.86zM5.41 20L4 18.59l7.72-7.72 1.47 1.35L5.41 20z\"/>\n",
              "  </svg>\n",
              "      </button>\n",
              "      \n",
              "  <style>\n",
              "    .colab-df-container {\n",
              "      display:flex;\n",
              "      flex-wrap:wrap;\n",
              "      gap: 12px;\n",
              "    }\n",
              "\n",
              "    .colab-df-convert {\n",
              "      background-color: #E8F0FE;\n",
              "      border: none;\n",
              "      border-radius: 50%;\n",
              "      cursor: pointer;\n",
              "      display: none;\n",
              "      fill: #1967D2;\n",
              "      height: 32px;\n",
              "      padding: 0 0 0 0;\n",
              "      width: 32px;\n",
              "    }\n",
              "\n",
              "    .colab-df-convert:hover {\n",
              "      background-color: #E2EBFA;\n",
              "      box-shadow: 0px 1px 2px rgba(60, 64, 67, 0.3), 0px 1px 3px 1px rgba(60, 64, 67, 0.15);\n",
              "      fill: #174EA6;\n",
              "    }\n",
              "\n",
              "    [theme=dark] .colab-df-convert {\n",
              "      background-color: #3B4455;\n",
              "      fill: #D2E3FC;\n",
              "    }\n",
              "\n",
              "    [theme=dark] .colab-df-convert:hover {\n",
              "      background-color: #434B5C;\n",
              "      box-shadow: 0px 1px 3px 1px rgba(0, 0, 0, 0.15);\n",
              "      filter: drop-shadow(0px 1px 2px rgba(0, 0, 0, 0.3));\n",
              "      fill: #FFFFFF;\n",
              "    }\n",
              "  </style>\n",
              "\n",
              "      <script>\n",
              "        const buttonEl =\n",
              "          document.querySelector('#df-fa14089f-0091-4dff-9819-a4dc42f588d3 button.colab-df-convert');\n",
              "        buttonEl.style.display =\n",
              "          google.colab.kernel.accessAllowed ? 'block' : 'none';\n",
              "\n",
              "        async function convertToInteractive(key) {\n",
              "          const element = document.querySelector('#df-fa14089f-0091-4dff-9819-a4dc42f588d3');\n",
              "          const dataTable =\n",
              "            await google.colab.kernel.invokeFunction('convertToInteractive',\n",
              "                                                     [key], {});\n",
              "          if (!dataTable) return;\n",
              "\n",
              "          const docLinkHtml = 'Like what you see? Visit the ' +\n",
              "            '<a target=\"_blank\" href=https://colab.research.google.com/notebooks/data_table.ipynb>data table notebook</a>'\n",
              "            + ' to learn more about interactive tables.';\n",
              "          element.innerHTML = '';\n",
              "          dataTable['output_type'] = 'display_data';\n",
              "          await google.colab.output.renderOutput(dataTable, element);\n",
              "          const docLink = document.createElement('div');\n",
              "          docLink.innerHTML = docLinkHtml;\n",
              "          element.appendChild(docLink);\n",
              "        }\n",
              "      </script>\n",
              "    </div>\n",
              "  </div>\n",
              "  "
            ]
          },
          "metadata": {},
          "execution_count": 56
        }
      ]
    },
    {
      "cell_type": "code",
      "source": [
        "# Adding new columns\n",
        "book_df[\"isAvailable\"] = True # performs broadcasting to all rows\n",
        "# book_df.isAvailable = True # can not create new columns using dot operator\n",
        "\n",
        "# Accessing columns\n",
        "book_df[\"isAvailable\"]\n",
        "book_df.isAvailable"
      ],
      "metadata": {
        "colab": {
          "base_uri": "https://localhost:8080/"
        },
        "id": "PAqjn1gDmlCu",
        "outputId": "da11c405-af55-420f-fa7e-36a9d47435c8"
      },
      "execution_count": 79,
      "outputs": [
        {
          "output_type": "execute_result",
          "data": {
            "text/plain": [
              "0     True\n",
              "1     True\n",
              "2     True\n",
              "3     True\n",
              "4     True\n",
              "5     True\n",
              "6     True\n",
              "7     True\n",
              "8     True\n",
              "9     True\n",
              "10    True\n",
              "11    True\n",
              "12    True\n",
              "13    True\n",
              "14    True\n",
              "15    True\n",
              "16    True\n",
              "17    True\n",
              "18    True\n",
              "19    True\n",
              "Name: isAvailable, dtype: bool"
            ]
          },
          "metadata": {},
          "execution_count": 79
        }
      ]
    },
    {
      "cell_type": "markdown",
      "source": [
        "## Grouping and sorting"
      ],
      "metadata": {
        "id": "1UolTP7Dnego"
      }
    },
    {
      "cell_type": "code",
      "source": [
        "book_df.groupby([\"author\"]).sum()"
      ],
      "metadata": {
        "colab": {
          "base_uri": "https://localhost:8080/",
          "height": 520
        },
        "id": "CxpvISTYm0uJ",
        "outputId": "e69e9379-f111-41d3-f849-b3d50a868317"
      },
      "execution_count": null,
      "outputs": [
        {
          "output_type": "execute_result",
          "data": {
            "text/plain": [
              "                             book_count  isAvailable\n",
              "author                                              \n",
              "Anne Frank                   710.000000            1\n",
              "Dan Brown                    311.000000            1\n",
              "George Orwell                896.000000            1\n",
              "Harper Lee                   487.000000            1\n",
              "J.D. Salinger               1716.000000            2\n",
              "J.K. Rowling                 867.000000            2\n",
              "J.R.R. Tolkien               969.000000            1\n",
              "Jane Austen                 3455.000000            1\n",
              "John Green                  1221.000000            2\n",
              "Khaled Hosseini              688.555556            1\n",
              "Stephenie Meyer              688.555556            1\n",
              "Stieg Larsson, Reg Keeland   274.000000            1\n",
              "Suzanne Collins              712.000000            3\n",
              "Veronica Roth                210.000000            1"
            ],
            "text/html": [
              "\n",
              "  <div id=\"df-fc04e890-8495-4a7e-abc9-b9fdf32e45b6\">\n",
              "    <div class=\"colab-df-container\">\n",
              "      <div>\n",
              "<style scoped>\n",
              "    .dataframe tbody tr th:only-of-type {\n",
              "        vertical-align: middle;\n",
              "    }\n",
              "\n",
              "    .dataframe tbody tr th {\n",
              "        vertical-align: top;\n",
              "    }\n",
              "\n",
              "    .dataframe thead th {\n",
              "        text-align: right;\n",
              "    }\n",
              "</style>\n",
              "<table border=\"1\" class=\"dataframe\">\n",
              "  <thead>\n",
              "    <tr style=\"text-align: right;\">\n",
              "      <th></th>\n",
              "      <th>book_count</th>\n",
              "      <th>isAvailable</th>\n",
              "    </tr>\n",
              "    <tr>\n",
              "      <th>author</th>\n",
              "      <th></th>\n",
              "      <th></th>\n",
              "    </tr>\n",
              "  </thead>\n",
              "  <tbody>\n",
              "    <tr>\n",
              "      <th>Anne Frank</th>\n",
              "      <td>710.000000</td>\n",
              "      <td>1</td>\n",
              "    </tr>\n",
              "    <tr>\n",
              "      <th>Dan Brown</th>\n",
              "      <td>311.000000</td>\n",
              "      <td>1</td>\n",
              "    </tr>\n",
              "    <tr>\n",
              "      <th>George Orwell</th>\n",
              "      <td>896.000000</td>\n",
              "      <td>1</td>\n",
              "    </tr>\n",
              "    <tr>\n",
              "      <th>Harper Lee</th>\n",
              "      <td>487.000000</td>\n",
              "      <td>1</td>\n",
              "    </tr>\n",
              "    <tr>\n",
              "      <th>J.D. Salinger</th>\n",
              "      <td>1716.000000</td>\n",
              "      <td>2</td>\n",
              "    </tr>\n",
              "    <tr>\n",
              "      <th>J.K. Rowling</th>\n",
              "      <td>867.000000</td>\n",
              "      <td>2</td>\n",
              "    </tr>\n",
              "    <tr>\n",
              "      <th>J.R.R. Tolkien</th>\n",
              "      <td>969.000000</td>\n",
              "      <td>1</td>\n",
              "    </tr>\n",
              "    <tr>\n",
              "      <th>Jane Austen</th>\n",
              "      <td>3455.000000</td>\n",
              "      <td>1</td>\n",
              "    </tr>\n",
              "    <tr>\n",
              "      <th>John Green</th>\n",
              "      <td>1221.000000</td>\n",
              "      <td>2</td>\n",
              "    </tr>\n",
              "    <tr>\n",
              "      <th>Khaled Hosseini</th>\n",
              "      <td>688.555556</td>\n",
              "      <td>1</td>\n",
              "    </tr>\n",
              "    <tr>\n",
              "      <th>Stephenie Meyer</th>\n",
              "      <td>688.555556</td>\n",
              "      <td>1</td>\n",
              "    </tr>\n",
              "    <tr>\n",
              "      <th>Stieg Larsson, Reg Keeland</th>\n",
              "      <td>274.000000</td>\n",
              "      <td>1</td>\n",
              "    </tr>\n",
              "    <tr>\n",
              "      <th>Suzanne Collins</th>\n",
              "      <td>712.000000</td>\n",
              "      <td>3</td>\n",
              "    </tr>\n",
              "    <tr>\n",
              "      <th>Veronica Roth</th>\n",
              "      <td>210.000000</td>\n",
              "      <td>1</td>\n",
              "    </tr>\n",
              "  </tbody>\n",
              "</table>\n",
              "</div>\n",
              "      <button class=\"colab-df-convert\" onclick=\"convertToInteractive('df-fc04e890-8495-4a7e-abc9-b9fdf32e45b6')\"\n",
              "              title=\"Convert this dataframe to an interactive table.\"\n",
              "              style=\"display:none;\">\n",
              "        \n",
              "  <svg xmlns=\"http://www.w3.org/2000/svg\" height=\"24px\"viewBox=\"0 0 24 24\"\n",
              "       width=\"24px\">\n",
              "    <path d=\"M0 0h24v24H0V0z\" fill=\"none\"/>\n",
              "    <path d=\"M18.56 5.44l.94 2.06.94-2.06 2.06-.94-2.06-.94-.94-2.06-.94 2.06-2.06.94zm-11 1L8.5 8.5l.94-2.06 2.06-.94-2.06-.94L8.5 2.5l-.94 2.06-2.06.94zm10 10l.94 2.06.94-2.06 2.06-.94-2.06-.94-.94-2.06-.94 2.06-2.06.94z\"/><path d=\"M17.41 7.96l-1.37-1.37c-.4-.4-.92-.59-1.43-.59-.52 0-1.04.2-1.43.59L10.3 9.45l-7.72 7.72c-.78.78-.78 2.05 0 2.83L4 21.41c.39.39.9.59 1.41.59.51 0 1.02-.2 1.41-.59l7.78-7.78 2.81-2.81c.8-.78.8-2.07 0-2.86zM5.41 20L4 18.59l7.72-7.72 1.47 1.35L5.41 20z\"/>\n",
              "  </svg>\n",
              "      </button>\n",
              "      \n",
              "  <style>\n",
              "    .colab-df-container {\n",
              "      display:flex;\n",
              "      flex-wrap:wrap;\n",
              "      gap: 12px;\n",
              "    }\n",
              "\n",
              "    .colab-df-convert {\n",
              "      background-color: #E8F0FE;\n",
              "      border: none;\n",
              "      border-radius: 50%;\n",
              "      cursor: pointer;\n",
              "      display: none;\n",
              "      fill: #1967D2;\n",
              "      height: 32px;\n",
              "      padding: 0 0 0 0;\n",
              "      width: 32px;\n",
              "    }\n",
              "\n",
              "    .colab-df-convert:hover {\n",
              "      background-color: #E2EBFA;\n",
              "      box-shadow: 0px 1px 2px rgba(60, 64, 67, 0.3), 0px 1px 3px 1px rgba(60, 64, 67, 0.15);\n",
              "      fill: #174EA6;\n",
              "    }\n",
              "\n",
              "    [theme=dark] .colab-df-convert {\n",
              "      background-color: #3B4455;\n",
              "      fill: #D2E3FC;\n",
              "    }\n",
              "\n",
              "    [theme=dark] .colab-df-convert:hover {\n",
              "      background-color: #434B5C;\n",
              "      box-shadow: 0px 1px 3px 1px rgba(0, 0, 0, 0.15);\n",
              "      filter: drop-shadow(0px 1px 2px rgba(0, 0, 0, 0.3));\n",
              "      fill: #FFFFFF;\n",
              "    }\n",
              "  </style>\n",
              "\n",
              "      <script>\n",
              "        const buttonEl =\n",
              "          document.querySelector('#df-fc04e890-8495-4a7e-abc9-b9fdf32e45b6 button.colab-df-convert');\n",
              "        buttonEl.style.display =\n",
              "          google.colab.kernel.accessAllowed ? 'block' : 'none';\n",
              "\n",
              "        async function convertToInteractive(key) {\n",
              "          const element = document.querySelector('#df-fc04e890-8495-4a7e-abc9-b9fdf32e45b6');\n",
              "          const dataTable =\n",
              "            await google.colab.kernel.invokeFunction('convertToInteractive',\n",
              "                                                     [key], {});\n",
              "          if (!dataTable) return;\n",
              "\n",
              "          const docLinkHtml = 'Like what you see? Visit the ' +\n",
              "            '<a target=\"_blank\" href=https://colab.research.google.com/notebooks/data_table.ipynb>data table notebook</a>'\n",
              "            + ' to learn more about interactive tables.';\n",
              "          element.innerHTML = '';\n",
              "          dataTable['output_type'] = 'display_data';\n",
              "          await google.colab.output.renderOutput(dataTable, element);\n",
              "          const docLink = document.createElement('div');\n",
              "          docLink.innerHTML = docLinkHtml;\n",
              "          element.appendChild(docLink);\n",
              "        }\n",
              "      </script>\n",
              "    </div>\n",
              "  </div>\n",
              "  "
            ]
          },
          "metadata": {},
          "execution_count": 58
        }
      ]
    },
    {
      "cell_type": "code",
      "source": [
        "book_df.sort_values([\"author\", \"book_count\"])#try ascending=False"
      ],
      "metadata": {
        "colab": {
          "base_uri": "https://localhost:8080/",
          "height": 645
        },
        "id": "1bW1Wbienskq",
        "outputId": "69179db4-9369-4845-f511-e2eb8b27a791"
      },
      "execution_count": null,
      "outputs": [
        {
          "output_type": "execute_result",
          "data": {
            "text/plain": [
              "     book_count rating                      author  \\\n",
              "14   710.000000      A                  Anne Frank   \n",
              "8    311.000000      C                   Dan Brown   \n",
              "13   896.000000      A               George Orwell   \n",
              "3    487.000000      B                  Harper Lee   \n",
              "7    360.000000      A               J.D. Salinger   \n",
              "4   1356.000000      A               J.D. Salinger   \n",
              "17   376.000000      C                J.K. Rowling   \n",
              "1    491.000000      C                J.K. Rowling   \n",
              "6    969.000000      B              J.R.R. Tolkien   \n",
              "9   3455.000000      A                 Jane Austen   \n",
              "5    226.000000      A                  John Green   \n",
              "12   995.000000      C                  John Green   \n",
              "10   688.555556      B             Khaled Hosseini   \n",
              "2    688.555556      A             Stephenie Meyer   \n",
              "15   274.000000      B  Stieg Larsson, Reg Keeland   \n",
              "16   201.000000      A             Suzanne Collins   \n",
              "19   239.000000      C             Suzanne Collins   \n",
              "0    272.000000      A             Suzanne Collins   \n",
              "11   210.000000      A               Veronica Roth   \n",
              "\n",
              "                                       title  isAvailable  \n",
              "14                            Het Achterhuis         True  \n",
              "8                           Angels & Demons          True  \n",
              "13                Animal Farm: A Fairy Story         True  \n",
              "3                      To Kill a Mockingbird         True  \n",
              "7                     The Catcher in the Rye         True  \n",
              "4                           The Great Gatsby         True  \n",
              "17  Harry Potter and the Prisoner of Azkaban         True  \n",
              "1   Harry Potter and the Philosopher's Stone         True  \n",
              "6         The Hobbit or There and Back Again         True  \n",
              "9                        Pride and Prejudice         True  \n",
              "5                     The Fault in Our Stars         True  \n",
              "12                      Nineteen Eighty-Four         True  \n",
              "10                          The Kite Runner          True  \n",
              "2                                   Twilight         True  \n",
              "15                     Män som hatar kvinnor         True  \n",
              "16                                       NaN         True  \n",
              "19                                Mockingjay         True  \n",
              "0                           The Hunger Games         True  \n",
              "11                                 Divergent         True  "
            ],
            "text/html": [
              "\n",
              "  <div id=\"df-6efb4a2b-c3b3-47f4-a5b8-6d4f94153f0f\">\n",
              "    <div class=\"colab-df-container\">\n",
              "      <div>\n",
              "<style scoped>\n",
              "    .dataframe tbody tr th:only-of-type {\n",
              "        vertical-align: middle;\n",
              "    }\n",
              "\n",
              "    .dataframe tbody tr th {\n",
              "        vertical-align: top;\n",
              "    }\n",
              "\n",
              "    .dataframe thead th {\n",
              "        text-align: right;\n",
              "    }\n",
              "</style>\n",
              "<table border=\"1\" class=\"dataframe\">\n",
              "  <thead>\n",
              "    <tr style=\"text-align: right;\">\n",
              "      <th></th>\n",
              "      <th>book_count</th>\n",
              "      <th>rating</th>\n",
              "      <th>author</th>\n",
              "      <th>title</th>\n",
              "      <th>isAvailable</th>\n",
              "    </tr>\n",
              "  </thead>\n",
              "  <tbody>\n",
              "    <tr>\n",
              "      <th>14</th>\n",
              "      <td>710.000000</td>\n",
              "      <td>A</td>\n",
              "      <td>Anne Frank</td>\n",
              "      <td>Het Achterhuis</td>\n",
              "      <td>True</td>\n",
              "    </tr>\n",
              "    <tr>\n",
              "      <th>8</th>\n",
              "      <td>311.000000</td>\n",
              "      <td>C</td>\n",
              "      <td>Dan Brown</td>\n",
              "      <td>Angels &amp; Demons</td>\n",
              "      <td>True</td>\n",
              "    </tr>\n",
              "    <tr>\n",
              "      <th>13</th>\n",
              "      <td>896.000000</td>\n",
              "      <td>A</td>\n",
              "      <td>George Orwell</td>\n",
              "      <td>Animal Farm: A Fairy Story</td>\n",
              "      <td>True</td>\n",
              "    </tr>\n",
              "    <tr>\n",
              "      <th>3</th>\n",
              "      <td>487.000000</td>\n",
              "      <td>B</td>\n",
              "      <td>Harper Lee</td>\n",
              "      <td>To Kill a Mockingbird</td>\n",
              "      <td>True</td>\n",
              "    </tr>\n",
              "    <tr>\n",
              "      <th>7</th>\n",
              "      <td>360.000000</td>\n",
              "      <td>A</td>\n",
              "      <td>J.D. Salinger</td>\n",
              "      <td>The Catcher in the Rye</td>\n",
              "      <td>True</td>\n",
              "    </tr>\n",
              "    <tr>\n",
              "      <th>4</th>\n",
              "      <td>1356.000000</td>\n",
              "      <td>A</td>\n",
              "      <td>J.D. Salinger</td>\n",
              "      <td>The Great Gatsby</td>\n",
              "      <td>True</td>\n",
              "    </tr>\n",
              "    <tr>\n",
              "      <th>17</th>\n",
              "      <td>376.000000</td>\n",
              "      <td>C</td>\n",
              "      <td>J.K. Rowling</td>\n",
              "      <td>Harry Potter and the Prisoner of Azkaban</td>\n",
              "      <td>True</td>\n",
              "    </tr>\n",
              "    <tr>\n",
              "      <th>1</th>\n",
              "      <td>491.000000</td>\n",
              "      <td>C</td>\n",
              "      <td>J.K. Rowling</td>\n",
              "      <td>Harry Potter and the Philosopher's Stone</td>\n",
              "      <td>True</td>\n",
              "    </tr>\n",
              "    <tr>\n",
              "      <th>6</th>\n",
              "      <td>969.000000</td>\n",
              "      <td>B</td>\n",
              "      <td>J.R.R. Tolkien</td>\n",
              "      <td>The Hobbit or There and Back Again</td>\n",
              "      <td>True</td>\n",
              "    </tr>\n",
              "    <tr>\n",
              "      <th>9</th>\n",
              "      <td>3455.000000</td>\n",
              "      <td>A</td>\n",
              "      <td>Jane Austen</td>\n",
              "      <td>Pride and Prejudice</td>\n",
              "      <td>True</td>\n",
              "    </tr>\n",
              "    <tr>\n",
              "      <th>5</th>\n",
              "      <td>226.000000</td>\n",
              "      <td>A</td>\n",
              "      <td>John Green</td>\n",
              "      <td>The Fault in Our Stars</td>\n",
              "      <td>True</td>\n",
              "    </tr>\n",
              "    <tr>\n",
              "      <th>12</th>\n",
              "      <td>995.000000</td>\n",
              "      <td>C</td>\n",
              "      <td>John Green</td>\n",
              "      <td>Nineteen Eighty-Four</td>\n",
              "      <td>True</td>\n",
              "    </tr>\n",
              "    <tr>\n",
              "      <th>10</th>\n",
              "      <td>688.555556</td>\n",
              "      <td>B</td>\n",
              "      <td>Khaled Hosseini</td>\n",
              "      <td>The Kite Runner</td>\n",
              "      <td>True</td>\n",
              "    </tr>\n",
              "    <tr>\n",
              "      <th>2</th>\n",
              "      <td>688.555556</td>\n",
              "      <td>A</td>\n",
              "      <td>Stephenie Meyer</td>\n",
              "      <td>Twilight</td>\n",
              "      <td>True</td>\n",
              "    </tr>\n",
              "    <tr>\n",
              "      <th>15</th>\n",
              "      <td>274.000000</td>\n",
              "      <td>B</td>\n",
              "      <td>Stieg Larsson, Reg Keeland</td>\n",
              "      <td>Män som hatar kvinnor</td>\n",
              "      <td>True</td>\n",
              "    </tr>\n",
              "    <tr>\n",
              "      <th>16</th>\n",
              "      <td>201.000000</td>\n",
              "      <td>A</td>\n",
              "      <td>Suzanne Collins</td>\n",
              "      <td>NaN</td>\n",
              "      <td>True</td>\n",
              "    </tr>\n",
              "    <tr>\n",
              "      <th>19</th>\n",
              "      <td>239.000000</td>\n",
              "      <td>C</td>\n",
              "      <td>Suzanne Collins</td>\n",
              "      <td>Mockingjay</td>\n",
              "      <td>True</td>\n",
              "    </tr>\n",
              "    <tr>\n",
              "      <th>0</th>\n",
              "      <td>272.000000</td>\n",
              "      <td>A</td>\n",
              "      <td>Suzanne Collins</td>\n",
              "      <td>The Hunger Games</td>\n",
              "      <td>True</td>\n",
              "    </tr>\n",
              "    <tr>\n",
              "      <th>11</th>\n",
              "      <td>210.000000</td>\n",
              "      <td>A</td>\n",
              "      <td>Veronica Roth</td>\n",
              "      <td>Divergent</td>\n",
              "      <td>True</td>\n",
              "    </tr>\n",
              "  </tbody>\n",
              "</table>\n",
              "</div>\n",
              "      <button class=\"colab-df-convert\" onclick=\"convertToInteractive('df-6efb4a2b-c3b3-47f4-a5b8-6d4f94153f0f')\"\n",
              "              title=\"Convert this dataframe to an interactive table.\"\n",
              "              style=\"display:none;\">\n",
              "        \n",
              "  <svg xmlns=\"http://www.w3.org/2000/svg\" height=\"24px\"viewBox=\"0 0 24 24\"\n",
              "       width=\"24px\">\n",
              "    <path d=\"M0 0h24v24H0V0z\" fill=\"none\"/>\n",
              "    <path d=\"M18.56 5.44l.94 2.06.94-2.06 2.06-.94-2.06-.94-.94-2.06-.94 2.06-2.06.94zm-11 1L8.5 8.5l.94-2.06 2.06-.94-2.06-.94L8.5 2.5l-.94 2.06-2.06.94zm10 10l.94 2.06.94-2.06 2.06-.94-2.06-.94-.94-2.06-.94 2.06-2.06.94z\"/><path d=\"M17.41 7.96l-1.37-1.37c-.4-.4-.92-.59-1.43-.59-.52 0-1.04.2-1.43.59L10.3 9.45l-7.72 7.72c-.78.78-.78 2.05 0 2.83L4 21.41c.39.39.9.59 1.41.59.51 0 1.02-.2 1.41-.59l7.78-7.78 2.81-2.81c.8-.78.8-2.07 0-2.86zM5.41 20L4 18.59l7.72-7.72 1.47 1.35L5.41 20z\"/>\n",
              "  </svg>\n",
              "      </button>\n",
              "      \n",
              "  <style>\n",
              "    .colab-df-container {\n",
              "      display:flex;\n",
              "      flex-wrap:wrap;\n",
              "      gap: 12px;\n",
              "    }\n",
              "\n",
              "    .colab-df-convert {\n",
              "      background-color: #E8F0FE;\n",
              "      border: none;\n",
              "      border-radius: 50%;\n",
              "      cursor: pointer;\n",
              "      display: none;\n",
              "      fill: #1967D2;\n",
              "      height: 32px;\n",
              "      padding: 0 0 0 0;\n",
              "      width: 32px;\n",
              "    }\n",
              "\n",
              "    .colab-df-convert:hover {\n",
              "      background-color: #E2EBFA;\n",
              "      box-shadow: 0px 1px 2px rgba(60, 64, 67, 0.3), 0px 1px 3px 1px rgba(60, 64, 67, 0.15);\n",
              "      fill: #174EA6;\n",
              "    }\n",
              "\n",
              "    [theme=dark] .colab-df-convert {\n",
              "      background-color: #3B4455;\n",
              "      fill: #D2E3FC;\n",
              "    }\n",
              "\n",
              "    [theme=dark] .colab-df-convert:hover {\n",
              "      background-color: #434B5C;\n",
              "      box-shadow: 0px 1px 3px 1px rgba(0, 0, 0, 0.15);\n",
              "      filter: drop-shadow(0px 1px 2px rgba(0, 0, 0, 0.3));\n",
              "      fill: #FFFFFF;\n",
              "    }\n",
              "  </style>\n",
              "\n",
              "      <script>\n",
              "        const buttonEl =\n",
              "          document.querySelector('#df-6efb4a2b-c3b3-47f4-a5b8-6d4f94153f0f button.colab-df-convert');\n",
              "        buttonEl.style.display =\n",
              "          google.colab.kernel.accessAllowed ? 'block' : 'none';\n",
              "\n",
              "        async function convertToInteractive(key) {\n",
              "          const element = document.querySelector('#df-6efb4a2b-c3b3-47f4-a5b8-6d4f94153f0f');\n",
              "          const dataTable =\n",
              "            await google.colab.kernel.invokeFunction('convertToInteractive',\n",
              "                                                     [key], {});\n",
              "          if (!dataTable) return;\n",
              "\n",
              "          const docLinkHtml = 'Like what you see? Visit the ' +\n",
              "            '<a target=\"_blank\" href=https://colab.research.google.com/notebooks/data_table.ipynb>data table notebook</a>'\n",
              "            + ' to learn more about interactive tables.';\n",
              "          element.innerHTML = '';\n",
              "          dataTable['output_type'] = 'display_data';\n",
              "          await google.colab.output.renderOutput(dataTable, element);\n",
              "          const docLink = document.createElement('div');\n",
              "          docLink.innerHTML = docLinkHtml;\n",
              "          element.appendChild(docLink);\n",
              "        }\n",
              "      </script>\n",
              "    </div>\n",
              "  </div>\n",
              "  "
            ]
          },
          "metadata": {},
          "execution_count": 60
        }
      ]
    },
    {
      "cell_type": "code",
      "source": [
        "book_df.rename(columns={'author': 'Author', 'book_count': 'Book_counts'})"
      ],
      "metadata": {
        "id": "1-KMj3JKpgJ5",
        "colab": {
          "base_uri": "https://localhost:8080/",
          "height": 645
        },
        "outputId": "728d88ed-e951-438b-c497-c7f2ab76262e"
      },
      "execution_count": null,
      "outputs": [
        {
          "output_type": "execute_result",
          "data": {
            "text/plain": [
              "    Book_counts rating                      Author  \\\n",
              "0    272.000000      A             Suzanne Collins   \n",
              "1    491.000000      C                J.K. Rowling   \n",
              "2    688.555556      A             Stephenie Meyer   \n",
              "3    487.000000      B                  Harper Lee   \n",
              "4   1356.000000      A               J.D. Salinger   \n",
              "5    226.000000      A                  John Green   \n",
              "6    969.000000      B              J.R.R. Tolkien   \n",
              "7    360.000000      A               J.D. Salinger   \n",
              "8    311.000000      C                   Dan Brown   \n",
              "9   3455.000000      A                 Jane Austen   \n",
              "10   688.555556      B             Khaled Hosseini   \n",
              "11   210.000000      A               Veronica Roth   \n",
              "12   995.000000      C                  John Green   \n",
              "13   896.000000      A               George Orwell   \n",
              "14   710.000000      A                  Anne Frank   \n",
              "15   274.000000      B  Stieg Larsson, Reg Keeland   \n",
              "16   201.000000      A             Suzanne Collins   \n",
              "17   376.000000      C                J.K. Rowling   \n",
              "19   239.000000      C             Suzanne Collins   \n",
              "\n",
              "                                       title  isAvailable  \n",
              "0                           The Hunger Games         True  \n",
              "1   Harry Potter and the Philosopher's Stone         True  \n",
              "2                                   Twilight         True  \n",
              "3                      To Kill a Mockingbird         True  \n",
              "4                           The Great Gatsby         True  \n",
              "5                     The Fault in Our Stars         True  \n",
              "6         The Hobbit or There and Back Again         True  \n",
              "7                     The Catcher in the Rye         True  \n",
              "8                           Angels & Demons          True  \n",
              "9                        Pride and Prejudice         True  \n",
              "10                          The Kite Runner          True  \n",
              "11                                 Divergent         True  \n",
              "12                      Nineteen Eighty-Four         True  \n",
              "13                Animal Farm: A Fairy Story         True  \n",
              "14                            Het Achterhuis         True  \n",
              "15                     Män som hatar kvinnor         True  \n",
              "16                                       NaN         True  \n",
              "17  Harry Potter and the Prisoner of Azkaban         True  \n",
              "19                                Mockingjay         True  "
            ],
            "text/html": [
              "\n",
              "  <div id=\"df-e85e1841-6305-49b4-82a1-7bc7725b47a4\">\n",
              "    <div class=\"colab-df-container\">\n",
              "      <div>\n",
              "<style scoped>\n",
              "    .dataframe tbody tr th:only-of-type {\n",
              "        vertical-align: middle;\n",
              "    }\n",
              "\n",
              "    .dataframe tbody tr th {\n",
              "        vertical-align: top;\n",
              "    }\n",
              "\n",
              "    .dataframe thead th {\n",
              "        text-align: right;\n",
              "    }\n",
              "</style>\n",
              "<table border=\"1\" class=\"dataframe\">\n",
              "  <thead>\n",
              "    <tr style=\"text-align: right;\">\n",
              "      <th></th>\n",
              "      <th>Book_counts</th>\n",
              "      <th>rating</th>\n",
              "      <th>Author</th>\n",
              "      <th>title</th>\n",
              "      <th>isAvailable</th>\n",
              "    </tr>\n",
              "  </thead>\n",
              "  <tbody>\n",
              "    <tr>\n",
              "      <th>0</th>\n",
              "      <td>272.000000</td>\n",
              "      <td>A</td>\n",
              "      <td>Suzanne Collins</td>\n",
              "      <td>The Hunger Games</td>\n",
              "      <td>True</td>\n",
              "    </tr>\n",
              "    <tr>\n",
              "      <th>1</th>\n",
              "      <td>491.000000</td>\n",
              "      <td>C</td>\n",
              "      <td>J.K. Rowling</td>\n",
              "      <td>Harry Potter and the Philosopher's Stone</td>\n",
              "      <td>True</td>\n",
              "    </tr>\n",
              "    <tr>\n",
              "      <th>2</th>\n",
              "      <td>688.555556</td>\n",
              "      <td>A</td>\n",
              "      <td>Stephenie Meyer</td>\n",
              "      <td>Twilight</td>\n",
              "      <td>True</td>\n",
              "    </tr>\n",
              "    <tr>\n",
              "      <th>3</th>\n",
              "      <td>487.000000</td>\n",
              "      <td>B</td>\n",
              "      <td>Harper Lee</td>\n",
              "      <td>To Kill a Mockingbird</td>\n",
              "      <td>True</td>\n",
              "    </tr>\n",
              "    <tr>\n",
              "      <th>4</th>\n",
              "      <td>1356.000000</td>\n",
              "      <td>A</td>\n",
              "      <td>J.D. Salinger</td>\n",
              "      <td>The Great Gatsby</td>\n",
              "      <td>True</td>\n",
              "    </tr>\n",
              "    <tr>\n",
              "      <th>5</th>\n",
              "      <td>226.000000</td>\n",
              "      <td>A</td>\n",
              "      <td>John Green</td>\n",
              "      <td>The Fault in Our Stars</td>\n",
              "      <td>True</td>\n",
              "    </tr>\n",
              "    <tr>\n",
              "      <th>6</th>\n",
              "      <td>969.000000</td>\n",
              "      <td>B</td>\n",
              "      <td>J.R.R. Tolkien</td>\n",
              "      <td>The Hobbit or There and Back Again</td>\n",
              "      <td>True</td>\n",
              "    </tr>\n",
              "    <tr>\n",
              "      <th>7</th>\n",
              "      <td>360.000000</td>\n",
              "      <td>A</td>\n",
              "      <td>J.D. Salinger</td>\n",
              "      <td>The Catcher in the Rye</td>\n",
              "      <td>True</td>\n",
              "    </tr>\n",
              "    <tr>\n",
              "      <th>8</th>\n",
              "      <td>311.000000</td>\n",
              "      <td>C</td>\n",
              "      <td>Dan Brown</td>\n",
              "      <td>Angels &amp; Demons</td>\n",
              "      <td>True</td>\n",
              "    </tr>\n",
              "    <tr>\n",
              "      <th>9</th>\n",
              "      <td>3455.000000</td>\n",
              "      <td>A</td>\n",
              "      <td>Jane Austen</td>\n",
              "      <td>Pride and Prejudice</td>\n",
              "      <td>True</td>\n",
              "    </tr>\n",
              "    <tr>\n",
              "      <th>10</th>\n",
              "      <td>688.555556</td>\n",
              "      <td>B</td>\n",
              "      <td>Khaled Hosseini</td>\n",
              "      <td>The Kite Runner</td>\n",
              "      <td>True</td>\n",
              "    </tr>\n",
              "    <tr>\n",
              "      <th>11</th>\n",
              "      <td>210.000000</td>\n",
              "      <td>A</td>\n",
              "      <td>Veronica Roth</td>\n",
              "      <td>Divergent</td>\n",
              "      <td>True</td>\n",
              "    </tr>\n",
              "    <tr>\n",
              "      <th>12</th>\n",
              "      <td>995.000000</td>\n",
              "      <td>C</td>\n",
              "      <td>John Green</td>\n",
              "      <td>Nineteen Eighty-Four</td>\n",
              "      <td>True</td>\n",
              "    </tr>\n",
              "    <tr>\n",
              "      <th>13</th>\n",
              "      <td>896.000000</td>\n",
              "      <td>A</td>\n",
              "      <td>George Orwell</td>\n",
              "      <td>Animal Farm: A Fairy Story</td>\n",
              "      <td>True</td>\n",
              "    </tr>\n",
              "    <tr>\n",
              "      <th>14</th>\n",
              "      <td>710.000000</td>\n",
              "      <td>A</td>\n",
              "      <td>Anne Frank</td>\n",
              "      <td>Het Achterhuis</td>\n",
              "      <td>True</td>\n",
              "    </tr>\n",
              "    <tr>\n",
              "      <th>15</th>\n",
              "      <td>274.000000</td>\n",
              "      <td>B</td>\n",
              "      <td>Stieg Larsson, Reg Keeland</td>\n",
              "      <td>Män som hatar kvinnor</td>\n",
              "      <td>True</td>\n",
              "    </tr>\n",
              "    <tr>\n",
              "      <th>16</th>\n",
              "      <td>201.000000</td>\n",
              "      <td>A</td>\n",
              "      <td>Suzanne Collins</td>\n",
              "      <td>NaN</td>\n",
              "      <td>True</td>\n",
              "    </tr>\n",
              "    <tr>\n",
              "      <th>17</th>\n",
              "      <td>376.000000</td>\n",
              "      <td>C</td>\n",
              "      <td>J.K. Rowling</td>\n",
              "      <td>Harry Potter and the Prisoner of Azkaban</td>\n",
              "      <td>True</td>\n",
              "    </tr>\n",
              "    <tr>\n",
              "      <th>19</th>\n",
              "      <td>239.000000</td>\n",
              "      <td>C</td>\n",
              "      <td>Suzanne Collins</td>\n",
              "      <td>Mockingjay</td>\n",
              "      <td>True</td>\n",
              "    </tr>\n",
              "  </tbody>\n",
              "</table>\n",
              "</div>\n",
              "      <button class=\"colab-df-convert\" onclick=\"convertToInteractive('df-e85e1841-6305-49b4-82a1-7bc7725b47a4')\"\n",
              "              title=\"Convert this dataframe to an interactive table.\"\n",
              "              style=\"display:none;\">\n",
              "        \n",
              "  <svg xmlns=\"http://www.w3.org/2000/svg\" height=\"24px\"viewBox=\"0 0 24 24\"\n",
              "       width=\"24px\">\n",
              "    <path d=\"M0 0h24v24H0V0z\" fill=\"none\"/>\n",
              "    <path d=\"M18.56 5.44l.94 2.06.94-2.06 2.06-.94-2.06-.94-.94-2.06-.94 2.06-2.06.94zm-11 1L8.5 8.5l.94-2.06 2.06-.94-2.06-.94L8.5 2.5l-.94 2.06-2.06.94zm10 10l.94 2.06.94-2.06 2.06-.94-2.06-.94-.94-2.06-.94 2.06-2.06.94z\"/><path d=\"M17.41 7.96l-1.37-1.37c-.4-.4-.92-.59-1.43-.59-.52 0-1.04.2-1.43.59L10.3 9.45l-7.72 7.72c-.78.78-.78 2.05 0 2.83L4 21.41c.39.39.9.59 1.41.59.51 0 1.02-.2 1.41-.59l7.78-7.78 2.81-2.81c.8-.78.8-2.07 0-2.86zM5.41 20L4 18.59l7.72-7.72 1.47 1.35L5.41 20z\"/>\n",
              "  </svg>\n",
              "      </button>\n",
              "      \n",
              "  <style>\n",
              "    .colab-df-container {\n",
              "      display:flex;\n",
              "      flex-wrap:wrap;\n",
              "      gap: 12px;\n",
              "    }\n",
              "\n",
              "    .colab-df-convert {\n",
              "      background-color: #E8F0FE;\n",
              "      border: none;\n",
              "      border-radius: 50%;\n",
              "      cursor: pointer;\n",
              "      display: none;\n",
              "      fill: #1967D2;\n",
              "      height: 32px;\n",
              "      padding: 0 0 0 0;\n",
              "      width: 32px;\n",
              "    }\n",
              "\n",
              "    .colab-df-convert:hover {\n",
              "      background-color: #E2EBFA;\n",
              "      box-shadow: 0px 1px 2px rgba(60, 64, 67, 0.3), 0px 1px 3px 1px rgba(60, 64, 67, 0.15);\n",
              "      fill: #174EA6;\n",
              "    }\n",
              "\n",
              "    [theme=dark] .colab-df-convert {\n",
              "      background-color: #3B4455;\n",
              "      fill: #D2E3FC;\n",
              "    }\n",
              "\n",
              "    [theme=dark] .colab-df-convert:hover {\n",
              "      background-color: #434B5C;\n",
              "      box-shadow: 0px 1px 3px 1px rgba(0, 0, 0, 0.15);\n",
              "      filter: drop-shadow(0px 1px 2px rgba(0, 0, 0, 0.3));\n",
              "      fill: #FFFFFF;\n",
              "    }\n",
              "  </style>\n",
              "\n",
              "      <script>\n",
              "        const buttonEl =\n",
              "          document.querySelector('#df-e85e1841-6305-49b4-82a1-7bc7725b47a4 button.colab-df-convert');\n",
              "        buttonEl.style.display =\n",
              "          google.colab.kernel.accessAllowed ? 'block' : 'none';\n",
              "\n",
              "        async function convertToInteractive(key) {\n",
              "          const element = document.querySelector('#df-e85e1841-6305-49b4-82a1-7bc7725b47a4');\n",
              "          const dataTable =\n",
              "            await google.colab.kernel.invokeFunction('convertToInteractive',\n",
              "                                                     [key], {});\n",
              "          if (!dataTable) return;\n",
              "\n",
              "          const docLinkHtml = 'Like what you see? Visit the ' +\n",
              "            '<a target=\"_blank\" href=https://colab.research.google.com/notebooks/data_table.ipynb>data table notebook</a>'\n",
              "            + ' to learn more about interactive tables.';\n",
              "          element.innerHTML = '';\n",
              "          dataTable['output_type'] = 'display_data';\n",
              "          await google.colab.output.renderOutput(dataTable, element);\n",
              "          const docLink = document.createElement('div');\n",
              "          docLink.innerHTML = docLinkHtml;\n",
              "          element.appendChild(docLink);\n",
              "        }\n",
              "      </script>\n",
              "    </div>\n",
              "  </div>\n",
              "  "
            ]
          },
          "metadata": {},
          "execution_count": 66
        }
      ]
    }
  ]
}