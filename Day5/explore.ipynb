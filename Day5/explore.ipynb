{
 "cells": [
  {
   "cell_type": "code",
   "execution_count": 1,
   "metadata": {},
   "outputs": [],
   "source": [
    "import plotly.express as px\n",
    "import pandas as pd\n",
    "import numpy as np"
   ]
  },
  {
   "cell_type": "code",
   "execution_count": 2,
   "metadata": {},
   "outputs": [
    {
     "data": {
      "text/plain": [
       "Index(['Timestamp', 'Name', 'Contact', 'Email',\n",
       "       'Which year are you currently studying in?', 'College/Institution Name',\n",
       "       'Stream',\n",
       "       'Have you ever done any hardware projects involving arduinos, transistors and other basic electronics components or participated previously in any hardware workshops?',\n",
       "       'Choose your favourable shift for Hardware Fellowship',\n",
       "       'What do you expect from Hardware Fellowship?',\n",
       "       'Transaction code (in transfer receipt) {add remark = \"Offline Payment\" if you have made offline payment}',\n",
       "       'Remark', 'Tapendra', 'Bipin', 'Aayush', 'Sakar', 'Srijan', 'Yogesh'],\n",
       "      dtype='object')"
      ]
     },
     "execution_count": 2,
     "metadata": {},
     "output_type": "execute_result"
    }
   ],
   "source": [
    "df=pd.read_csv('HF-RF.csv')\n",
    "df.head()\n",
    "\n",
    "df.columns"
   ]
  },
  {
   "cell_type": "code",
   "execution_count": 3,
   "metadata": {},
   "outputs": [],
   "source": [
    "df=df[['Name', 'Contact', 'Email', 'Which year are you currently studying in?',\n",
    "       'College/Institution Name', 'Stream',\n",
    "       'Have you ever done any hardware projects involving arduinos, transistors and other basic electronics components or participated previously in any hardware workshops?',\n",
    "       'Choose your favourable shift for Hardware Fellowship']]\n",
    "\n",
    "df.columns=['Name','Contact','Email','Year','College','Stream','PreviouslyDone','Shift']\n"
   ]
  },
  {
   "cell_type": "code",
   "execution_count": 4,
   "metadata": {},
   "outputs": [
    {
     "data": {
      "text/html": [
       "<div>\n",
       "<style scoped>\n",
       "    .dataframe tbody tr th:only-of-type {\n",
       "        vertical-align: middle;\n",
       "    }\n",
       "\n",
       "    .dataframe tbody tr th {\n",
       "        vertical-align: top;\n",
       "    }\n",
       "\n",
       "    .dataframe thead th {\n",
       "        text-align: right;\n",
       "    }\n",
       "</style>\n",
       "<table border=\"1\" class=\"dataframe\">\n",
       "  <thead>\n",
       "    <tr style=\"text-align: right;\">\n",
       "      <th></th>\n",
       "      <th>Name</th>\n",
       "      <th>Contact</th>\n",
       "      <th>Email</th>\n",
       "      <th>Year</th>\n",
       "      <th>College</th>\n",
       "      <th>Stream</th>\n",
       "      <th>PreviouslyDone</th>\n",
       "      <th>Shift</th>\n",
       "    </tr>\n",
       "  </thead>\n",
       "  <tbody>\n",
       "    <tr>\n",
       "      <th>0</th>\n",
       "      <td>Sijan Shrestha</td>\n",
       "      <td>9.818190e+09</td>\n",
       "      <td>sijan.shrestha135@gmail.com</td>\n",
       "      <td>1st year</td>\n",
       "      <td>+2</td>\n",
       "      <td>+2</td>\n",
       "      <td>No</td>\n",
       "      <td>Morning (8:00am - 9:30am)</td>\n",
       "    </tr>\n",
       "    <tr>\n",
       "      <th>1</th>\n",
       "      <td>Bijendra Kumar Gupta</td>\n",
       "      <td>9.849088e+09</td>\n",
       "      <td>info.oseen@gmail.com</td>\n",
       "      <td>4th year</td>\n",
       "      <td>Anna University</td>\n",
       "      <td>Electrical &amp; Electronics</td>\n",
       "      <td>Yes</td>\n",
       "      <td>Evening (5:15pm - 6:45pm)</td>\n",
       "    </tr>\n",
       "    <tr>\n",
       "      <th>2</th>\n",
       "      <td>Pawan bista</td>\n",
       "      <td>NaN</td>\n",
       "      <td>pawanbista80@gmail.com</td>\n",
       "      <td>Intermediate</td>\n",
       "      <td>Chitkara University, India</td>\n",
       "      <td>NaN</td>\n",
       "      <td>NaN</td>\n",
       "      <td>Morning (8:00am - 9:30am)</td>\n",
       "    </tr>\n",
       "    <tr>\n",
       "      <th>3</th>\n",
       "      <td>riwaz rayamajhi</td>\n",
       "      <td>9.827345e+09</td>\n",
       "      <td>riwazrayamajhi@gmail.com</td>\n",
       "      <td>1st year</td>\n",
       "      <td>HCoE</td>\n",
       "      <td>NaN</td>\n",
       "      <td>NaN</td>\n",
       "      <td>NaN</td>\n",
       "    </tr>\n",
       "    <tr>\n",
       "      <th>4</th>\n",
       "      <td>santu jhankri Magar</td>\n",
       "      <td>NaN</td>\n",
       "      <td>jhankrisantu@gmail.com</td>\n",
       "      <td>1st year</td>\n",
       "      <td>HCoE</td>\n",
       "      <td>NaN</td>\n",
       "      <td>NaN</td>\n",
       "      <td>NaN</td>\n",
       "    </tr>\n",
       "  </tbody>\n",
       "</table>\n",
       "</div>"
      ],
      "text/plain": [
       "                   Name       Contact                        Email  \\\n",
       "0        Sijan Shrestha  9.818190e+09  sijan.shrestha135@gmail.com   \n",
       "1  Bijendra Kumar Gupta  9.849088e+09         info.oseen@gmail.com   \n",
       "2           Pawan bista           NaN       pawanbista80@gmail.com   \n",
       "3       riwaz rayamajhi  9.827345e+09     riwazrayamajhi@gmail.com   \n",
       "4   santu jhankri Magar           NaN       jhankrisantu@gmail.com   \n",
       "\n",
       "           Year                     College                    Stream  \\\n",
       "0      1st year                          +2                        +2   \n",
       "1      4th year             Anna University  Electrical & Electronics   \n",
       "2  Intermediate  Chitkara University, India                       NaN   \n",
       "3      1st year                        HCoE                       NaN   \n",
       "4      1st year                        HCoE                       NaN   \n",
       "\n",
       "  PreviouslyDone                      Shift  \n",
       "0             No  Morning (8:00am - 9:30am)  \n",
       "1            Yes  Evening (5:15pm - 6:45pm)  \n",
       "2            NaN  Morning (8:00am - 9:30am)  \n",
       "3            NaN                        NaN  \n",
       "4            NaN                        NaN  "
      ]
     },
     "execution_count": 4,
     "metadata": {},
     "output_type": "execute_result"
    }
   ],
   "source": [
    "df.head()"
   ]
  },
  {
   "cell_type": "code",
   "execution_count": 5,
   "metadata": {},
   "outputs": [
    {
     "data": {
      "text/html": [
       "<div>\n",
       "<style scoped>\n",
       "    .dataframe tbody tr th:only-of-type {\n",
       "        vertical-align: middle;\n",
       "    }\n",
       "\n",
       "    .dataframe tbody tr th {\n",
       "        vertical-align: top;\n",
       "    }\n",
       "\n",
       "    .dataframe thead th {\n",
       "        text-align: right;\n",
       "    }\n",
       "</style>\n",
       "<table border=\"1\" class=\"dataframe\">\n",
       "  <thead>\n",
       "    <tr style=\"text-align: right;\">\n",
       "      <th></th>\n",
       "      <th>Name</th>\n",
       "      <th>Contact</th>\n",
       "      <th>Email</th>\n",
       "      <th>Year</th>\n",
       "      <th>College</th>\n",
       "      <th>Stream</th>\n",
       "      <th>PreviouslyDone</th>\n",
       "      <th>Shift</th>\n",
       "    </tr>\n",
       "  </thead>\n",
       "  <tbody>\n",
       "    <tr>\n",
       "      <th>0</th>\n",
       "      <td>Sijan Shrestha</td>\n",
       "      <td>9818190065.0</td>\n",
       "      <td>sijan.shrestha135@gmail.com</td>\n",
       "      <td>1st year</td>\n",
       "      <td>+2</td>\n",
       "      <td>+2</td>\n",
       "      <td>No</td>\n",
       "      <td>Morning (8:00am - 9:30am)</td>\n",
       "    </tr>\n",
       "    <tr>\n",
       "      <th>1</th>\n",
       "      <td>Bijendra Kumar Gupta</td>\n",
       "      <td>9849087688.0</td>\n",
       "      <td>info.oseen@gmail.com</td>\n",
       "      <td>4th year</td>\n",
       "      <td>Anna University</td>\n",
       "      <td>Electrical &amp; Electronics</td>\n",
       "      <td>Yes</td>\n",
       "      <td>Evening (5:15pm - 6:45pm)</td>\n",
       "    </tr>\n",
       "    <tr>\n",
       "      <th>2</th>\n",
       "      <td>Pawan bista</td>\n",
       "      <td>nan</td>\n",
       "      <td>pawanbista80@gmail.com</td>\n",
       "      <td>Intermediate</td>\n",
       "      <td>Chitkara University, India</td>\n",
       "      <td>NaN</td>\n",
       "      <td>NaN</td>\n",
       "      <td>Morning (8:00am - 9:30am)</td>\n",
       "    </tr>\n",
       "    <tr>\n",
       "      <th>3</th>\n",
       "      <td>riwaz rayamajhi</td>\n",
       "      <td>9827344800.0</td>\n",
       "      <td>riwazrayamajhi@gmail.com</td>\n",
       "      <td>1st year</td>\n",
       "      <td>HCoE</td>\n",
       "      <td>NaN</td>\n",
       "      <td>NaN</td>\n",
       "      <td>NaN</td>\n",
       "    </tr>\n",
       "    <tr>\n",
       "      <th>4</th>\n",
       "      <td>santu jhankri Magar</td>\n",
       "      <td>nan</td>\n",
       "      <td>jhankrisantu@gmail.com</td>\n",
       "      <td>1st year</td>\n",
       "      <td>HCoE</td>\n",
       "      <td>NaN</td>\n",
       "      <td>NaN</td>\n",
       "      <td>NaN</td>\n",
       "    </tr>\n",
       "  </tbody>\n",
       "</table>\n",
       "</div>"
      ],
      "text/plain": [
       "                   Name       Contact                        Email  \\\n",
       "0        Sijan Shrestha  9818190065.0  sijan.shrestha135@gmail.com   \n",
       "1  Bijendra Kumar Gupta  9849087688.0         info.oseen@gmail.com   \n",
       "2           Pawan bista           nan       pawanbista80@gmail.com   \n",
       "3       riwaz rayamajhi  9827344800.0     riwazrayamajhi@gmail.com   \n",
       "4   santu jhankri Magar           nan       jhankrisantu@gmail.com   \n",
       "\n",
       "           Year                     College                    Stream  \\\n",
       "0      1st year                          +2                        +2   \n",
       "1      4th year             Anna University  Electrical & Electronics   \n",
       "2  Intermediate  Chitkara University, India                       NaN   \n",
       "3      1st year                        HCoE                       NaN   \n",
       "4      1st year                        HCoE                       NaN   \n",
       "\n",
       "  PreviouslyDone                      Shift  \n",
       "0             No  Morning (8:00am - 9:30am)  \n",
       "1            Yes  Evening (5:15pm - 6:45pm)  \n",
       "2            NaN  Morning (8:00am - 9:30am)  \n",
       "3            NaN                        NaN  \n",
       "4            NaN                        NaN  "
      ]
     },
     "execution_count": 5,
     "metadata": {},
     "output_type": "execute_result"
    }
   ],
   "source": [
    "df.Contact=df.Contact.astype(str)\n",
    "df.head()"
   ]
  },
  {
   "cell_type": "code",
   "execution_count": 6,
   "metadata": {},
   "outputs": [
    {
     "data": {
      "text/html": [
       "<div>\n",
       "<style scoped>\n",
       "    .dataframe tbody tr th:only-of-type {\n",
       "        vertical-align: middle;\n",
       "    }\n",
       "\n",
       "    .dataframe tbody tr th {\n",
       "        vertical-align: top;\n",
       "    }\n",
       "\n",
       "    .dataframe thead th {\n",
       "        text-align: right;\n",
       "    }\n",
       "</style>\n",
       "<table border=\"1\" class=\"dataframe\">\n",
       "  <thead>\n",
       "    <tr style=\"text-align: right;\">\n",
       "      <th></th>\n",
       "      <th>Name</th>\n",
       "      <th>Contact</th>\n",
       "      <th>Email</th>\n",
       "      <th>Year</th>\n",
       "      <th>College</th>\n",
       "      <th>Stream</th>\n",
       "      <th>PreviouslyDone</th>\n",
       "      <th>Shift</th>\n",
       "    </tr>\n",
       "  </thead>\n",
       "  <tbody>\n",
       "    <tr>\n",
       "      <th>0</th>\n",
       "      <td>Sijan Shrestha</td>\n",
       "      <td>9818190065.0</td>\n",
       "      <td>sijan.shrestha135@gmail.com</td>\n",
       "      <td>1st year</td>\n",
       "      <td>+2</td>\n",
       "      <td>+2</td>\n",
       "      <td>No</td>\n",
       "      <td>Morning (8:00am - 9:30am)</td>\n",
       "    </tr>\n",
       "    <tr>\n",
       "      <th>1</th>\n",
       "      <td>Bijendra Kumar Gupta</td>\n",
       "      <td>9849087688.0</td>\n",
       "      <td>info.oseen@gmail.com</td>\n",
       "      <td>4th year</td>\n",
       "      <td>Anna University</td>\n",
       "      <td>Electrical &amp; Electronics</td>\n",
       "      <td>Yes</td>\n",
       "      <td>Evening (5:15pm - 6:45pm)</td>\n",
       "    </tr>\n",
       "    <tr>\n",
       "      <th>5</th>\n",
       "      <td>Sumit Karna</td>\n",
       "      <td>9845366417.0</td>\n",
       "      <td>karnasumit85@gmail.com</td>\n",
       "      <td>1st year</td>\n",
       "      <td>Himalayan College of Engineering, Chyasal</td>\n",
       "      <td>Computer</td>\n",
       "      <td>No</td>\n",
       "      <td>Evening (5:15pm - 6:45pm)</td>\n",
       "    </tr>\n",
       "    <tr>\n",
       "      <th>6</th>\n",
       "      <td>Dhiraj Sah</td>\n",
       "      <td>9866045550.0</td>\n",
       "      <td>sahilrocks986@gmail.com</td>\n",
       "      <td>3rd year</td>\n",
       "      <td>Himalayan College of Engineering, Chyasal</td>\n",
       "      <td>Computer</td>\n",
       "      <td>No</td>\n",
       "      <td>Evening (5:15pm - 6:45pm)</td>\n",
       "    </tr>\n",
       "    <tr>\n",
       "      <th>7</th>\n",
       "      <td>Sambad Khatiwada</td>\n",
       "      <td>9840686406.0</td>\n",
       "      <td>sambadkhatiwada939@gmail.com</td>\n",
       "      <td>1st year</td>\n",
       "      <td>Himalayan College of Engineering, Chyasal</td>\n",
       "      <td>Computer</td>\n",
       "      <td>No</td>\n",
       "      <td>Evening (5:15pm - 6:45pm)</td>\n",
       "    </tr>\n",
       "  </tbody>\n",
       "</table>\n",
       "</div>"
      ],
      "text/plain": [
       "                   Name       Contact                         Email      Year  \\\n",
       "0        Sijan Shrestha  9818190065.0   sijan.shrestha135@gmail.com  1st year   \n",
       "1  Bijendra Kumar Gupta  9849087688.0          info.oseen@gmail.com  4th year   \n",
       "5           Sumit Karna  9845366417.0        karnasumit85@gmail.com  1st year   \n",
       "6            Dhiraj Sah  9866045550.0       sahilrocks986@gmail.com  3rd year   \n",
       "7      Sambad Khatiwada  9840686406.0  sambadkhatiwada939@gmail.com  1st year   \n",
       "\n",
       "                                     College                    Stream  \\\n",
       "0                                         +2                        +2   \n",
       "1                            Anna University  Electrical & Electronics   \n",
       "5  Himalayan College of Engineering, Chyasal                  Computer   \n",
       "6  Himalayan College of Engineering, Chyasal                  Computer   \n",
       "7  Himalayan College of Engineering, Chyasal                  Computer   \n",
       "\n",
       "  PreviouslyDone                      Shift  \n",
       "0             No  Morning (8:00am - 9:30am)  \n",
       "1            Yes  Evening (5:15pm - 6:45pm)  \n",
       "5             No  Evening (5:15pm - 6:45pm)  \n",
       "6             No  Evening (5:15pm - 6:45pm)  \n",
       "7             No  Evening (5:15pm - 6:45pm)  "
      ]
     },
     "execution_count": 6,
     "metadata": {},
     "output_type": "execute_result"
    }
   ],
   "source": [
    "df.dropna(inplace=True)\n",
    "df.head()"
   ]
  },
  {
   "cell_type": "code",
   "execution_count": 7,
   "metadata": {},
   "outputs": [
    {
     "data": {
      "text/plain": [
       "array(['No', 'Yes'], dtype=object)"
      ]
     },
     "execution_count": 7,
     "metadata": {},
     "output_type": "execute_result"
    }
   ],
   "source": [
    "'''---------------------------Groupby - Categorical Variable Exploration ---------------------------'''\n",
    "pd.unique(df.PreviouslyDone)"
   ]
  },
  {
   "cell_type": "code",
   "execution_count": 8,
   "metadata": {},
   "outputs": [
    {
     "data": {
      "text/plain": [
       "array(['+2', 'Electrical & electronics', 'Computer', 'Bca', 'Electronics',\n",
       "       'Electrical', 'Bsc. csit', 'It', 'Computer science', 'Bsc csit',\n",
       "       'Bscscit', 'Civil', 'Beit', 'It engineering ', 'Be it',\n",
       "       'Information technology', 'Csit', 'Mechanical', 'Aerospace',\n",
       "       'Chemical', 'Industrial', 'Physics', 'B.sc. physics'], dtype=object)"
      ]
     },
     "execution_count": 8,
     "metadata": {},
     "output_type": "execute_result"
    }
   ],
   "source": [
    "df.Stream.apply(lambda x:x.capitalize()).unique()"
   ]
  },
  {
   "cell_type": "code",
   "execution_count": 9,
   "metadata": {},
   "outputs": [
    {
     "data": {
      "text/plain": [
       "array(['+2', 'Anna University',\n",
       "       'Himalayan College Of Engineering, Chyasal',\n",
       "       'Kathford International College Of Engineering And Management, Balkumari',\n",
       "       'Kathmandu Engineering College, Kalimati',\n",
       "       'Khowpa College Of Engineering, Bhaktapur',\n",
       "       'Lalitpur Engineering College, Chakupat',\n",
       "       'Madan Bhandari Memorial', 'Madan Bhandari Memorial Collage',\n",
       "       'Madan Bhandari Memorial College',\n",
       "       'National College Of Engineering, Talachhikhel Lalitpur',\n",
       "       'Nepal College Of Information Technology(Ncit), Balkumari Lalitpur',\n",
       "       'New Summit College, Shantinagar', 'Pulchowk Campus, Pulchowk',\n",
       "       'Sagarmatha Engineering College, Lalitpur',\n",
       "       'Thapathali Engineering Campus, Thapathali', 'Tri-Chandra',\n",
       "       'Tri-Chandra Multiple Campus, Kathmandu',\n",
       "       'Trichandra Multie College'], dtype=object)"
      ]
     },
     "execution_count": 9,
     "metadata": {},
     "output_type": "execute_result"
    }
   ],
   "source": [
    "df.College.apply(lambda x:x.title().strip()).unique()"
   ]
  },
  {
   "cell_type": "code",
   "execution_count": 10,
   "metadata": {},
   "outputs": [
    {
     "data": {
      "text/plain": [
       "array(['1st year', '4th year', '3rd year', '2nd year'], dtype=object)"
      ]
     },
     "execution_count": 10,
     "metadata": {},
     "output_type": "execute_result"
    }
   ],
   "source": [
    "df.Year.unique()"
   ]
  },
  {
   "cell_type": "markdown",
   "metadata": {},
   "source": [
    "# Welcome to Data Analytics\n",
    "\n",
    "### Five Step of Data Analytics\n",
    "\n",
    "![da.jpg](da.jpg)\n"
   ]
  },
  {
   "cell_type": "markdown",
   "metadata": {},
   "source": [
    "#### Step 1 : Define the Question?\n",
    "\n",
    "## _`One Question To Answer Always (in this case)`_ \n",
    "# Who are my Audience?\n",
    "#### Q1: Which college among (IT | Engineering | Other)?\n",
    "#### Q2: Which Year (1st | 2nd | 3rd | 4th)?\n",
    "#### Q3: Which faculty (Technical | Non-Technical)?"
   ]
  },
  {
   "cell_type": "markdown",
   "metadata": {},
   "source": [
    "#### Step 2 : Collect the data\n",
    "\n",
    "Just import the file give to you!\n"
   ]
  },
  {
   "cell_type": "code",
   "execution_count": 60,
   "metadata": {},
   "outputs": [
    {
     "data": {
      "text/html": [
       "<div>\n",
       "<style scoped>\n",
       "    .dataframe tbody tr th:only-of-type {\n",
       "        vertical-align: middle;\n",
       "    }\n",
       "\n",
       "    .dataframe tbody tr th {\n",
       "        vertical-align: top;\n",
       "    }\n",
       "\n",
       "    .dataframe thead th {\n",
       "        text-align: right;\n",
       "    }\n",
       "</style>\n",
       "<table border=\"1\" class=\"dataframe\">\n",
       "  <thead>\n",
       "    <tr style=\"text-align: right;\">\n",
       "      <th></th>\n",
       "      <th>Timestamp</th>\n",
       "      <th>Name</th>\n",
       "      <th>Contact</th>\n",
       "      <th>Email</th>\n",
       "      <th>Which year are you currently studying in?</th>\n",
       "      <th>College/Institution Name</th>\n",
       "      <th>Stream</th>\n",
       "      <th>Have you ever done any hardware projects involving arduinos, transistors and other basic electronics components or participated previously in any hardware workshops?</th>\n",
       "      <th>Choose your favourable shift for Hardware Fellowship</th>\n",
       "      <th>What do you expect from Hardware Fellowship?</th>\n",
       "      <th>Transaction code (in transfer receipt) {add remark = \"Offline Payment\" if you have made offline payment}</th>\n",
       "      <th>Remark</th>\n",
       "      <th>Tapendra</th>\n",
       "      <th>Bipin</th>\n",
       "      <th>Aayush</th>\n",
       "      <th>Sakar</th>\n",
       "      <th>Srijan</th>\n",
       "      <th>Yogesh</th>\n",
       "    </tr>\n",
       "  </thead>\n",
       "  <tbody>\n",
       "    <tr>\n",
       "      <th>0</th>\n",
       "      <td>6/22/2022 7:50:56</td>\n",
       "      <td>Sijan Shrestha</td>\n",
       "      <td>9.818190e+09</td>\n",
       "      <td>sijan.shrestha135@gmail.com</td>\n",
       "      <td>1st year</td>\n",
       "      <td>+2</td>\n",
       "      <td>+2</td>\n",
       "      <td>No</td>\n",
       "      <td>Morning (8:00am - 9:30am)</td>\n",
       "      <td>I look forward to learning and gaining experie...</td>\n",
       "      <td>09BOJVQ</td>\n",
       "      <td>NaN</td>\n",
       "      <td>True</td>\n",
       "      <td>False</td>\n",
       "      <td>False</td>\n",
       "      <td>False</td>\n",
       "      <td>False</td>\n",
       "      <td>False</td>\n",
       "    </tr>\n",
       "    <tr>\n",
       "      <th>1</th>\n",
       "      <td>6/21/2022 12:03:51</td>\n",
       "      <td>Bijendra Kumar Gupta</td>\n",
       "      <td>9.849088e+09</td>\n",
       "      <td>info.oseen@gmail.com</td>\n",
       "      <td>4th year</td>\n",
       "      <td>Anna University</td>\n",
       "      <td>Electrical &amp; Electronics</td>\n",
       "      <td>Yes</td>\n",
       "      <td>Evening (5:15pm - 6:45pm)</td>\n",
       "      <td>more information about wireless programming</td>\n",
       "      <td>34686595</td>\n",
       "      <td>NaN</td>\n",
       "      <td>True</td>\n",
       "      <td>False</td>\n",
       "      <td>False</td>\n",
       "      <td>False</td>\n",
       "      <td>False</td>\n",
       "      <td>False</td>\n",
       "    </tr>\n",
       "    <tr>\n",
       "      <th>2</th>\n",
       "      <td>NaN</td>\n",
       "      <td>Pawan bista</td>\n",
       "      <td>NaN</td>\n",
       "      <td>pawanbista80@gmail.com</td>\n",
       "      <td>Intermediate</td>\n",
       "      <td>Chitkara University, India</td>\n",
       "      <td>NaN</td>\n",
       "      <td>NaN</td>\n",
       "      <td>Morning (8:00am - 9:30am)</td>\n",
       "      <td>NaN</td>\n",
       "      <td>not payed</td>\n",
       "      <td>NaN</td>\n",
       "      <td>True</td>\n",
       "      <td>False</td>\n",
       "      <td>False</td>\n",
       "      <td>False</td>\n",
       "      <td>False</td>\n",
       "      <td>False</td>\n",
       "    </tr>\n",
       "    <tr>\n",
       "      <th>3</th>\n",
       "      <td>NaN</td>\n",
       "      <td>riwaz rayamajhi</td>\n",
       "      <td>9.827345e+09</td>\n",
       "      <td>riwazrayamajhi@gmail.com</td>\n",
       "      <td>1st year</td>\n",
       "      <td>HCoE</td>\n",
       "      <td>NaN</td>\n",
       "      <td>NaN</td>\n",
       "      <td>NaN</td>\n",
       "      <td>NaN</td>\n",
       "      <td>NaN</td>\n",
       "      <td>NaN</td>\n",
       "      <td>True</td>\n",
       "      <td>False</td>\n",
       "      <td>False</td>\n",
       "      <td>False</td>\n",
       "      <td>False</td>\n",
       "      <td>False</td>\n",
       "    </tr>\n",
       "    <tr>\n",
       "      <th>4</th>\n",
       "      <td>NaN</td>\n",
       "      <td>santu jhankri Magar</td>\n",
       "      <td>NaN</td>\n",
       "      <td>jhankrisantu@gmail.com</td>\n",
       "      <td>1st year</td>\n",
       "      <td>HCoE</td>\n",
       "      <td>NaN</td>\n",
       "      <td>NaN</td>\n",
       "      <td>NaN</td>\n",
       "      <td>NaN</td>\n",
       "      <td>NaN</td>\n",
       "      <td>NaN</td>\n",
       "      <td>True</td>\n",
       "      <td>False</td>\n",
       "      <td>False</td>\n",
       "      <td>False</td>\n",
       "      <td>False</td>\n",
       "      <td>False</td>\n",
       "    </tr>\n",
       "  </tbody>\n",
       "</table>\n",
       "</div>"
      ],
      "text/plain": [
       "            Timestamp                  Name       Contact  \\\n",
       "0   6/22/2022 7:50:56        Sijan Shrestha  9.818190e+09   \n",
       "1  6/21/2022 12:03:51  Bijendra Kumar Gupta  9.849088e+09   \n",
       "2                 NaN           Pawan bista           NaN   \n",
       "3                 NaN       riwaz rayamajhi  9.827345e+09   \n",
       "4                 NaN   santu jhankri Magar           NaN   \n",
       "\n",
       "                         Email Which year are you currently studying in?  \\\n",
       "0  sijan.shrestha135@gmail.com                                  1st year   \n",
       "1         info.oseen@gmail.com                                  4th year   \n",
       "2       pawanbista80@gmail.com                              Intermediate   \n",
       "3     riwazrayamajhi@gmail.com                                  1st year   \n",
       "4       jhankrisantu@gmail.com                                  1st year   \n",
       "\n",
       "     College/Institution Name                    Stream  \\\n",
       "0                          +2                        +2   \n",
       "1             Anna University  Electrical & Electronics   \n",
       "2  Chitkara University, India                       NaN   \n",
       "3                        HCoE                       NaN   \n",
       "4                        HCoE                       NaN   \n",
       "\n",
       "  Have you ever done any hardware projects involving arduinos, transistors and other basic electronics components or participated previously in any hardware workshops?  \\\n",
       "0                                                 No                                                                                                                      \n",
       "1                                                Yes                                                                                                                      \n",
       "2                                                NaN                                                                                                                      \n",
       "3                                                NaN                                                                                                                      \n",
       "4                                                NaN                                                                                                                      \n",
       "\n",
       "  Choose your favourable shift for Hardware Fellowship  \\\n",
       "0                          Morning (8:00am - 9:30am)     \n",
       "1                          Evening (5:15pm - 6:45pm)     \n",
       "2                          Morning (8:00am - 9:30am)     \n",
       "3                                                NaN     \n",
       "4                                                NaN     \n",
       "\n",
       "        What do you expect from Hardware Fellowship?  \\\n",
       "0  I look forward to learning and gaining experie...   \n",
       "1        more information about wireless programming   \n",
       "2                                                NaN   \n",
       "3                                                NaN   \n",
       "4                                                NaN   \n",
       "\n",
       "  Transaction code (in transfer receipt) {add remark = \"Offline Payment\" if you have made offline payment}  \\\n",
       "0                                            09BOJVQ                                                         \n",
       "1                                           34686595                                                         \n",
       "2                                          not payed                                                         \n",
       "3                                                NaN                                                         \n",
       "4                                                NaN                                                         \n",
       "\n",
       "  Remark  Tapendra  Bipin  Aayush  Sakar  Srijan  Yogesh  \n",
       "0    NaN      True  False   False  False   False   False  \n",
       "1    NaN      True  False   False  False   False   False  \n",
       "2    NaN      True  False   False  False   False   False  \n",
       "3    NaN      True  False   False  False   False   False  \n",
       "4    NaN      True  False   False  False   False   False  "
      ]
     },
     "execution_count": 60,
     "metadata": {},
     "output_type": "execute_result"
    }
   ],
   "source": [
    "df=pd.read_csv('HF-RF.csv')\n",
    "df.head()"
   ]
  },
  {
   "cell_type": "markdown",
   "metadata": {},
   "source": [
    "#### Step 3 : Clean the data\n",
    "```\n",
    "    1. Get rid of unnecessary columns.\n",
    "    2. Get rid of row with empty value (NaN,nan,null etc).\n",
    "    3. Standarize value.\n",
    "\n",
    "```"
   ]
  },
  {
   "cell_type": "markdown",
   "metadata": {},
   "source": [
    "### Get rid of unnecessary columns."
   ]
  },
  {
   "cell_type": "code",
   "execution_count": 61,
   "metadata": {},
   "outputs": [
    {
     "data": {
      "text/plain": [
       "Index(['Timestamp', 'Name', 'Contact', 'Email',\n",
       "       'Which year are you currently studying in?', 'College/Institution Name',\n",
       "       'Stream',\n",
       "       'Have you ever done any hardware projects involving arduinos, transistors and other basic electronics components or participated previously in any hardware workshops?',\n",
       "       'Choose your favourable shift for Hardware Fellowship',\n",
       "       'What do you expect from Hardware Fellowship?',\n",
       "       'Transaction code (in transfer receipt) {add remark = \"Offline Payment\" if you have made offline payment}',\n",
       "       'Remark', 'Tapendra', 'Bipin', 'Aayush', 'Sakar', 'Srijan', 'Yogesh'],\n",
       "      dtype='object')"
      ]
     },
     "execution_count": 61,
     "metadata": {},
     "output_type": "execute_result"
    }
   ],
   "source": [
    "## Take only necessary columns\n",
    "df.columns"
   ]
  },
  {
   "cell_type": "code",
   "execution_count": 62,
   "metadata": {},
   "outputs": [
    {
     "data": {
      "text/html": [
       "<div>\n",
       "<style scoped>\n",
       "    .dataframe tbody tr th:only-of-type {\n",
       "        vertical-align: middle;\n",
       "    }\n",
       "\n",
       "    .dataframe tbody tr th {\n",
       "        vertical-align: top;\n",
       "    }\n",
       "\n",
       "    .dataframe thead th {\n",
       "        text-align: right;\n",
       "    }\n",
       "</style>\n",
       "<table border=\"1\" class=\"dataframe\">\n",
       "  <thead>\n",
       "    <tr style=\"text-align: right;\">\n",
       "      <th></th>\n",
       "      <th>Name</th>\n",
       "      <th>Contact</th>\n",
       "      <th>Email</th>\n",
       "      <th>Year</th>\n",
       "      <th>College</th>\n",
       "      <th>Stream</th>\n",
       "      <th>PreviouslyDone</th>\n",
       "      <th>Shift</th>\n",
       "    </tr>\n",
       "  </thead>\n",
       "  <tbody>\n",
       "    <tr>\n",
       "      <th>0</th>\n",
       "      <td>Sijan Shrestha</td>\n",
       "      <td>9.818190e+09</td>\n",
       "      <td>sijan.shrestha135@gmail.com</td>\n",
       "      <td>1st year</td>\n",
       "      <td>+2</td>\n",
       "      <td>+2</td>\n",
       "      <td>No</td>\n",
       "      <td>Morning (8:00am - 9:30am)</td>\n",
       "    </tr>\n",
       "    <tr>\n",
       "      <th>1</th>\n",
       "      <td>Bijendra Kumar Gupta</td>\n",
       "      <td>9.849088e+09</td>\n",
       "      <td>info.oseen@gmail.com</td>\n",
       "      <td>4th year</td>\n",
       "      <td>Anna University</td>\n",
       "      <td>Electrical &amp; Electronics</td>\n",
       "      <td>Yes</td>\n",
       "      <td>Evening (5:15pm - 6:45pm)</td>\n",
       "    </tr>\n",
       "    <tr>\n",
       "      <th>2</th>\n",
       "      <td>Pawan bista</td>\n",
       "      <td>NaN</td>\n",
       "      <td>pawanbista80@gmail.com</td>\n",
       "      <td>Intermediate</td>\n",
       "      <td>Chitkara University, India</td>\n",
       "      <td>NaN</td>\n",
       "      <td>NaN</td>\n",
       "      <td>Morning (8:00am - 9:30am)</td>\n",
       "    </tr>\n",
       "    <tr>\n",
       "      <th>3</th>\n",
       "      <td>riwaz rayamajhi</td>\n",
       "      <td>9.827345e+09</td>\n",
       "      <td>riwazrayamajhi@gmail.com</td>\n",
       "      <td>1st year</td>\n",
       "      <td>HCoE</td>\n",
       "      <td>NaN</td>\n",
       "      <td>NaN</td>\n",
       "      <td>NaN</td>\n",
       "    </tr>\n",
       "    <tr>\n",
       "      <th>4</th>\n",
       "      <td>santu jhankri Magar</td>\n",
       "      <td>NaN</td>\n",
       "      <td>jhankrisantu@gmail.com</td>\n",
       "      <td>1st year</td>\n",
       "      <td>HCoE</td>\n",
       "      <td>NaN</td>\n",
       "      <td>NaN</td>\n",
       "      <td>NaN</td>\n",
       "    </tr>\n",
       "  </tbody>\n",
       "</table>\n",
       "</div>"
      ],
      "text/plain": [
       "                   Name       Contact                        Email  \\\n",
       "0        Sijan Shrestha  9.818190e+09  sijan.shrestha135@gmail.com   \n",
       "1  Bijendra Kumar Gupta  9.849088e+09         info.oseen@gmail.com   \n",
       "2           Pawan bista           NaN       pawanbista80@gmail.com   \n",
       "3       riwaz rayamajhi  9.827345e+09     riwazrayamajhi@gmail.com   \n",
       "4   santu jhankri Magar           NaN       jhankrisantu@gmail.com   \n",
       "\n",
       "           Year                     College                    Stream  \\\n",
       "0      1st year                          +2                        +2   \n",
       "1      4th year             Anna University  Electrical & Electronics   \n",
       "2  Intermediate  Chitkara University, India                       NaN   \n",
       "3      1st year                        HCoE                       NaN   \n",
       "4      1st year                        HCoE                       NaN   \n",
       "\n",
       "  PreviouslyDone                      Shift  \n",
       "0             No  Morning (8:00am - 9:30am)  \n",
       "1            Yes  Evening (5:15pm - 6:45pm)  \n",
       "2            NaN  Morning (8:00am - 9:30am)  \n",
       "3            NaN                        NaN  \n",
       "4            NaN                        NaN  "
      ]
     },
     "execution_count": 62,
     "metadata": {},
     "output_type": "execute_result"
    }
   ],
   "source": [
    "## Take only necessary columns\n",
    "df=df[['Name', 'Contact', 'Email', 'Which year are you currently studying in?',\n",
    "       'College/Institution Name', 'Stream',\n",
    "       'Have you ever done any hardware projects involving arduinos, transistors and other basic electronics components or participated previously in any hardware workshops?',\n",
    "       'Choose your favourable shift for Hardware Fellowship']]\n",
    "\n",
    "\n",
    "# Rename the columns\n",
    "df.columns=['Name','Contact','Email','Year','College','Stream','PreviouslyDone','Shift']\n",
    "df.head()"
   ]
  },
  {
   "cell_type": "markdown",
   "metadata": {},
   "source": [
    "### Get rid of row with empty value (NaN,nan,null etc)."
   ]
  },
  {
   "cell_type": "code",
   "execution_count": 63,
   "metadata": {},
   "outputs": [
    {
     "data": {
      "text/html": [
       "<div>\n",
       "<style scoped>\n",
       "    .dataframe tbody tr th:only-of-type {\n",
       "        vertical-align: middle;\n",
       "    }\n",
       "\n",
       "    .dataframe tbody tr th {\n",
       "        vertical-align: top;\n",
       "    }\n",
       "\n",
       "    .dataframe thead th {\n",
       "        text-align: right;\n",
       "    }\n",
       "</style>\n",
       "<table border=\"1\" class=\"dataframe\">\n",
       "  <thead>\n",
       "    <tr style=\"text-align: right;\">\n",
       "      <th></th>\n",
       "      <th>Name</th>\n",
       "      <th>Contact</th>\n",
       "      <th>Email</th>\n",
       "      <th>Year</th>\n",
       "      <th>College</th>\n",
       "      <th>Stream</th>\n",
       "      <th>PreviouslyDone</th>\n",
       "      <th>Shift</th>\n",
       "    </tr>\n",
       "  </thead>\n",
       "  <tbody>\n",
       "    <tr>\n",
       "      <th>0</th>\n",
       "      <td>Sijan Shrestha</td>\n",
       "      <td>9.818190e+09</td>\n",
       "      <td>sijan.shrestha135@gmail.com</td>\n",
       "      <td>1st year</td>\n",
       "      <td>+2</td>\n",
       "      <td>+2</td>\n",
       "      <td>No</td>\n",
       "      <td>Morning (8:00am - 9:30am)</td>\n",
       "    </tr>\n",
       "    <tr>\n",
       "      <th>1</th>\n",
       "      <td>Bijendra Kumar Gupta</td>\n",
       "      <td>9.849088e+09</td>\n",
       "      <td>info.oseen@gmail.com</td>\n",
       "      <td>4th year</td>\n",
       "      <td>Anna University</td>\n",
       "      <td>Electrical &amp; Electronics</td>\n",
       "      <td>Yes</td>\n",
       "      <td>Evening (5:15pm - 6:45pm)</td>\n",
       "    </tr>\n",
       "    <tr>\n",
       "      <th>5</th>\n",
       "      <td>Sumit Karna</td>\n",
       "      <td>9.845366e+09</td>\n",
       "      <td>karnasumit85@gmail.com</td>\n",
       "      <td>1st year</td>\n",
       "      <td>Himalayan College of Engineering, Chyasal</td>\n",
       "      <td>Computer</td>\n",
       "      <td>No</td>\n",
       "      <td>Evening (5:15pm - 6:45pm)</td>\n",
       "    </tr>\n",
       "    <tr>\n",
       "      <th>6</th>\n",
       "      <td>Dhiraj Sah</td>\n",
       "      <td>9.866046e+09</td>\n",
       "      <td>sahilrocks986@gmail.com</td>\n",
       "      <td>3rd year</td>\n",
       "      <td>Himalayan College of Engineering, Chyasal</td>\n",
       "      <td>Computer</td>\n",
       "      <td>No</td>\n",
       "      <td>Evening (5:15pm - 6:45pm)</td>\n",
       "    </tr>\n",
       "    <tr>\n",
       "      <th>7</th>\n",
       "      <td>Sambad Khatiwada</td>\n",
       "      <td>9.840686e+09</td>\n",
       "      <td>sambadkhatiwada939@gmail.com</td>\n",
       "      <td>1st year</td>\n",
       "      <td>Himalayan College of Engineering, Chyasal</td>\n",
       "      <td>Computer</td>\n",
       "      <td>No</td>\n",
       "      <td>Evening (5:15pm - 6:45pm)</td>\n",
       "    </tr>\n",
       "  </tbody>\n",
       "</table>\n",
       "</div>"
      ],
      "text/plain": [
       "                   Name       Contact                         Email      Year  \\\n",
       "0        Sijan Shrestha  9.818190e+09   sijan.shrestha135@gmail.com  1st year   \n",
       "1  Bijendra Kumar Gupta  9.849088e+09          info.oseen@gmail.com  4th year   \n",
       "5           Sumit Karna  9.845366e+09        karnasumit85@gmail.com  1st year   \n",
       "6            Dhiraj Sah  9.866046e+09       sahilrocks986@gmail.com  3rd year   \n",
       "7      Sambad Khatiwada  9.840686e+09  sambadkhatiwada939@gmail.com  1st year   \n",
       "\n",
       "                                     College                    Stream  \\\n",
       "0                                         +2                        +2   \n",
       "1                            Anna University  Electrical & Electronics   \n",
       "5  Himalayan College of Engineering, Chyasal                  Computer   \n",
       "6  Himalayan College of Engineering, Chyasal                  Computer   \n",
       "7  Himalayan College of Engineering, Chyasal                  Computer   \n",
       "\n",
       "  PreviouslyDone                      Shift  \n",
       "0             No  Morning (8:00am - 9:30am)  \n",
       "1            Yes  Evening (5:15pm - 6:45pm)  \n",
       "5             No  Evening (5:15pm - 6:45pm)  \n",
       "6             No  Evening (5:15pm - 6:45pm)  \n",
       "7             No  Evening (5:15pm - 6:45pm)  "
      ]
     },
     "execution_count": 63,
     "metadata": {},
     "output_type": "execute_result"
    }
   ],
   "source": [
    "## simply drop rows with na\n",
    "df.dropna(inplace=True)\n",
    "df.head()"
   ]
  },
  {
   "cell_type": "markdown",
   "metadata": {},
   "source": [
    "### Standarize value."
   ]
  },
  {
   "cell_type": "code",
   "execution_count": 64,
   "metadata": {},
   "outputs": [
    {
     "data": {
      "text/plain": [
       "array(['+2', 'Anna University',\n",
       "       'Himalayan College of Engineering, Chyasal',\n",
       "       'Kathford International College of Engineering and Management, Balkumari',\n",
       "       'Kathmandu Engineering College, Kalimati',\n",
       "       'Khowpa College of Engineering, Bhaktapur',\n",
       "       'Lalitpur Engineering College, Chakupat',\n",
       "       'Madan Bhandari memorial ', 'Madan Bhandari Memorial Collage',\n",
       "       'Madan bhandari memorial collage ',\n",
       "       'Madan Bhandari Memorial College',\n",
       "       'Madan Bhandari Memorial College ',\n",
       "       'National College of Engineering, Talachhikhel Lalitpur',\n",
       "       'Nepal College of Information Technology(NCIT), Balkumari Lalitpur',\n",
       "       'New Summit College, Shantinagar', 'Pulchowk Campus, Pulchowk',\n",
       "       'Sagarmatha Engineering College, Lalitpur',\n",
       "       'Thapathali Engineering Campus, Thapathali', 'Tri-chandra',\n",
       "       'Tri-Chandra Multiple Campus, Kathmandu',\n",
       "       'Trichandra multie college '], dtype=object)"
      ]
     },
     "execution_count": 64,
     "metadata": {},
     "output_type": "execute_result"
    }
   ],
   "source": [
    "## standarize college\n",
    "#### Categroize into IT | Engineering | Other\n",
    "\n",
    "\n",
    "df.College.unique()"
   ]
  },
  {
   "cell_type": "code",
   "execution_count": 65,
   "metadata": {},
   "outputs": [
    {
     "data": {
      "text/html": [
       "<div>\n",
       "<style scoped>\n",
       "    .dataframe tbody tr th:only-of-type {\n",
       "        vertical-align: middle;\n",
       "    }\n",
       "\n",
       "    .dataframe tbody tr th {\n",
       "        vertical-align: top;\n",
       "    }\n",
       "\n",
       "    .dataframe thead th {\n",
       "        text-align: right;\n",
       "    }\n",
       "</style>\n",
       "<table border=\"1\" class=\"dataframe\">\n",
       "  <thead>\n",
       "    <tr style=\"text-align: right;\">\n",
       "      <th></th>\n",
       "      <th>Name</th>\n",
       "      <th>Contact</th>\n",
       "      <th>Email</th>\n",
       "      <th>Year</th>\n",
       "      <th>College</th>\n",
       "      <th>Stream</th>\n",
       "      <th>PreviouslyDone</th>\n",
       "      <th>Shift</th>\n",
       "    </tr>\n",
       "  </thead>\n",
       "  <tbody>\n",
       "    <tr>\n",
       "      <th>0</th>\n",
       "      <td>Sijan Shrestha</td>\n",
       "      <td>9.818190e+09</td>\n",
       "      <td>sijan.shrestha135@gmail.com</td>\n",
       "      <td>1st year</td>\n",
       "      <td>Others</td>\n",
       "      <td>+2</td>\n",
       "      <td>No</td>\n",
       "      <td>Morning (8:00am - 9:30am)</td>\n",
       "    </tr>\n",
       "    <tr>\n",
       "      <th>1</th>\n",
       "      <td>Bijendra Kumar Gupta</td>\n",
       "      <td>9.849088e+09</td>\n",
       "      <td>info.oseen@gmail.com</td>\n",
       "      <td>4th year</td>\n",
       "      <td>IT</td>\n",
       "      <td>Electrical &amp; Electronics</td>\n",
       "      <td>Yes</td>\n",
       "      <td>Evening (5:15pm - 6:45pm)</td>\n",
       "    </tr>\n",
       "    <tr>\n",
       "      <th>5</th>\n",
       "      <td>Sumit Karna</td>\n",
       "      <td>9.845366e+09</td>\n",
       "      <td>karnasumit85@gmail.com</td>\n",
       "      <td>1st year</td>\n",
       "      <td>Engineering</td>\n",
       "      <td>Computer</td>\n",
       "      <td>No</td>\n",
       "      <td>Evening (5:15pm - 6:45pm)</td>\n",
       "    </tr>\n",
       "    <tr>\n",
       "      <th>6</th>\n",
       "      <td>Dhiraj Sah</td>\n",
       "      <td>9.866046e+09</td>\n",
       "      <td>sahilrocks986@gmail.com</td>\n",
       "      <td>3rd year</td>\n",
       "      <td>Engineering</td>\n",
       "      <td>Computer</td>\n",
       "      <td>No</td>\n",
       "      <td>Evening (5:15pm - 6:45pm)</td>\n",
       "    </tr>\n",
       "    <tr>\n",
       "      <th>7</th>\n",
       "      <td>Sambad Khatiwada</td>\n",
       "      <td>9.840686e+09</td>\n",
       "      <td>sambadkhatiwada939@gmail.com</td>\n",
       "      <td>1st year</td>\n",
       "      <td>Engineering</td>\n",
       "      <td>Computer</td>\n",
       "      <td>No</td>\n",
       "      <td>Evening (5:15pm - 6:45pm)</td>\n",
       "    </tr>\n",
       "  </tbody>\n",
       "</table>\n",
       "</div>"
      ],
      "text/plain": [
       "                   Name       Contact                         Email      Year  \\\n",
       "0        Sijan Shrestha  9.818190e+09   sijan.shrestha135@gmail.com  1st year   \n",
       "1  Bijendra Kumar Gupta  9.849088e+09          info.oseen@gmail.com  4th year   \n",
       "5           Sumit Karna  9.845366e+09        karnasumit85@gmail.com  1st year   \n",
       "6            Dhiraj Sah  9.866046e+09       sahilrocks986@gmail.com  3rd year   \n",
       "7      Sambad Khatiwada  9.840686e+09  sambadkhatiwada939@gmail.com  1st year   \n",
       "\n",
       "       College                    Stream PreviouslyDone  \\\n",
       "0       Others                        +2             No   \n",
       "1           IT  Electrical & Electronics            Yes   \n",
       "5  Engineering                  Computer             No   \n",
       "6  Engineering                  Computer             No   \n",
       "7  Engineering                  Computer             No   \n",
       "\n",
       "                       Shift  \n",
       "0  Morning (8:00am - 9:30am)  \n",
       "1  Evening (5:15pm - 6:45pm)  \n",
       "5  Evening (5:15pm - 6:45pm)  \n",
       "6  Evening (5:15pm - 6:45pm)  \n",
       "7  Evening (5:15pm - 6:45pm)  "
      ]
     },
     "execution_count": 65,
     "metadata": {},
     "output_type": "execute_result"
    }
   ],
   "source": [
    "def filter_col(v):\n",
    "    v=v.upper()\n",
    "    if 'ENGINEERING' in v or 'PULCHOWK' in v:\n",
    "        return 'Engineering'\n",
    "    elif 'IT' in v:\n",
    "        return 'IT'\n",
    "    else:\n",
    "        return 'Others'\n",
    "df.College = df.College.apply(filter_col)\n",
    "df.head()"
   ]
  },
  {
   "cell_type": "code",
   "execution_count": 66,
   "metadata": {},
   "outputs": [
    {
     "data": {
      "text/html": [
       "<div>\n",
       "<style scoped>\n",
       "    .dataframe tbody tr th:only-of-type {\n",
       "        vertical-align: middle;\n",
       "    }\n",
       "\n",
       "    .dataframe tbody tr th {\n",
       "        vertical-align: top;\n",
       "    }\n",
       "\n",
       "    .dataframe thead th {\n",
       "        text-align: right;\n",
       "    }\n",
       "</style>\n",
       "<table border=\"1\" class=\"dataframe\">\n",
       "  <thead>\n",
       "    <tr style=\"text-align: right;\">\n",
       "      <th></th>\n",
       "      <th>Name</th>\n",
       "      <th>Contact</th>\n",
       "      <th>Email</th>\n",
       "      <th>Year</th>\n",
       "      <th>College</th>\n",
       "      <th>Stream</th>\n",
       "      <th>PreviouslyDone</th>\n",
       "      <th>Shift</th>\n",
       "    </tr>\n",
       "  </thead>\n",
       "  <tbody>\n",
       "    <tr>\n",
       "      <th>0</th>\n",
       "      <td>Sijan Shrestha</td>\n",
       "      <td>9.818190e+09</td>\n",
       "      <td>sijan.shrestha135@gmail.com</td>\n",
       "      <td>1</td>\n",
       "      <td>Others</td>\n",
       "      <td>+2</td>\n",
       "      <td>No</td>\n",
       "      <td>Morning (8:00am - 9:30am)</td>\n",
       "    </tr>\n",
       "    <tr>\n",
       "      <th>1</th>\n",
       "      <td>Bijendra Kumar Gupta</td>\n",
       "      <td>9.849088e+09</td>\n",
       "      <td>info.oseen@gmail.com</td>\n",
       "      <td>4</td>\n",
       "      <td>IT</td>\n",
       "      <td>Electrical &amp; Electronics</td>\n",
       "      <td>Yes</td>\n",
       "      <td>Evening (5:15pm - 6:45pm)</td>\n",
       "    </tr>\n",
       "    <tr>\n",
       "      <th>5</th>\n",
       "      <td>Sumit Karna</td>\n",
       "      <td>9.845366e+09</td>\n",
       "      <td>karnasumit85@gmail.com</td>\n",
       "      <td>1</td>\n",
       "      <td>Engineering</td>\n",
       "      <td>Computer</td>\n",
       "      <td>No</td>\n",
       "      <td>Evening (5:15pm - 6:45pm)</td>\n",
       "    </tr>\n",
       "    <tr>\n",
       "      <th>6</th>\n",
       "      <td>Dhiraj Sah</td>\n",
       "      <td>9.866046e+09</td>\n",
       "      <td>sahilrocks986@gmail.com</td>\n",
       "      <td>3</td>\n",
       "      <td>Engineering</td>\n",
       "      <td>Computer</td>\n",
       "      <td>No</td>\n",
       "      <td>Evening (5:15pm - 6:45pm)</td>\n",
       "    </tr>\n",
       "    <tr>\n",
       "      <th>7</th>\n",
       "      <td>Sambad Khatiwada</td>\n",
       "      <td>9.840686e+09</td>\n",
       "      <td>sambadkhatiwada939@gmail.com</td>\n",
       "      <td>1</td>\n",
       "      <td>Engineering</td>\n",
       "      <td>Computer</td>\n",
       "      <td>No</td>\n",
       "      <td>Evening (5:15pm - 6:45pm)</td>\n",
       "    </tr>\n",
       "  </tbody>\n",
       "</table>\n",
       "</div>"
      ],
      "text/plain": [
       "                   Name       Contact                         Email  Year  \\\n",
       "0        Sijan Shrestha  9.818190e+09   sijan.shrestha135@gmail.com     1   \n",
       "1  Bijendra Kumar Gupta  9.849088e+09          info.oseen@gmail.com     4   \n",
       "5           Sumit Karna  9.845366e+09        karnasumit85@gmail.com     1   \n",
       "6            Dhiraj Sah  9.866046e+09       sahilrocks986@gmail.com     3   \n",
       "7      Sambad Khatiwada  9.840686e+09  sambadkhatiwada939@gmail.com     1   \n",
       "\n",
       "       College                    Stream PreviouslyDone  \\\n",
       "0       Others                        +2             No   \n",
       "1           IT  Electrical & Electronics            Yes   \n",
       "5  Engineering                  Computer             No   \n",
       "6  Engineering                  Computer             No   \n",
       "7  Engineering                  Computer             No   \n",
       "\n",
       "                       Shift  \n",
       "0  Morning (8:00am - 9:30am)  \n",
       "1  Evening (5:15pm - 6:45pm)  \n",
       "5  Evening (5:15pm - 6:45pm)  \n",
       "6  Evening (5:15pm - 6:45pm)  \n",
       "7  Evening (5:15pm - 6:45pm)  "
      ]
     },
     "execution_count": 66,
     "metadata": {},
     "output_type": "execute_result"
    }
   ],
   "source": [
    "## standarize year\n",
    "def filter_yr(v):\n",
    "    if '1' in v:\n",
    "        return 1\n",
    "    elif '2' in v:\n",
    "        return 2\n",
    "    elif '3' in v:\n",
    "        return 3\n",
    "    elif '4' in v:\n",
    "        return 4\n",
    "df.Year=df.Year.apply(filter_yr)\n",
    "df.head()\n",
    "    "
   ]
  },
  {
   "cell_type": "code",
   "execution_count": 57,
   "metadata": {},
   "outputs": [
    {
     "data": {
      "text/plain": [
       "array(['+2', 'Electrical & Electronics', 'Computer', 'BCA', 'Electronics',\n",
       "       'Electrical', 'Bsc. CSIT', 'IT', 'Computer Science', 'Bsc CSIT',\n",
       "       'BscSCIT', 'Civil', 'BEIT', 'IT Engineering ', 'BE IT',\n",
       "       'Information Technology', 'CSIT', 'Mechanical', 'Aerospace',\n",
       "       'Chemical', 'industrial', 'Industrial', 'Physics', 'B.Sc. physics'],\n",
       "      dtype=object)"
      ]
     },
     "execution_count": 57,
     "metadata": {},
     "output_type": "execute_result"
    }
   ],
   "source": [
    "## Standardize faculty\n",
    "# category : IT | Non-IT\n",
    "\n",
    "df.Stream.unique()"
   ]
  },
  {
   "cell_type": "code",
   "execution_count": 67,
   "metadata": {},
   "outputs": [
    {
     "data": {
      "text/html": [
       "<div>\n",
       "<style scoped>\n",
       "    .dataframe tbody tr th:only-of-type {\n",
       "        vertical-align: middle;\n",
       "    }\n",
       "\n",
       "    .dataframe tbody tr th {\n",
       "        vertical-align: top;\n",
       "    }\n",
       "\n",
       "    .dataframe thead th {\n",
       "        text-align: right;\n",
       "    }\n",
       "</style>\n",
       "<table border=\"1\" class=\"dataframe\">\n",
       "  <thead>\n",
       "    <tr style=\"text-align: right;\">\n",
       "      <th></th>\n",
       "      <th>Name</th>\n",
       "      <th>Contact</th>\n",
       "      <th>Email</th>\n",
       "      <th>Year</th>\n",
       "      <th>College</th>\n",
       "      <th>Stream</th>\n",
       "      <th>PreviouslyDone</th>\n",
       "      <th>Shift</th>\n",
       "    </tr>\n",
       "  </thead>\n",
       "  <tbody>\n",
       "    <tr>\n",
       "      <th>0</th>\n",
       "      <td>Sijan Shrestha</td>\n",
       "      <td>9.818190e+09</td>\n",
       "      <td>sijan.shrestha135@gmail.com</td>\n",
       "      <td>1</td>\n",
       "      <td>Others</td>\n",
       "      <td>Non-IT</td>\n",
       "      <td>No</td>\n",
       "      <td>Morning (8:00am - 9:30am)</td>\n",
       "    </tr>\n",
       "    <tr>\n",
       "      <th>1</th>\n",
       "      <td>Bijendra Kumar Gupta</td>\n",
       "      <td>9.849088e+09</td>\n",
       "      <td>info.oseen@gmail.com</td>\n",
       "      <td>4</td>\n",
       "      <td>IT</td>\n",
       "      <td>IT</td>\n",
       "      <td>Yes</td>\n",
       "      <td>Evening (5:15pm - 6:45pm)</td>\n",
       "    </tr>\n",
       "    <tr>\n",
       "      <th>5</th>\n",
       "      <td>Sumit Karna</td>\n",
       "      <td>9.845366e+09</td>\n",
       "      <td>karnasumit85@gmail.com</td>\n",
       "      <td>1</td>\n",
       "      <td>Engineering</td>\n",
       "      <td>IT</td>\n",
       "      <td>No</td>\n",
       "      <td>Evening (5:15pm - 6:45pm)</td>\n",
       "    </tr>\n",
       "    <tr>\n",
       "      <th>6</th>\n",
       "      <td>Dhiraj Sah</td>\n",
       "      <td>9.866046e+09</td>\n",
       "      <td>sahilrocks986@gmail.com</td>\n",
       "      <td>3</td>\n",
       "      <td>Engineering</td>\n",
       "      <td>IT</td>\n",
       "      <td>No</td>\n",
       "      <td>Evening (5:15pm - 6:45pm)</td>\n",
       "    </tr>\n",
       "    <tr>\n",
       "      <th>7</th>\n",
       "      <td>Sambad Khatiwada</td>\n",
       "      <td>9.840686e+09</td>\n",
       "      <td>sambadkhatiwada939@gmail.com</td>\n",
       "      <td>1</td>\n",
       "      <td>Engineering</td>\n",
       "      <td>IT</td>\n",
       "      <td>No</td>\n",
       "      <td>Evening (5:15pm - 6:45pm)</td>\n",
       "    </tr>\n",
       "  </tbody>\n",
       "</table>\n",
       "</div>"
      ],
      "text/plain": [
       "                   Name       Contact                         Email  Year  \\\n",
       "0        Sijan Shrestha  9.818190e+09   sijan.shrestha135@gmail.com     1   \n",
       "1  Bijendra Kumar Gupta  9.849088e+09          info.oseen@gmail.com     4   \n",
       "5           Sumit Karna  9.845366e+09        karnasumit85@gmail.com     1   \n",
       "6            Dhiraj Sah  9.866046e+09       sahilrocks986@gmail.com     3   \n",
       "7      Sambad Khatiwada  9.840686e+09  sambadkhatiwada939@gmail.com     1   \n",
       "\n",
       "       College  Stream PreviouslyDone                      Shift  \n",
       "0       Others  Non-IT             No  Morning (8:00am - 9:30am)  \n",
       "1           IT      IT            Yes  Evening (5:15pm - 6:45pm)  \n",
       "5  Engineering      IT             No  Evening (5:15pm - 6:45pm)  \n",
       "6  Engineering      IT             No  Evening (5:15pm - 6:45pm)  \n",
       "7  Engineering      IT             No  Evening (5:15pm - 6:45pm)  "
      ]
     },
     "execution_count": 67,
     "metadata": {},
     "output_type": "execute_result"
    }
   ],
   "source": [
    "## IT --> Electrical | Electronics | Computer | IT\n",
    "\n",
    "def filter_fc(v):\n",
    "    v=v.lower()\n",
    "    if 'electrical' in v or 'electronics' in v or 'computer' in v or 'it' in v:\n",
    "        return 'IT'\n",
    "    else:\n",
    "        return 'Non-IT'\n",
    "\n",
    "df.Stream= df.Stream.apply(filter_fc)\n",
    "df.head()"
   ]
  },
  {
   "cell_type": "markdown",
   "metadata": {},
   "source": [
    "#### Step 4 : Analyze the data\n",
    "<!-- Get your answers -->\n",
    "\n"
   ]
  },
  {
   "cell_type": "code",
   "execution_count": 75,
   "metadata": {},
   "outputs": [
    {
     "data": {
      "text/html": [
       "<div>\n",
       "<style scoped>\n",
       "    .dataframe tbody tr th:only-of-type {\n",
       "        vertical-align: middle;\n",
       "    }\n",
       "\n",
       "    .dataframe tbody tr th {\n",
       "        vertical-align: top;\n",
       "    }\n",
       "\n",
       "    .dataframe thead th {\n",
       "        text-align: right;\n",
       "    }\n",
       "</style>\n",
       "<table border=\"1\" class=\"dataframe\">\n",
       "  <thead>\n",
       "    <tr style=\"text-align: right;\">\n",
       "      <th></th>\n",
       "      <th></th>\n",
       "      <th></th>\n",
       "      <th>Count</th>\n",
       "    </tr>\n",
       "    <tr>\n",
       "      <th>Stream</th>\n",
       "      <th>Year</th>\n",
       "      <th>College</th>\n",
       "      <th></th>\n",
       "    </tr>\n",
       "  </thead>\n",
       "  <tbody>\n",
       "    <tr>\n",
       "      <th rowspan=\"12\" valign=\"top\">IT</th>\n",
       "      <th rowspan=\"3\" valign=\"top\">1</th>\n",
       "      <th>Engineering</th>\n",
       "      <td>206</td>\n",
       "    </tr>\n",
       "    <tr>\n",
       "      <th>IT</th>\n",
       "      <td>3</td>\n",
       "    </tr>\n",
       "    <tr>\n",
       "      <th>Others</th>\n",
       "      <td>5</td>\n",
       "    </tr>\n",
       "    <tr>\n",
       "      <th rowspan=\"3\" valign=\"top\">2</th>\n",
       "      <th>Engineering</th>\n",
       "      <td>68</td>\n",
       "    </tr>\n",
       "    <tr>\n",
       "      <th>IT</th>\n",
       "      <td>2</td>\n",
       "    </tr>\n",
       "    <tr>\n",
       "      <th>Others</th>\n",
       "      <td>2</td>\n",
       "    </tr>\n",
       "    <tr>\n",
       "      <th rowspan=\"3\" valign=\"top\">3</th>\n",
       "      <th>Engineering</th>\n",
       "      <td>45</td>\n",
       "    </tr>\n",
       "    <tr>\n",
       "      <th>IT</th>\n",
       "      <td>6</td>\n",
       "    </tr>\n",
       "    <tr>\n",
       "      <th>Others</th>\n",
       "      <td>1</td>\n",
       "    </tr>\n",
       "    <tr>\n",
       "      <th rowspan=\"3\" valign=\"top\">4</th>\n",
       "      <th>Engineering</th>\n",
       "      <td>2</td>\n",
       "    </tr>\n",
       "    <tr>\n",
       "      <th>IT</th>\n",
       "      <td>1</td>\n",
       "    </tr>\n",
       "    <tr>\n",
       "      <th>Others</th>\n",
       "      <td>1</td>\n",
       "    </tr>\n",
       "    <tr>\n",
       "      <th rowspan=\"7\" valign=\"top\">Non-IT</th>\n",
       "      <th rowspan=\"3\" valign=\"top\">1</th>\n",
       "      <th>Engineering</th>\n",
       "      <td>7</td>\n",
       "    </tr>\n",
       "    <tr>\n",
       "      <th>IT</th>\n",
       "      <td>1</td>\n",
       "    </tr>\n",
       "    <tr>\n",
       "      <th>Others</th>\n",
       "      <td>1</td>\n",
       "    </tr>\n",
       "    <tr>\n",
       "      <th>2</th>\n",
       "      <th>Engineering</th>\n",
       "      <td>12</td>\n",
       "    </tr>\n",
       "    <tr>\n",
       "      <th>3</th>\n",
       "      <th>Engineering</th>\n",
       "      <td>5</td>\n",
       "    </tr>\n",
       "    <tr>\n",
       "      <th rowspan=\"2\" valign=\"top\">4</th>\n",
       "      <th>Engineering</th>\n",
       "      <td>1</td>\n",
       "    </tr>\n",
       "    <tr>\n",
       "      <th>Others</th>\n",
       "      <td>2</td>\n",
       "    </tr>\n",
       "  </tbody>\n",
       "</table>\n",
       "</div>"
      ],
      "text/plain": [
       "                         Count\n",
       "Stream Year College           \n",
       "IT     1    Engineering    206\n",
       "            IT               3\n",
       "            Others           5\n",
       "       2    Engineering     68\n",
       "            IT               2\n",
       "            Others           2\n",
       "       3    Engineering     45\n",
       "            IT               6\n",
       "            Others           1\n",
       "       4    Engineering      2\n",
       "            IT               1\n",
       "            Others           1\n",
       "Non-IT 1    Engineering      7\n",
       "            IT               1\n",
       "            Others           1\n",
       "       2    Engineering     12\n",
       "       3    Engineering      5\n",
       "       4    Engineering      1\n",
       "            Others           2"
      ]
     },
     "execution_count": 75,
     "metadata": {},
     "output_type": "execute_result"
    }
   ],
   "source": [
    "df=df[['Stream','Year','College','Name']]\n",
    "df.rename(columns={'Name':'Count'})\n",
    "df_ag=df.groupby(['Stream','Year','College']).count()\n",
    "df_ag\n"
   ]
  },
  {
   "cell_type": "markdown",
   "metadata": {},
   "source": [
    "#### Step 5 : Visualize and share your findings"
   ]
  },
  {
   "cell_type": "code",
   "execution_count": null,
   "metadata": {},
   "outputs": [],
   "source": [
    "import plotly.express as px"
   ]
  },
  {
   "cell_type": "code",
   "execution_count": 73,
   "metadata": {},
   "outputs": [
    {
     "data": {
      "text/html": [
       "<div>\n",
       "<style scoped>\n",
       "    .dataframe tbody tr th:only-of-type {\n",
       "        vertical-align: middle;\n",
       "    }\n",
       "\n",
       "    .dataframe tbody tr th {\n",
       "        vertical-align: top;\n",
       "    }\n",
       "\n",
       "    .dataframe thead th {\n",
       "        text-align: right;\n",
       "    }\n",
       "</style>\n",
       "<table border=\"1\" class=\"dataframe\">\n",
       "  <thead>\n",
       "    <tr style=\"text-align: right;\">\n",
       "      <th></th>\n",
       "      <th>Stream</th>\n",
       "      <th>Year</th>\n",
       "      <th>College</th>\n",
       "      <th>Count</th>\n",
       "    </tr>\n",
       "  </thead>\n",
       "  <tbody>\n",
       "    <tr>\n",
       "      <th>0</th>\n",
       "      <td>IT</td>\n",
       "      <td>1</td>\n",
       "      <td>Engineering</td>\n",
       "      <td>206</td>\n",
       "    </tr>\n",
       "    <tr>\n",
       "      <th>1</th>\n",
       "      <td>IT</td>\n",
       "      <td>1</td>\n",
       "      <td>IT</td>\n",
       "      <td>3</td>\n",
       "    </tr>\n",
       "    <tr>\n",
       "      <th>2</th>\n",
       "      <td>IT</td>\n",
       "      <td>1</td>\n",
       "      <td>Others</td>\n",
       "      <td>5</td>\n",
       "    </tr>\n",
       "    <tr>\n",
       "      <th>3</th>\n",
       "      <td>IT</td>\n",
       "      <td>2</td>\n",
       "      <td>Engineering</td>\n",
       "      <td>68</td>\n",
       "    </tr>\n",
       "    <tr>\n",
       "      <th>4</th>\n",
       "      <td>IT</td>\n",
       "      <td>2</td>\n",
       "      <td>IT</td>\n",
       "      <td>2</td>\n",
       "    </tr>\n",
       "    <tr>\n",
       "      <th>5</th>\n",
       "      <td>IT</td>\n",
       "      <td>2</td>\n",
       "      <td>Others</td>\n",
       "      <td>2</td>\n",
       "    </tr>\n",
       "    <tr>\n",
       "      <th>6</th>\n",
       "      <td>IT</td>\n",
       "      <td>3</td>\n",
       "      <td>Engineering</td>\n",
       "      <td>45</td>\n",
       "    </tr>\n",
       "    <tr>\n",
       "      <th>7</th>\n",
       "      <td>IT</td>\n",
       "      <td>3</td>\n",
       "      <td>IT</td>\n",
       "      <td>6</td>\n",
       "    </tr>\n",
       "    <tr>\n",
       "      <th>8</th>\n",
       "      <td>IT</td>\n",
       "      <td>3</td>\n",
       "      <td>Others</td>\n",
       "      <td>1</td>\n",
       "    </tr>\n",
       "    <tr>\n",
       "      <th>9</th>\n",
       "      <td>IT</td>\n",
       "      <td>4</td>\n",
       "      <td>Engineering</td>\n",
       "      <td>2</td>\n",
       "    </tr>\n",
       "    <tr>\n",
       "      <th>10</th>\n",
       "      <td>IT</td>\n",
       "      <td>4</td>\n",
       "      <td>IT</td>\n",
       "      <td>1</td>\n",
       "    </tr>\n",
       "    <tr>\n",
       "      <th>11</th>\n",
       "      <td>IT</td>\n",
       "      <td>4</td>\n",
       "      <td>Others</td>\n",
       "      <td>1</td>\n",
       "    </tr>\n",
       "    <tr>\n",
       "      <th>12</th>\n",
       "      <td>Non-IT</td>\n",
       "      <td>1</td>\n",
       "      <td>Engineering</td>\n",
       "      <td>7</td>\n",
       "    </tr>\n",
       "    <tr>\n",
       "      <th>13</th>\n",
       "      <td>Non-IT</td>\n",
       "      <td>1</td>\n",
       "      <td>IT</td>\n",
       "      <td>1</td>\n",
       "    </tr>\n",
       "    <tr>\n",
       "      <th>14</th>\n",
       "      <td>Non-IT</td>\n",
       "      <td>1</td>\n",
       "      <td>Others</td>\n",
       "      <td>1</td>\n",
       "    </tr>\n",
       "    <tr>\n",
       "      <th>15</th>\n",
       "      <td>Non-IT</td>\n",
       "      <td>2</td>\n",
       "      <td>Engineering</td>\n",
       "      <td>12</td>\n",
       "    </tr>\n",
       "    <tr>\n",
       "      <th>16</th>\n",
       "      <td>Non-IT</td>\n",
       "      <td>3</td>\n",
       "      <td>Engineering</td>\n",
       "      <td>5</td>\n",
       "    </tr>\n",
       "    <tr>\n",
       "      <th>17</th>\n",
       "      <td>Non-IT</td>\n",
       "      <td>4</td>\n",
       "      <td>Engineering</td>\n",
       "      <td>1</td>\n",
       "    </tr>\n",
       "    <tr>\n",
       "      <th>18</th>\n",
       "      <td>Non-IT</td>\n",
       "      <td>4</td>\n",
       "      <td>Others</td>\n",
       "      <td>2</td>\n",
       "    </tr>\n",
       "  </tbody>\n",
       "</table>\n",
       "</div>"
      ],
      "text/plain": [
       "    Stream  Year      College  Count\n",
       "0       IT     1  Engineering    206\n",
       "1       IT     1           IT      3\n",
       "2       IT     1       Others      5\n",
       "3       IT     2  Engineering     68\n",
       "4       IT     2           IT      2\n",
       "5       IT     2       Others      2\n",
       "6       IT     3  Engineering     45\n",
       "7       IT     3           IT      6\n",
       "8       IT     3       Others      1\n",
       "9       IT     4  Engineering      2\n",
       "10      IT     4           IT      1\n",
       "11      IT     4       Others      1\n",
       "12  Non-IT     1  Engineering      7\n",
       "13  Non-IT     1           IT      1\n",
       "14  Non-IT     1       Others      1\n",
       "15  Non-IT     2  Engineering     12\n",
       "16  Non-IT     3  Engineering      5\n",
       "17  Non-IT     4  Engineering      1\n",
       "18  Non-IT     4       Others      2"
      ]
     },
     "execution_count": 73,
     "metadata": {},
     "output_type": "execute_result"
    }
   ],
   "source": [
    "df_ag.reset_index()"
   ]
  },
  {
   "cell_type": "code",
   "execution_count": 80,
   "metadata": {},
   "outputs": [
    {
     "data": {
      "application/vnd.plotly.v1+json": {
       "config": {
        "plotlyServerURL": "https://plot.ly"
       },
       "data": [
        {
         "domain": {
          "x": [
           0,
           1
          ],
          "y": [
           0,
           1
          ]
         },
         "hovertemplate": "Stream=%{label}<br>Count=%{value}<extra></extra>",
         "labels": [
          "Non-IT",
          "IT",
          "IT",
          "IT",
          "IT",
          "IT",
          "Non-IT",
          "IT",
          "Non-IT",
          "IT",
          "IT",
          "IT",
          "IT",
          "IT",
          "IT",
          "IT",
          "IT",
          "IT",
          "IT",
          "IT",
          "IT",
          "IT",
          "IT",
          "IT",
          "IT",
          "IT",
          "IT",
          "IT",
          "IT",
          "IT",
          "IT",
          "IT",
          "IT",
          "IT",
          "IT",
          "IT",
          "IT",
          "IT",
          "IT",
          "IT",
          "IT",
          "IT",
          "IT",
          "IT",
          "IT",
          "IT",
          "IT",
          "IT",
          "IT",
          "IT",
          "IT",
          "IT",
          "IT",
          "IT",
          "IT",
          "IT",
          "IT",
          "IT",
          "IT",
          "IT",
          "IT",
          "IT",
          "IT",
          "IT",
          "IT",
          "IT",
          "IT",
          "IT",
          "IT",
          "IT",
          "IT",
          "IT",
          "IT",
          "IT",
          "IT",
          "IT",
          "IT",
          "IT",
          "IT",
          "IT",
          "IT",
          "IT",
          "IT",
          "IT",
          "IT",
          "IT",
          "IT",
          "IT",
          "IT",
          "IT",
          "IT",
          "IT",
          "IT",
          "IT",
          "IT",
          "IT",
          "IT",
          "IT",
          "IT",
          "IT",
          "IT",
          "IT",
          "IT",
          "IT",
          "IT",
          "IT",
          "Non-IT",
          "IT",
          "IT",
          "IT",
          "IT",
          "IT",
          "Non-IT",
          "IT",
          "IT",
          "IT",
          "IT",
          "IT",
          "IT",
          "IT",
          "IT",
          "IT",
          "IT",
          "IT",
          "IT",
          "IT",
          "IT",
          "IT",
          "IT",
          "IT",
          "IT",
          "IT",
          "IT",
          "IT",
          "IT",
          "Non-IT",
          "IT",
          "Non-IT",
          "IT",
          "IT",
          "IT",
          "IT",
          "IT",
          "IT",
          "IT",
          "Non-IT",
          "IT",
          "IT",
          "IT",
          "IT",
          "IT",
          "IT",
          "IT",
          "IT",
          "IT",
          "IT",
          "IT",
          "IT",
          "IT",
          "IT",
          "IT",
          "IT",
          "IT",
          "IT",
          "IT",
          "IT",
          "IT",
          "IT",
          "IT",
          "IT",
          "IT",
          "IT",
          "IT",
          "Non-IT",
          "IT",
          "IT",
          "IT",
          "IT",
          "IT",
          "IT",
          "IT",
          "IT",
          "IT",
          "IT",
          "Non-IT",
          "Non-IT",
          "Non-IT",
          "IT",
          "IT",
          "IT",
          "IT",
          "IT",
          "IT",
          "IT",
          "IT",
          "IT",
          "IT",
          "Non-IT",
          "IT",
          "IT",
          "IT",
          "IT",
          "IT",
          "IT",
          "IT",
          "IT",
          "IT",
          "IT",
          "IT",
          "IT",
          "IT",
          "IT",
          "IT",
          "IT",
          "IT",
          "IT",
          "IT",
          "IT",
          "IT",
          "IT",
          "IT",
          "IT",
          "IT",
          "IT",
          "IT",
          "IT",
          "IT",
          "IT",
          "IT",
          "IT",
          "Non-IT",
          "IT",
          "IT",
          "IT",
          "IT",
          "IT",
          "IT",
          "IT",
          "IT",
          "IT",
          "IT",
          "IT",
          "IT",
          "IT",
          "IT",
          "IT",
          "IT",
          "IT",
          "IT",
          "IT",
          "IT",
          "IT",
          "IT",
          "IT",
          "Non-IT",
          "Non-IT",
          "Non-IT",
          "IT",
          "IT",
          "IT",
          "IT",
          "IT",
          "IT",
          "IT",
          "IT",
          "IT",
          "IT",
          "IT",
          "IT",
          "IT",
          "Non-IT",
          "IT",
          "IT",
          "IT",
          "IT",
          "IT",
          "IT",
          "IT",
          "IT",
          "IT",
          "IT",
          "IT",
          "IT",
          "IT",
          "IT",
          "IT",
          "Non-IT",
          "IT",
          "IT",
          "IT",
          "IT",
          "IT",
          "IT",
          "IT",
          "IT",
          "IT",
          "IT",
          "IT",
          "IT",
          "IT",
          "IT",
          "IT",
          "Non-IT",
          "IT",
          "IT",
          "IT",
          "IT",
          "IT",
          "IT",
          "IT",
          "IT",
          "IT",
          "IT",
          "IT",
          "IT",
          "IT",
          "IT",
          "IT",
          "IT",
          "IT",
          "IT",
          "IT",
          "IT",
          "IT",
          "IT",
          "IT",
          "IT",
          "IT",
          "IT",
          "IT",
          "IT",
          "IT",
          "IT",
          "IT",
          "IT",
          "IT",
          "IT",
          "IT",
          "IT",
          "IT",
          "IT",
          "IT",
          "IT",
          "IT",
          "IT",
          "IT",
          "Non-IT",
          "Non-IT",
          "Non-IT",
          "Non-IT",
          "IT",
          "IT",
          "IT",
          "IT",
          "IT",
          "IT",
          "Non-IT",
          "IT",
          "IT",
          "IT",
          "IT",
          "IT",
          "Non-IT",
          "IT",
          "Non-IT",
          "IT",
          "IT",
          "IT",
          "IT",
          "Non-IT",
          "Non-IT"
         ],
         "legendgroup": "",
         "name": "",
         "showlegend": true,
         "type": "pie",
         "values": [
          "Sijan Shrestha",
          "Bijendra Kumar Gupta",
          "Sumit Karna",
          "Dhiraj Sah",
          "Sambad Khatiwada",
          "Bidhya Bhattarai ",
          "Bikesh Sapkota ",
          "Kalyan Subedi ",
          "Binayak rijal",
          "UNISHA CHAULAGAIN",
          "Sandhya Adhikari",
          "Prakriti Shrestha",
          "Punam Bashyal ",
          "Prasanna Shakya",
          "Dhiraj Sah ",
          "Bipana pandey ",
          "Rejin Maharjan",
          "Sushant Bhandari",
          "Anamol Basnet",
          "Sajal Maharjan",
          "Gagan Pradhan ",
          "Sanskriti Dhakal ",
          "Rekha Angdembe ",
          "Rafiya Begam ",
          "Biplav Chaudhary",
          "Prabin KC",
          "Sambhav Baidhya ",
          "Nitesh Panthi ",
          "Avishek Ranjan",
          "Fame Pun",
          "Saswat Poudel",
          "Bidisha Amatya",
          "Chirag Kuinkel",
          "Ankit Rajbhandari",
          "Ujjal Shrestha",
          "Bipin Acharya",
          "Gorkh baduwal",
          "Umang shahi",
          "Pukar Sharma",
          "Neha Adhikari",
          "Prabha basnet",
          "Subhadra",
          "Rashmi Karn",
          "Binit Joshi",
          "Ankit Rajbhandari ",
          "Sadiksha Poudel",
          "Dikshya Neupane",
          "Ritesh Karmacharya ",
          "Neega bhuju",
          "Aashish Adhikari",
          "Binaya Dhakal",
          "Saurav Shakya",
          "Abhishek Maharjan ",
          "Sagar Bade Shrestha",
          "Manish Dhimal",
          "Bhim Lopchan Tamang",
          "Bibek khanal ",
          "Manish Rajbahak ",
          "Dikshit Karki ",
          "Ritesh Basnet",
          "Muskan Pradhan",
          "Madhav Kafle",
          "Nancy Yadav ",
          "Jagrit Parajuli",
          "Sandip Timsina",
          "Subin Shrestha",
          "Jenish Twayana",
          "Siddhartha Raut",
          "Samshrita Ghimire ",
          "Ankit Kayastha",
          "Sankalpa Kandel",
          "Bijay Kadariya ",
          "Prajwal Shrestha",
          "Safal Adhikari",
          "Prajwal Acharya ",
          "Abhinas Regmi",
          "Romik Gosai ",
          "Indira kasichhwa ",
          "Romik Gosai ",
          "Arun Prasad Paneru",
          "jitendra mandal",
          "Shristi Koju",
          "Arogya Dhaubhadel",
          "Pragya Shrestha ",
          "Prakash pandey",
          "Subas Kandel ",
          "Siddhant Rai",
          "Sairoj Prasai ",
          "Yasmini Gyawali",
          "Anshul Rawal",
          "Rahul Kumar Shah",
          "Shivam Gupta",
          "Sudip Timalsina",
          "Samrat Aryal",
          "Royal shrestha",
          "Prabin Joshi",
          "Shristi chapagain",
          "Raunak Shrivastab",
          "Pratik thapa",
          "Aadit Babu Panta",
          "Apeksha Gyawali",
          "Prerana Sapkota ",
          "Ankita Subedi",
          "Anushka Aryal",
          "Bibek Aryal",
          "Aaditya Bhatt ",
          "Anurag Chunara",
          "monikashakya",
          "Aayush Raj Regmi",
          "Bipul Chaudhary ",
          "Sunil Nath",
          "Rohan khanal",
          "Rishav Gautam",
          "Sarthak Dhital ",
          "Shirshak Upadhayay",
          "Satish Neupane",
          "Ranjit chaudhary ",
          "Sahash Chaudhary ",
          "Dinesh Baral",
          "Abhishek Thapa",
          "Divyanshu Mishra ",
          "Nomika Dhakal",
          "Nijiya Maharjan",
          "Oshika Neupane",
          "Murphy Chaudhary ",
          "Elina Kattel",
          "Ankeet Gadtaula",
          "Abhishek Kamati",
          "Dhiraj Thapa ",
          "Suchana Bohara",
          "Samikshya Bhusal",
          "Ridhima Bhatt ",
          "Shreya Shrestha",
          "Ram Mishra ",
          "Prabal Barahi",
          "Himanshu Paudel",
          "Nirajan kumar chaudhary",
          "Dipesh Paudel",
          "Ashim Nepal ",
          "Simran Maharjan ",
          "Livesh Parajuli",
          "Sagar Giri",
          "Sagar Chaudhary",
          "Amrit sarki",
          "Manish shah",
          "Rudip Shrestha ",
          "Bibek Dhungana",
          "Arun Chaudhary ",
          "Manish Adhikari",
          "Arisha Prasain",
          "Anuj Shrestha ",
          "Apekshya Shakya",
          "Sushant chaudhary ",
          "purushottam thakur ",
          "Yugesh KC",
          "Praharsha Adhikari",
          "Rishikesh Paudel",
          "Saugat Adhikari",
          "Ayush Adhikari",
          "Ashutosh Bhattarai",
          "Sharad Pokharel",
          "sijan khadka",
          "Suraj Kumal",
          "Bhraman Shestha",
          "Shalu Khebang",
          "Prajwal Devkota",
          "Bikram Babu Basnet",
          "Janardan Bhetwal",
          "Bibek gautam",
          "Rounak Jha",
          "Rubika Bashyal",
          "Aayush Regmi",
          "Vilakshan Gyawali",
          "Nitesh Basnet",
          "Asok B.K.",
          "Arpana Neupane ",
          "Pratik Adhikari ",
          "Prabesh Bashyal",
          "Bindu Paudel",
          "Kundan siwakoti",
          "Nibida Ghimire ",
          "Deeparshan Prasad Shrestha ",
          "Chirayu Bhattarai ",
          "Samip Ghimire ",
          "Saphal Gandhari ",
          "Sewak Timlasina",
          "Suyog Basnet",
          "Arpit Pokhrel",
          "Khim Paudel",
          "Shiva Agrahari",
          "Sudip Adhikari",
          "Bijayashree Koirala",
          "Krishal Marahatta",
          "Saksham Sapkota",
          "Aditya Krishna ",
          "Sadhana Panthi",
          "Aashirbad Bhandari ",
          "Prajit Dhakal",
          "Apala Timalsina ",
          "Arbashu Dhakal",
          "Sujan Baskota",
          "Subash Kandel",
          "Sarthak Pokhrel ",
          "Anurag Upadhyaya ",
          "Thamman Malla",
          "Jyoti Gupta",
          "Aalok Aryal",
          "Ishan Katwal",
          "Shreya Uprety",
          "Bishal Lamichhane ",
          "Susan  Thapa",
          "Andis Paudel",
          "Aashutosh pandey ",
          "Ghanshyam Bhandari ",
          "Ankit belbase",
          "Dipan Bartaula",
          "Baibhav Singh",
          "Samriddhi Karki",
          "Aditi Subedi ",
          "Rajesh Bhusal",
          "Mukesh dahal",
          "Batsal Bhusal",
          "Siddhanta Paudel",
          "Sanim Pandey",
          "Prakash Mahato ",
          "Anil Shrestha",
          "Ashok Prasad Neupane",
          "Priyanshu Pyakurel",
          "RAZESH SUBEDI",
          "Anil Shrestha",
          "Soni Pokharel",
          "Supreme Bhandari ",
          "Nishan Kanung Magar",
          "Shasank Adhikari ",
          "Spandan Bhandari ",
          "prajwal pudasainee",
          "Sandip Rokaya",
          "Shashi Adhikari ",
          "Paras kumar chaudhary",
          "Bishal Tamang",
          "Sangam Rai",
          "Bibek Dhakal",
          "Anurag Sah",
          "Gunaraj Khatri",
          "Samyam Giri",
          "SALIZ THAPA ",
          "Bishal Kumar Jaiswal",
          "Shanti Ram Niraula ",
          "Dipak Yadav",
          "Saurav Chaudhary",
          "Sandip Acharya ",
          "Bikash Pokhrel",
          "Manorath Bhatt ",
          "Raju Mahato ",
          "Saurav kafle",
          "Brajesh yadav",
          "Rabin Jung kunwar",
          "Sandesh Kuikel ",
          "Biraj Neupane",
          "Saroj poudel",
          "Bibek pandey",
          "Aashish Karki",
          "Binod Kumar Sah",
          "Rochak Niraula ",
          "Anish Bishwakarma",
          "Shekhar Majhi",
          "shree krishna acharya",
          "Saroj Adhikari",
          "Laxman KC",
          "Sandesh Adhikari",
          "Sangam Bahadur Adhikari ",
          "Apil Chaudhary",
          "Bhuwan bohara",
          "Anurag G.C.",
          "Kshitiz poudel",
          "Anup Aryal",
          "Sangam Ranabhat ",
          "Ganesh Parajuli",
          "Pragalbha Acharya",
          "Anil Basnet",
          "Anjan Roka",
          "Avishek Aryal",
          "Nishanta subedi",
          "Aagaman Sharma Pokharel",
          "Abhishek Gautam ",
          "Ankush Jha ",
          "Ram Raj Bajracharya",
          "Neeka Maharjan ",
          "Abhishek Pachhain",
          "Harka Bahadur Pun",
          "Shashank Bhatta",
          "Chandan Sah",
          "Biplob Giri ",
          "Supreme Khadka",
          "Ayush K.C.",
          "Gita Neupane",
          "Dipesh Buddhathoki",
          "Bishal Panta",
          "prabin raj dhunagan",
          "Pratik Jha",
          "Titikshyu Adhikari",
          "Manjila Pandey",
          "Aayush Subedi",
          "Elina Kattel",
          "Chudamani bastola",
          "Nirakar Nepal",
          "Amit Aacharya",
          "Birat Thapa",
          "Aaditya Kumar Jha ",
          "Kripesh Nihure",
          "Rojina Ghimire",
          "Avishekh khadka",
          "Anjal Adhikari",
          "Javed Ansari",
          "Bikash Adhikari ",
          "Samvid Neupane",
          "Anish Poudel",
          "Sandhya Baral",
          "Roshani Poudel",
          "Abhay Gupta",
          "Kaushik bhattarai ",
          "Avahan Tamrakar",
          "Sushil Tamang",
          "Niraj Chaurasia",
          "Nikhil Kc ",
          "Shristee Maharjan ",
          "Rijan Bhandari",
          "Nabin Ghimire",
          "Pushkar Jha ",
          "Rabi Chandra Aryal",
          "Sangam poudel",
          "Samriddhi Suwal",
          "Dibigh Rai",
          "Vinam Kumar Shrestha",
          "Eric Adhikari",
          "Dinanath Padhya",
          "Sonish Poudel",
          "Kshitiz Raj Paudyal",
          "Sugam Dahal",
          "Ankit Neupane",
          "Sajen Maharjan",
          "Krishna Acharya",
          "Mukesh Bhatta",
          "received",
          "Nabin shrestha",
          "Saroj Nagarkoti ",
          "Subash Bhujel",
          "Sharan Shakya",
          "Sailesh Bastola",
          "Santosh Kapri",
          "Ronish Shrestha",
          "Shaswot Poudyal",
          "Manoj Paudel",
          "Prince Poudel",
          "Ashish Kandel ",
          "Sanskriti khatiwada",
          "Rendira Maharjan",
          "Jenish Pant",
          "Devendra panta",
          "Sanjeep Kumar Sharma",
          "Amrit Kandel",
          "Pratik Pokharel",
          "Shreya Dahal",
          "Purushottam Gajurel ",
          "Kishan jaiswal ",
          "Matina Tuladhar",
          "Abhishek Prasad Sah",
          "Sandesh Dhital",
          "Rajesh Parajulu",
          "Lila Devi Karki",
          "Kumbha Oli"
         ]
        }
       ],
       "layout": {
        "legend": {
         "tracegroupgap": 0
        },
        "margin": {
         "t": 60
        },
        "template": {
         "data": {
          "bar": [
           {
            "error_x": {
             "color": "#2a3f5f"
            },
            "error_y": {
             "color": "#2a3f5f"
            },
            "marker": {
             "line": {
              "color": "#E5ECF6",
              "width": 0.5
             },
             "pattern": {
              "fillmode": "overlay",
              "size": 10,
              "solidity": 0.2
             }
            },
            "type": "bar"
           }
          ],
          "barpolar": [
           {
            "marker": {
             "line": {
              "color": "#E5ECF6",
              "width": 0.5
             },
             "pattern": {
              "fillmode": "overlay",
              "size": 10,
              "solidity": 0.2
             }
            },
            "type": "barpolar"
           }
          ],
          "carpet": [
           {
            "aaxis": {
             "endlinecolor": "#2a3f5f",
             "gridcolor": "white",
             "linecolor": "white",
             "minorgridcolor": "white",
             "startlinecolor": "#2a3f5f"
            },
            "baxis": {
             "endlinecolor": "#2a3f5f",
             "gridcolor": "white",
             "linecolor": "white",
             "minorgridcolor": "white",
             "startlinecolor": "#2a3f5f"
            },
            "type": "carpet"
           }
          ],
          "choropleth": [
           {
            "colorbar": {
             "outlinewidth": 0,
             "ticks": ""
            },
            "type": "choropleth"
           }
          ],
          "contour": [
           {
            "colorbar": {
             "outlinewidth": 0,
             "ticks": ""
            },
            "colorscale": [
             [
              0,
              "#0d0887"
             ],
             [
              0.1111111111111111,
              "#46039f"
             ],
             [
              0.2222222222222222,
              "#7201a8"
             ],
             [
              0.3333333333333333,
              "#9c179e"
             ],
             [
              0.4444444444444444,
              "#bd3786"
             ],
             [
              0.5555555555555556,
              "#d8576b"
             ],
             [
              0.6666666666666666,
              "#ed7953"
             ],
             [
              0.7777777777777778,
              "#fb9f3a"
             ],
             [
              0.8888888888888888,
              "#fdca26"
             ],
             [
              1,
              "#f0f921"
             ]
            ],
            "type": "contour"
           }
          ],
          "contourcarpet": [
           {
            "colorbar": {
             "outlinewidth": 0,
             "ticks": ""
            },
            "type": "contourcarpet"
           }
          ],
          "heatmap": [
           {
            "colorbar": {
             "outlinewidth": 0,
             "ticks": ""
            },
            "colorscale": [
             [
              0,
              "#0d0887"
             ],
             [
              0.1111111111111111,
              "#46039f"
             ],
             [
              0.2222222222222222,
              "#7201a8"
             ],
             [
              0.3333333333333333,
              "#9c179e"
             ],
             [
              0.4444444444444444,
              "#bd3786"
             ],
             [
              0.5555555555555556,
              "#d8576b"
             ],
             [
              0.6666666666666666,
              "#ed7953"
             ],
             [
              0.7777777777777778,
              "#fb9f3a"
             ],
             [
              0.8888888888888888,
              "#fdca26"
             ],
             [
              1,
              "#f0f921"
             ]
            ],
            "type": "heatmap"
           }
          ],
          "heatmapgl": [
           {
            "colorbar": {
             "outlinewidth": 0,
             "ticks": ""
            },
            "colorscale": [
             [
              0,
              "#0d0887"
             ],
             [
              0.1111111111111111,
              "#46039f"
             ],
             [
              0.2222222222222222,
              "#7201a8"
             ],
             [
              0.3333333333333333,
              "#9c179e"
             ],
             [
              0.4444444444444444,
              "#bd3786"
             ],
             [
              0.5555555555555556,
              "#d8576b"
             ],
             [
              0.6666666666666666,
              "#ed7953"
             ],
             [
              0.7777777777777778,
              "#fb9f3a"
             ],
             [
              0.8888888888888888,
              "#fdca26"
             ],
             [
              1,
              "#f0f921"
             ]
            ],
            "type": "heatmapgl"
           }
          ],
          "histogram": [
           {
            "marker": {
             "pattern": {
              "fillmode": "overlay",
              "size": 10,
              "solidity": 0.2
             }
            },
            "type": "histogram"
           }
          ],
          "histogram2d": [
           {
            "colorbar": {
             "outlinewidth": 0,
             "ticks": ""
            },
            "colorscale": [
             [
              0,
              "#0d0887"
             ],
             [
              0.1111111111111111,
              "#46039f"
             ],
             [
              0.2222222222222222,
              "#7201a8"
             ],
             [
              0.3333333333333333,
              "#9c179e"
             ],
             [
              0.4444444444444444,
              "#bd3786"
             ],
             [
              0.5555555555555556,
              "#d8576b"
             ],
             [
              0.6666666666666666,
              "#ed7953"
             ],
             [
              0.7777777777777778,
              "#fb9f3a"
             ],
             [
              0.8888888888888888,
              "#fdca26"
             ],
             [
              1,
              "#f0f921"
             ]
            ],
            "type": "histogram2d"
           }
          ],
          "histogram2dcontour": [
           {
            "colorbar": {
             "outlinewidth": 0,
             "ticks": ""
            },
            "colorscale": [
             [
              0,
              "#0d0887"
             ],
             [
              0.1111111111111111,
              "#46039f"
             ],
             [
              0.2222222222222222,
              "#7201a8"
             ],
             [
              0.3333333333333333,
              "#9c179e"
             ],
             [
              0.4444444444444444,
              "#bd3786"
             ],
             [
              0.5555555555555556,
              "#d8576b"
             ],
             [
              0.6666666666666666,
              "#ed7953"
             ],
             [
              0.7777777777777778,
              "#fb9f3a"
             ],
             [
              0.8888888888888888,
              "#fdca26"
             ],
             [
              1,
              "#f0f921"
             ]
            ],
            "type": "histogram2dcontour"
           }
          ],
          "mesh3d": [
           {
            "colorbar": {
             "outlinewidth": 0,
             "ticks": ""
            },
            "type": "mesh3d"
           }
          ],
          "parcoords": [
           {
            "line": {
             "colorbar": {
              "outlinewidth": 0,
              "ticks": ""
             }
            },
            "type": "parcoords"
           }
          ],
          "pie": [
           {
            "automargin": true,
            "type": "pie"
           }
          ],
          "scatter": [
           {
            "fillpattern": {
             "fillmode": "overlay",
             "size": 10,
             "solidity": 0.2
            },
            "type": "scatter"
           }
          ],
          "scatter3d": [
           {
            "line": {
             "colorbar": {
              "outlinewidth": 0,
              "ticks": ""
             }
            },
            "marker": {
             "colorbar": {
              "outlinewidth": 0,
              "ticks": ""
             }
            },
            "type": "scatter3d"
           }
          ],
          "scattercarpet": [
           {
            "marker": {
             "colorbar": {
              "outlinewidth": 0,
              "ticks": ""
             }
            },
            "type": "scattercarpet"
           }
          ],
          "scattergeo": [
           {
            "marker": {
             "colorbar": {
              "outlinewidth": 0,
              "ticks": ""
             }
            },
            "type": "scattergeo"
           }
          ],
          "scattergl": [
           {
            "marker": {
             "colorbar": {
              "outlinewidth": 0,
              "ticks": ""
             }
            },
            "type": "scattergl"
           }
          ],
          "scattermapbox": [
           {
            "marker": {
             "colorbar": {
              "outlinewidth": 0,
              "ticks": ""
             }
            },
            "type": "scattermapbox"
           }
          ],
          "scatterpolar": [
           {
            "marker": {
             "colorbar": {
              "outlinewidth": 0,
              "ticks": ""
             }
            },
            "type": "scatterpolar"
           }
          ],
          "scatterpolargl": [
           {
            "marker": {
             "colorbar": {
              "outlinewidth": 0,
              "ticks": ""
             }
            },
            "type": "scatterpolargl"
           }
          ],
          "scatterternary": [
           {
            "marker": {
             "colorbar": {
              "outlinewidth": 0,
              "ticks": ""
             }
            },
            "type": "scatterternary"
           }
          ],
          "surface": [
           {
            "colorbar": {
             "outlinewidth": 0,
             "ticks": ""
            },
            "colorscale": [
             [
              0,
              "#0d0887"
             ],
             [
              0.1111111111111111,
              "#46039f"
             ],
             [
              0.2222222222222222,
              "#7201a8"
             ],
             [
              0.3333333333333333,
              "#9c179e"
             ],
             [
              0.4444444444444444,
              "#bd3786"
             ],
             [
              0.5555555555555556,
              "#d8576b"
             ],
             [
              0.6666666666666666,
              "#ed7953"
             ],
             [
              0.7777777777777778,
              "#fb9f3a"
             ],
             [
              0.8888888888888888,
              "#fdca26"
             ],
             [
              1,
              "#f0f921"
             ]
            ],
            "type": "surface"
           }
          ],
          "table": [
           {
            "cells": {
             "fill": {
              "color": "#EBF0F8"
             },
             "line": {
              "color": "white"
             }
            },
            "header": {
             "fill": {
              "color": "#C8D4E3"
             },
             "line": {
              "color": "white"
             }
            },
            "type": "table"
           }
          ]
         },
         "layout": {
          "annotationdefaults": {
           "arrowcolor": "#2a3f5f",
           "arrowhead": 0,
           "arrowwidth": 1
          },
          "autotypenumbers": "strict",
          "coloraxis": {
           "colorbar": {
            "outlinewidth": 0,
            "ticks": ""
           }
          },
          "colorscale": {
           "diverging": [
            [
             0,
             "#8e0152"
            ],
            [
             0.1,
             "#c51b7d"
            ],
            [
             0.2,
             "#de77ae"
            ],
            [
             0.3,
             "#f1b6da"
            ],
            [
             0.4,
             "#fde0ef"
            ],
            [
             0.5,
             "#f7f7f7"
            ],
            [
             0.6,
             "#e6f5d0"
            ],
            [
             0.7,
             "#b8e186"
            ],
            [
             0.8,
             "#7fbc41"
            ],
            [
             0.9,
             "#4d9221"
            ],
            [
             1,
             "#276419"
            ]
           ],
           "sequential": [
            [
             0,
             "#0d0887"
            ],
            [
             0.1111111111111111,
             "#46039f"
            ],
            [
             0.2222222222222222,
             "#7201a8"
            ],
            [
             0.3333333333333333,
             "#9c179e"
            ],
            [
             0.4444444444444444,
             "#bd3786"
            ],
            [
             0.5555555555555556,
             "#d8576b"
            ],
            [
             0.6666666666666666,
             "#ed7953"
            ],
            [
             0.7777777777777778,
             "#fb9f3a"
            ],
            [
             0.8888888888888888,
             "#fdca26"
            ],
            [
             1,
             "#f0f921"
            ]
           ],
           "sequentialminus": [
            [
             0,
             "#0d0887"
            ],
            [
             0.1111111111111111,
             "#46039f"
            ],
            [
             0.2222222222222222,
             "#7201a8"
            ],
            [
             0.3333333333333333,
             "#9c179e"
            ],
            [
             0.4444444444444444,
             "#bd3786"
            ],
            [
             0.5555555555555556,
             "#d8576b"
            ],
            [
             0.6666666666666666,
             "#ed7953"
            ],
            [
             0.7777777777777778,
             "#fb9f3a"
            ],
            [
             0.8888888888888888,
             "#fdca26"
            ],
            [
             1,
             "#f0f921"
            ]
           ]
          },
          "colorway": [
           "#636efa",
           "#EF553B",
           "#00cc96",
           "#ab63fa",
           "#FFA15A",
           "#19d3f3",
           "#FF6692",
           "#B6E880",
           "#FF97FF",
           "#FECB52"
          ],
          "font": {
           "color": "#2a3f5f"
          },
          "geo": {
           "bgcolor": "white",
           "lakecolor": "white",
           "landcolor": "#E5ECF6",
           "showlakes": true,
           "showland": true,
           "subunitcolor": "white"
          },
          "hoverlabel": {
           "align": "left"
          },
          "hovermode": "closest",
          "mapbox": {
           "style": "light"
          },
          "paper_bgcolor": "white",
          "plot_bgcolor": "#E5ECF6",
          "polar": {
           "angularaxis": {
            "gridcolor": "white",
            "linecolor": "white",
            "ticks": ""
           },
           "bgcolor": "#E5ECF6",
           "radialaxis": {
            "gridcolor": "white",
            "linecolor": "white",
            "ticks": ""
           }
          },
          "scene": {
           "xaxis": {
            "backgroundcolor": "#E5ECF6",
            "gridcolor": "white",
            "gridwidth": 2,
            "linecolor": "white",
            "showbackground": true,
            "ticks": "",
            "zerolinecolor": "white"
           },
           "yaxis": {
            "backgroundcolor": "#E5ECF6",
            "gridcolor": "white",
            "gridwidth": 2,
            "linecolor": "white",
            "showbackground": true,
            "ticks": "",
            "zerolinecolor": "white"
           },
           "zaxis": {
            "backgroundcolor": "#E5ECF6",
            "gridcolor": "white",
            "gridwidth": 2,
            "linecolor": "white",
            "showbackground": true,
            "ticks": "",
            "zerolinecolor": "white"
           }
          },
          "shapedefaults": {
           "line": {
            "color": "#2a3f5f"
           }
          },
          "ternary": {
           "aaxis": {
            "gridcolor": "white",
            "linecolor": "white",
            "ticks": ""
           },
           "baxis": {
            "gridcolor": "white",
            "linecolor": "white",
            "ticks": ""
           },
           "bgcolor": "#E5ECF6",
           "caxis": {
            "gridcolor": "white",
            "linecolor": "white",
            "ticks": ""
           }
          },
          "title": {
           "x": 0.05
          },
          "xaxis": {
           "automargin": true,
           "gridcolor": "white",
           "linecolor": "white",
           "ticks": "",
           "title": {
            "standoff": 15
           },
           "zerolinecolor": "white",
           "zerolinewidth": 2
          },
          "yaxis": {
           "automargin": true,
           "gridcolor": "white",
           "linecolor": "white",
           "ticks": "",
           "title": {
            "standoff": 15
           },
           "zerolinecolor": "white",
           "zerolinewidth": 2
          }
         }
        }
       }
      }
     },
     "metadata": {},
     "output_type": "display_data"
    }
   ],
   "source": [
    "px.pie(df,values='Count',names='Stream')"
   ]
  },
  {
   "cell_type": "markdown",
   "metadata": {},
   "source": []
  },
  {
   "cell_type": "markdown",
   "metadata": {},
   "source": []
  }
 ],
 "metadata": {
  "kernelspec": {
   "display_name": "Python 3.8.10 64-bit",
   "language": "python",
   "name": "python3"
  },
  "language_info": {
   "codemirror_mode": {
    "name": "ipython",
    "version": 3
   },
   "file_extension": ".py",
   "mimetype": "text/x-python",
   "name": "python",
   "nbconvert_exporter": "python",
   "pygments_lexer": "ipython3",
   "version": "3.8.10"
  },
  "orig_nbformat": 4,
  "vscode": {
   "interpreter": {
    "hash": "31f2aee4e71d21fbe5cf8b01ff0e069b9275f58929596ceb00d14d90e3e16cd6"
   }
  }
 },
 "nbformat": 4,
 "nbformat_minor": 2
}
